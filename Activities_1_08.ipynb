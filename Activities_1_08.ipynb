{
  "nbformat": 4,
  "nbformat_minor": 0,
  "metadata": {
    "colab": {
      "provenance": [],
      "authorship_tag": "ABX9TyOIDDpJc1g+Xbd+hLrBaMTq",
      "include_colab_link": true
    },
    "kernelspec": {
      "name": "python3",
      "display_name": "Python 3"
    },
    "language_info": {
      "name": "python"
    }
  },
  "cells": [
    {
      "cell_type": "markdown",
      "metadata": {
        "id": "view-in-github",
        "colab_type": "text"
      },
      "source": [
        "<a href=\"https://colab.research.google.com/github/diegomarlop/Actiivities_IH/blob/main/Activities_1_08.ipynb\" target=\"_parent\"><img src=\"https://colab.research.google.com/assets/colab-badge.svg\" alt=\"Open In Colab\"/></a>"
      ]
    },
    {
      "cell_type": "markdown",
      "source": [
        "#Activities 1.08\n",
        "##Activity 1\n",
        "\n",
        "Do you think it is important to reduce the number of categories in a column if you can? How might it impact your model?\n",
        "\n",
        "Discussion on reducing the number of categories in a column."
      ],
      "metadata": {
        "id": "wb4iiPB_PUoF"
      }
    },
    {
      "cell_type": "code",
      "execution_count": null,
      "metadata": {
        "id": "-bH61cjFPSVm"
      },
      "outputs": [],
      "source": []
    },
    {
      "cell_type": "markdown",
      "source": [
        "##Activity 2\n",
        "Refer to the file files_for_activities/regression_data___.csv for this exercise.\n",
        "\n",
        "1. Import the data from regression_data___.csv.\n",
        "2. Select categorical columns.\n",
        "3. Difference between One Hot Encoding, Label Encoding, and Ordinal Encoding."
      ],
      "metadata": {
        "id": "YkuaQoQHQAsT"
      }
    },
    {
      "cell_type": "code",
      "source": [
        "import pandas as pd\n",
        "import numpy as np\n",
        "from sklearn.preprocessing import OneHotEncoder\n",
        "from sklearn import preprocessing\n",
        "import warnings\n",
        "warnings.filterwarnings('ignore')\n",
        "from sklearn.model_selection import train_test_split"
      ],
      "metadata": {
        "id": "2wMF9Qa0PT28"
      },
      "execution_count": 12,
      "outputs": []
    },
    {
      "cell_type": "code",
      "source": [
        "data = pd.read_csv('regression_data___.csv')"
      ],
      "metadata": {
        "id": "qaFj48cYPT5R"
      },
      "execution_count": 3,
      "outputs": []
    },
    {
      "cell_type": "code",
      "source": [
        "data"
      ],
      "metadata": {
        "colab": {
          "base_uri": "https://localhost:8080/",
          "height": 424
        },
        "id": "KSPbs8-GQuKU",
        "outputId": "622abd7f-3692-4f51-9e97-a103c3ad071e"
      },
      "execution_count": 4,
      "outputs": [
        {
          "output_type": "execute_result",
          "data": {
            "text/plain": [
              "        AVGGIFT   HV1_log  IC1_transformed  IC5_transformed  gender  TARGET_D\n",
              "0     15.500000  7.760467        17.343389         4.181353    Male      21.0\n",
              "1      3.080000  6.208590        16.230984         4.150313    Male       3.0\n",
              "2      7.500000  7.113956        18.047227         4.205057  Female      20.0\n",
              "3      6.700000  5.783825        11.737110         4.055333    Male       5.0\n",
              "4      8.785714  6.643790        12.494862         4.088969  Female      10.0\n",
              "...         ...       ...              ...              ...     ...       ...\n",
              "4665  15.500000  6.552508        15.280561         4.187901    Male      25.0\n",
              "4666  11.857143  8.118803        15.029617         4.248632    Male      19.0\n",
              "4667  11.333333  6.551080        15.742430         4.179506  Female      10.0\n",
              "4668  13.000000  6.398595        13.326031         4.124159    Male      25.0\n",
              "4669  17.923077  6.823286        17.417748         4.256304    Male      25.0\n",
              "\n",
              "[4670 rows x 6 columns]"
            ],
            "text/html": [
              "\n",
              "  <div id=\"df-ac8a1418-848f-4ed7-b9c2-114adb33e182\">\n",
              "    <div class=\"colab-df-container\">\n",
              "      <div>\n",
              "<style scoped>\n",
              "    .dataframe tbody tr th:only-of-type {\n",
              "        vertical-align: middle;\n",
              "    }\n",
              "\n",
              "    .dataframe tbody tr th {\n",
              "        vertical-align: top;\n",
              "    }\n",
              "\n",
              "    .dataframe thead th {\n",
              "        text-align: right;\n",
              "    }\n",
              "</style>\n",
              "<table border=\"1\" class=\"dataframe\">\n",
              "  <thead>\n",
              "    <tr style=\"text-align: right;\">\n",
              "      <th></th>\n",
              "      <th>AVGGIFT</th>\n",
              "      <th>HV1_log</th>\n",
              "      <th>IC1_transformed</th>\n",
              "      <th>IC5_transformed</th>\n",
              "      <th>gender</th>\n",
              "      <th>TARGET_D</th>\n",
              "    </tr>\n",
              "  </thead>\n",
              "  <tbody>\n",
              "    <tr>\n",
              "      <th>0</th>\n",
              "      <td>15.500000</td>\n",
              "      <td>7.760467</td>\n",
              "      <td>17.343389</td>\n",
              "      <td>4.181353</td>\n",
              "      <td>Male</td>\n",
              "      <td>21.0</td>\n",
              "    </tr>\n",
              "    <tr>\n",
              "      <th>1</th>\n",
              "      <td>3.080000</td>\n",
              "      <td>6.208590</td>\n",
              "      <td>16.230984</td>\n",
              "      <td>4.150313</td>\n",
              "      <td>Male</td>\n",
              "      <td>3.0</td>\n",
              "    </tr>\n",
              "    <tr>\n",
              "      <th>2</th>\n",
              "      <td>7.500000</td>\n",
              "      <td>7.113956</td>\n",
              "      <td>18.047227</td>\n",
              "      <td>4.205057</td>\n",
              "      <td>Female</td>\n",
              "      <td>20.0</td>\n",
              "    </tr>\n",
              "    <tr>\n",
              "      <th>3</th>\n",
              "      <td>6.700000</td>\n",
              "      <td>5.783825</td>\n",
              "      <td>11.737110</td>\n",
              "      <td>4.055333</td>\n",
              "      <td>Male</td>\n",
              "      <td>5.0</td>\n",
              "    </tr>\n",
              "    <tr>\n",
              "      <th>4</th>\n",
              "      <td>8.785714</td>\n",
              "      <td>6.643790</td>\n",
              "      <td>12.494862</td>\n",
              "      <td>4.088969</td>\n",
              "      <td>Female</td>\n",
              "      <td>10.0</td>\n",
              "    </tr>\n",
              "    <tr>\n",
              "      <th>...</th>\n",
              "      <td>...</td>\n",
              "      <td>...</td>\n",
              "      <td>...</td>\n",
              "      <td>...</td>\n",
              "      <td>...</td>\n",
              "      <td>...</td>\n",
              "    </tr>\n",
              "    <tr>\n",
              "      <th>4665</th>\n",
              "      <td>15.500000</td>\n",
              "      <td>6.552508</td>\n",
              "      <td>15.280561</td>\n",
              "      <td>4.187901</td>\n",
              "      <td>Male</td>\n",
              "      <td>25.0</td>\n",
              "    </tr>\n",
              "    <tr>\n",
              "      <th>4666</th>\n",
              "      <td>11.857143</td>\n",
              "      <td>8.118803</td>\n",
              "      <td>15.029617</td>\n",
              "      <td>4.248632</td>\n",
              "      <td>Male</td>\n",
              "      <td>19.0</td>\n",
              "    </tr>\n",
              "    <tr>\n",
              "      <th>4667</th>\n",
              "      <td>11.333333</td>\n",
              "      <td>6.551080</td>\n",
              "      <td>15.742430</td>\n",
              "      <td>4.179506</td>\n",
              "      <td>Female</td>\n",
              "      <td>10.0</td>\n",
              "    </tr>\n",
              "    <tr>\n",
              "      <th>4668</th>\n",
              "      <td>13.000000</td>\n",
              "      <td>6.398595</td>\n",
              "      <td>13.326031</td>\n",
              "      <td>4.124159</td>\n",
              "      <td>Male</td>\n",
              "      <td>25.0</td>\n",
              "    </tr>\n",
              "    <tr>\n",
              "      <th>4669</th>\n",
              "      <td>17.923077</td>\n",
              "      <td>6.823286</td>\n",
              "      <td>17.417748</td>\n",
              "      <td>4.256304</td>\n",
              "      <td>Male</td>\n",
              "      <td>25.0</td>\n",
              "    </tr>\n",
              "  </tbody>\n",
              "</table>\n",
              "<p>4670 rows × 6 columns</p>\n",
              "</div>\n",
              "      <button class=\"colab-df-convert\" onclick=\"convertToInteractive('df-ac8a1418-848f-4ed7-b9c2-114adb33e182')\"\n",
              "              title=\"Convert this dataframe to an interactive table.\"\n",
              "              style=\"display:none;\">\n",
              "        \n",
              "  <svg xmlns=\"http://www.w3.org/2000/svg\" height=\"24px\"viewBox=\"0 0 24 24\"\n",
              "       width=\"24px\">\n",
              "    <path d=\"M0 0h24v24H0V0z\" fill=\"none\"/>\n",
              "    <path d=\"M18.56 5.44l.94 2.06.94-2.06 2.06-.94-2.06-.94-.94-2.06-.94 2.06-2.06.94zm-11 1L8.5 8.5l.94-2.06 2.06-.94-2.06-.94L8.5 2.5l-.94 2.06-2.06.94zm10 10l.94 2.06.94-2.06 2.06-.94-2.06-.94-.94-2.06-.94 2.06-2.06.94z\"/><path d=\"M17.41 7.96l-1.37-1.37c-.4-.4-.92-.59-1.43-.59-.52 0-1.04.2-1.43.59L10.3 9.45l-7.72 7.72c-.78.78-.78 2.05 0 2.83L4 21.41c.39.39.9.59 1.41.59.51 0 1.02-.2 1.41-.59l7.78-7.78 2.81-2.81c.8-.78.8-2.07 0-2.86zM5.41 20L4 18.59l7.72-7.72 1.47 1.35L5.41 20z\"/>\n",
              "  </svg>\n",
              "      </button>\n",
              "      \n",
              "  <style>\n",
              "    .colab-df-container {\n",
              "      display:flex;\n",
              "      flex-wrap:wrap;\n",
              "      gap: 12px;\n",
              "    }\n",
              "\n",
              "    .colab-df-convert {\n",
              "      background-color: #E8F0FE;\n",
              "      border: none;\n",
              "      border-radius: 50%;\n",
              "      cursor: pointer;\n",
              "      display: none;\n",
              "      fill: #1967D2;\n",
              "      height: 32px;\n",
              "      padding: 0 0 0 0;\n",
              "      width: 32px;\n",
              "    }\n",
              "\n",
              "    .colab-df-convert:hover {\n",
              "      background-color: #E2EBFA;\n",
              "      box-shadow: 0px 1px 2px rgba(60, 64, 67, 0.3), 0px 1px 3px 1px rgba(60, 64, 67, 0.15);\n",
              "      fill: #174EA6;\n",
              "    }\n",
              "\n",
              "    [theme=dark] .colab-df-convert {\n",
              "      background-color: #3B4455;\n",
              "      fill: #D2E3FC;\n",
              "    }\n",
              "\n",
              "    [theme=dark] .colab-df-convert:hover {\n",
              "      background-color: #434B5C;\n",
              "      box-shadow: 0px 1px 3px 1px rgba(0, 0, 0, 0.15);\n",
              "      filter: drop-shadow(0px 1px 2px rgba(0, 0, 0, 0.3));\n",
              "      fill: #FFFFFF;\n",
              "    }\n",
              "  </style>\n",
              "\n",
              "      <script>\n",
              "        const buttonEl =\n",
              "          document.querySelector('#df-ac8a1418-848f-4ed7-b9c2-114adb33e182 button.colab-df-convert');\n",
              "        buttonEl.style.display =\n",
              "          google.colab.kernel.accessAllowed ? 'block' : 'none';\n",
              "\n",
              "        async function convertToInteractive(key) {\n",
              "          const element = document.querySelector('#df-ac8a1418-848f-4ed7-b9c2-114adb33e182');\n",
              "          const dataTable =\n",
              "            await google.colab.kernel.invokeFunction('convertToInteractive',\n",
              "                                                     [key], {});\n",
              "          if (!dataTable) return;\n",
              "\n",
              "          const docLinkHtml = 'Like what you see? Visit the ' +\n",
              "            '<a target=\"_blank\" href=https://colab.research.google.com/notebooks/data_table.ipynb>data table notebook</a>'\n",
              "            + ' to learn more about interactive tables.';\n",
              "          element.innerHTML = '';\n",
              "          dataTable['output_type'] = 'display_data';\n",
              "          await google.colab.output.renderOutput(dataTable, element);\n",
              "          const docLink = document.createElement('div');\n",
              "          docLink.innerHTML = docLinkHtml;\n",
              "          element.appendChild(docLink);\n",
              "        }\n",
              "      </script>\n",
              "    </div>\n",
              "  </div>\n",
              "  "
            ]
          },
          "metadata": {},
          "execution_count": 4
        }
      ]
    },
    {
      "cell_type": "code",
      "source": [
        "data['gender'].unique()"
      ],
      "metadata": {
        "colab": {
          "base_uri": "https://localhost:8080/"
        },
        "id": "tkqkZhBWPT7Y",
        "outputId": "ed7a173e-82b4-44d2-e19d-4a3bfdaf253f"
      },
      "execution_count": 5,
      "outputs": [
        {
          "output_type": "execute_result",
          "data": {
            "text/plain": [
              "array(['Male', 'Female', 'U'], dtype=object)"
            ]
          },
          "metadata": {},
          "execution_count": 5
        }
      ]
    },
    {
      "cell_type": "code",
      "source": [
        "y=data['TARGET_D']\n",
        "X=data.drop('TARGET_D',axis=1)"
      ],
      "metadata": {
        "id": "X51DAcy0PT9s"
      },
      "execution_count": 6,
      "outputs": []
    },
    {
      "cell_type": "code",
      "source": [
        "X_num = X.select_dtypes(include=np.number)\n",
        "X_cat = X.select_dtypes(include=np.object)"
      ],
      "metadata": {
        "colab": {
          "base_uri": "https://localhost:8080/"
        },
        "id": "caqwOP2lPT_V",
        "outputId": "bc3d75f5-57d8-4428-b39a-6aa12f7d7d4b"
      },
      "execution_count": 7,
      "outputs": [
        {
          "output_type": "stream",
          "name": "stderr",
          "text": [
            "<ipython-input-7-27b02f0cea58>:2: DeprecationWarning: `np.object` is a deprecated alias for the builtin `object`. To silence this warning, use `object` by itself. Doing this will not modify any behavior and is safe. \n",
            "Deprecated in NumPy 1.20; for more details and guidance: https://numpy.org/devdocs/release/1.20.0-notes.html#deprecations\n",
            "  X_cat = X.select_dtypes(include=np.object)\n"
          ]
        }
      ]
    },
    {
      "cell_type": "code",
      "source": [
        "X_cat"
      ],
      "metadata": {
        "id": "_COuzOdKPUB0"
      },
      "execution_count": null,
      "outputs": []
    },
    {
      "cell_type": "code",
      "source": [
        "#suponiendo que el mejor proceso para lo numérico es normalizar o estamos probando con diferentes transformaciones \n",
        "from sklearn.preprocessing import Normalizer\n",
        "transformer =Normalizer().fit(X_num)\n",
        "x_norm=transformer.transform(X_num)"
      ],
      "metadata": {
        "id": "b2m5nVN6PUD7"
      },
      "execution_count": 9,
      "outputs": []
    },
    {
      "cell_type": "code",
      "source": [
        "#Este es el metodo de OneHote\n",
        "encoder=OneHotEncoder(drop='first').fit(X_cat)\n",
        "encoder=encoder.transform(X_cat).toarray()\n",
        "encoder"
      ],
      "metadata": {
        "colab": {
          "base_uri": "https://localhost:8080/"
        },
        "id": "AbrHiiOAPUFg",
        "outputId": "3a1243ce-13b3-450b-c5cd-5293c8610c87"
      },
      "execution_count": 10,
      "outputs": [
        {
          "output_type": "execute_result",
          "data": {
            "text/plain": [
              "array([[1., 0.],\n",
              "       [1., 0.],\n",
              "       [0., 0.],\n",
              "       ...,\n",
              "       [0., 0.],\n",
              "       [1., 0.],\n",
              "       [1., 0.]])"
            ]
          },
          "metadata": {},
          "execution_count": 10
        }
      ]
    },
    {
      "cell_type": "code",
      "source": [
        "#Este de labelEncoder\n",
        "from sklearn import preprocessing\n",
        "labels = preprocessing.LabelEncoder().fit(X_cat).transform(X_cat)\n",
        "labels"
      ],
      "metadata": {
        "colab": {
          "base_uri": "https://localhost:8080/"
        },
        "id": "xh_byaIxPUHc",
        "outputId": "e02cf6bc-c993-4fd3-c06e-0f284ac25db7"
      },
      "execution_count": 13,
      "outputs": [
        {
          "output_type": "execute_result",
          "data": {
            "text/plain": [
              "array([1, 1, 0, ..., 0, 1, 1])"
            ]
          },
          "metadata": {},
          "execution_count": 13
        }
      ]
    },
    {
      "cell_type": "code",
      "source": [
        "#Este el de OrdinalEncoder\n",
        "labels2 = preprocessing.OrdinalEncoder().fit(X_cat).transform(X_cat)\n",
        "labels2"
      ],
      "metadata": {
        "colab": {
          "base_uri": "https://localhost:8080/"
        },
        "id": "X49Cr6BYTl5j",
        "outputId": "0872fccc-bc9c-4dc3-aa98-ae574e2eb405"
      },
      "execution_count": 14,
      "outputs": [
        {
          "output_type": "execute_result",
          "data": {
            "text/plain": [
              "array([[1.],\n",
              "       [1.],\n",
              "       [0.],\n",
              "       ...,\n",
              "       [0.],\n",
              "       [1.],\n",
              "       [1.]])"
            ]
          },
          "metadata": {},
          "execution_count": 14
        }
      ]
    },
    {
      "cell_type": "markdown",
      "source": [
        "## Activity 3\n",
        "Check the difference between MSE and RMSE. Which one is bigger? Does it matter?\n",
        "\n",
        "There is another measure of accuracy called \"adjusted R-square\". How is this different from R-square?\n",
        "\n",
        "Read this [article](https://blog.minitab.com/en/adventures-in-statistics-2/multiple-regession-analysis-use-adjusted-r-squared-and-predicted-r-squared-to-include-the-correct-number-of-variables) and let's discuss it in class."
      ],
      "metadata": {
        "id": "ydhRBYJkUVB0"
      }
    },
    {
      "cell_type": "code",
      "source": [
        "#ahora vamos a concatenar nuestra info primitivamente numérica, junto con la nueva numérica que viene de las categorías\n",
        "\n",
        "#Vamos a elegir la OneHot\n",
        "X=np.concatenate((x_norm,encoder),axis=1)"
      ],
      "metadata": {
        "id": "0VwgLxrvUrs9"
      },
      "execution_count": 15,
      "outputs": []
    },
    {
      "cell_type": "code",
      "source": [
        "X"
      ],
      "metadata": {
        "colab": {
          "base_uri": "https://localhost:8080/"
        },
        "id": "5zFDMHgQZle1",
        "outputId": "3e8f3d89-81d6-4898-9889-82f2efda9ff7"
      },
      "execution_count": 16,
      "outputs": [
        {
          "output_type": "execute_result",
          "data": {
            "text/plain": [
              "array([[0.62312259, 0.31198208, 0.69722951, 0.16809648, 1.        ,\n",
              "        0.        ],\n",
              "       [0.16988261, 0.34244528, 0.89524739, 0.22891755, 1.        ,\n",
              "        0.        ],\n",
              "       [0.35345786, 0.3352645 , 0.85052457, 0.19817472, 0.        ,\n",
              "        0.        ],\n",
              "       ...,\n",
              "       [0.54236194, 0.313505  , 0.75336132, 0.20001218, 0.        ,\n",
              "        0.        ],\n",
              "       [0.6463473 , 0.31813189, 0.66255726, 0.20504914, 1.        ,\n",
              "        0.        ],\n",
              "       [0.68267219, 0.25989219, 0.66342472, 0.16211839, 1.        ,\n",
              "        0.        ]])"
            ]
          },
          "metadata": {},
          "execution_count": 16
        }
      ]
    },
    {
      "cell_type": "code",
      "source": [
        "#lo que vamos a hacer ahora, es separa el arreglo X en un % para entrenar un modelo y otro % para ponerlo a prueba\n",
        "#recordando que y=data['TARGET_D]\n",
        "from sklearn.model_selection import train_test_split\n",
        "#un rango aceptable para probar un modelo es que el test_size sea entre 30% al 10%, lo más nomral es 20% al 25%\n",
        "\n",
        "#podemos tener un control de la selección aleatoria para que siempre sea la misma selección aleatoria\n",
        "#no importa cuantas veces corramos esta celda con random state\n",
        "X_train,X_test,y_train,y_test=train_test_split(X,y,test_size=0.2,random_state=5)\n",
        "\n",
        "#El sampleo lo hace de manera aleatoria"
      ],
      "metadata": {
        "id": "ZVOOnZ7PZlia"
      },
      "execution_count": 17,
      "outputs": []
    },
    {
      "cell_type": "code",
      "source": [
        "len(X_train)# Aqui podemos ver que la longitud de X_train es del 80% del total de los datos "
      ],
      "metadata": {
        "colab": {
          "base_uri": "https://localhost:8080/"
        },
        "id": "QNMF3pbqZlju",
        "outputId": "6784dd29-530e-4335-cecf-dd43d51537db"
      },
      "execution_count": 18,
      "outputs": [
        {
          "output_type": "execute_result",
          "data": {
            "text/plain": [
              "3736"
            ]
          },
          "metadata": {},
          "execution_count": 18
        }
      ]
    },
    {
      "cell_type": "code",
      "source": [
        "len(X_num)#Aqui tenemos el total"
      ],
      "metadata": {
        "colab": {
          "base_uri": "https://localhost:8080/"
        },
        "id": "TzmBxANsZzbw",
        "outputId": "dc86a201-c61d-42a5-f556-81a806761bb6"
      },
      "execution_count": 19,
      "outputs": [
        {
          "output_type": "execute_result",
          "data": {
            "text/plain": [
              "4670"
            ]
          },
          "metadata": {},
          "execution_count": 19
        }
      ]
    },
    {
      "cell_type": "code",
      "source": [
        "len(X_test)#Aqui tenemos el restante 20%"
      ],
      "metadata": {
        "colab": {
          "base_uri": "https://localhost:8080/"
        },
        "id": "8-sSVncWZzdV",
        "outputId": "5816632b-0c96-4edb-d0c8-086868375f84"
      },
      "execution_count": 20,
      "outputs": [
        {
          "output_type": "execute_result",
          "data": {
            "text/plain": [
              "934"
            ]
          },
          "metadata": {},
          "execution_count": 20
        }
      ]
    },
    {
      "cell_type": "code",
      "source": [
        "#por fin haciendo el modelo lineal, con unna regresión\n",
        "from sklearn import linear_model\n",
        "lm=linear_model.LinearRegression()\n",
        "\n",
        "#Aquí ya ajustamos la maquinaria rpevia\n",
        "model=lm.fit(X_train,y_train)"
      ],
      "metadata": {
        "id": "8yUbh0PFZzeU"
      },
      "execution_count": 21,
      "outputs": []
    },
    {
      "cell_type": "code",
      "source": [
        "predictions=lm.predict(X_test)"
      ],
      "metadata": {
        "id": "ZeT_FJ39Zz04"
      },
      "execution_count": 22,
      "outputs": []
    },
    {
      "cell_type": "code",
      "source": [
        "predictions[:10]"
      ],
      "metadata": {
        "colab": {
          "base_uri": "https://localhost:8080/"
        },
        "id": "9l2B-KR5Zz3w",
        "outputId": "76dfc898-6243-4ee9-9fdd-9008aa8dd63a"
      },
      "execution_count": 23,
      "outputs": [
        {
          "output_type": "execute_result",
          "data": {
            "text/plain": [
              "array([ 7.36806692,  6.31060605, 16.52810908, 15.36381862, 18.16153652,\n",
              "       10.66650874, 10.63267327,  6.14040698,  7.24972453, 19.88459948])"
            ]
          },
          "metadata": {},
          "execution_count": 23
        }
      ]
    },
    {
      "cell_type": "code",
      "source": [
        "y_test[:10]"
      ],
      "metadata": {
        "colab": {
          "base_uri": "https://localhost:8080/"
        },
        "id": "dgPNOiL0a_1A",
        "outputId": "c7e0ead4-20f9-41b4-c4fb-71d1b7d22080"
      },
      "execution_count": 24,
      "outputs": [
        {
          "output_type": "execute_result",
          "data": {
            "text/plain": [
              "2932     5.0\n",
              "3535     4.0\n",
              "2834    10.0\n",
              "2960     5.0\n",
              "4612    21.0\n",
              "4483     3.0\n",
              "417     10.0\n",
              "975      4.0\n",
              "2059     5.0\n",
              "4350    10.0\n",
              "Name: TARGET_D, dtype: float64"
            ]
          },
          "metadata": {},
          "execution_count": 24
        }
      ]
    },
    {
      "cell_type": "code",
      "source": [
        "#Aquí calculamos el r^2 que nos dice qué tanto se aproximan los datos reales a la recta calculada\n",
        "from sklearn.metrics import mean_squared_error, r2_score\n",
        "r2_score(y_test,predictions)"
      ],
      "metadata": {
        "colab": {
          "base_uri": "https://localhost:8080/"
        },
        "id": "EU_1DgI1a_4n",
        "outputId": "63fe58bf-8837-4a7e-ca25-b1b4b2989027"
      },
      "execution_count": 26,
      "outputs": [
        {
          "output_type": "execute_result",
          "data": {
            "text/plain": [
              "0.47761993995399155"
            ]
          },
          "metadata": {},
          "execution_count": 26
        }
      ]
    },
    {
      "cell_type": "code",
      "source": [
        "mse=mean_squared_error(y_test,predictions)\n",
        "print(mse)"
      ],
      "metadata": {
        "colab": {
          "base_uri": "https://localhost:8080/"
        },
        "id": "w19zT5gWc27-",
        "outputId": "a39eca0e-cff6-446c-f8a2-8decda5b4918"
      },
      "execution_count": 28,
      "outputs": [
        {
          "output_type": "stream",
          "name": "stdout",
          "text": [
            "52.77716601601956\n"
          ]
        }
      ]
    },
    {
      "cell_type": "code",
      "source": [
        "#RMSE\n",
        "import math\n",
        "rmse=math.sqrt(mse)\n",
        "rmse"
      ],
      "metadata": {
        "colab": {
          "base_uri": "https://localhost:8080/"
        },
        "id": "MlpEKa-MdB33",
        "outputId": "552255b1-0f14-4dc3-b828-7df0fed9a08a"
      },
      "execution_count": 31,
      "outputs": [
        {
          "output_type": "execute_result",
          "data": {
            "text/plain": [
              "7.264789468113963"
            ]
          },
          "metadata": {},
          "execution_count": 31
        }
      ]
    }
  ]
}