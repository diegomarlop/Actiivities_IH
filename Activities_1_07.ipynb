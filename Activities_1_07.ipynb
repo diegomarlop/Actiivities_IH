{
  "nbformat": 4,
  "nbformat_minor": 0,
  "metadata": {
    "colab": {
      "provenance": [],
      "authorship_tag": "ABX9TyNVXJWwsvaoE35RODuWIrQz",
      "include_colab_link": true
    },
    "kernelspec": {
      "name": "python3",
      "display_name": "Python 3"
    },
    "language_info": {
      "name": "python"
    }
  },
  "cells": [
    {
      "cell_type": "markdown",
      "metadata": {
        "id": "view-in-github",
        "colab_type": "text"
      },
      "source": [
        "<a href=\"https://colab.research.google.com/github/diegomarlop/Actiivities_IH/blob/main/Activities_1_07.ipynb\" target=\"_parent\"><img src=\"https://colab.research.google.com/assets/colab-badge.svg\" alt=\"Open In Colab\"/></a>"
      ]
    },
    {
      "cell_type": "markdown",
      "source": [
        "# Activities 1.07\n",
        "\n",
        "## Activity 1\n",
        "\n",
        "Refer to the files_for_activities/regression_data1.csv file. (The same file used in the class example.)\n",
        "\n",
        "1. Draw a box plot for the IC2.\n",
        "2. Print the descriptive statistics for IC2.\n",
        "3. Remove the outliers from the column IC2.\n",
        "\n"
      ],
      "metadata": {
        "id": "ksAcGbpP1Df_"
      }
    },
    {
      "cell_type": "code",
      "execution_count": 2,
      "metadata": {
        "id": "x6QpZhAx09_t"
      },
      "outputs": [],
      "source": [
        "import pandas as pd \n",
        "import numpy as np\n",
        "import warnings\n",
        "warnings.filterwarnings('ignore')\n",
        "import matplotlib.pyplot as plt \n",
        "import seaborn as sns "
      ]
    },
    {
      "cell_type": "code",
      "source": [
        "data = pd.read_csv('regression_data1.txt')"
      ],
      "metadata": {
        "id": "PRX8gHRO1CVO"
      },
      "execution_count": 3,
      "outputs": []
    },
    {
      "cell_type": "code",
      "source": [
        "data"
      ],
      "metadata": {
        "colab": {
          "base_uri": "https://localhost:8080/",
          "height": 424
        },
        "id": "dxVeU9WJ1CXZ",
        "outputId": "078ae00a-7401-4ada-e03e-deaa7e6882cf"
      },
      "execution_count": 4,
      "outputs": [
        {
          "output_type": "execute_result",
          "data": {
            "text/plain": [
              "       HV1  IC1  IC2  IC3  IC4    IC5    AVGGIFT  TARGET_D\n",
              "0     2346  420  446  468  503  14552  15.500000      21.0\n",
              "1      497  350  364  357  384  11696   3.080000       3.0\n",
              "2     1229  469  502  507  544  17313   7.500000      20.0\n",
              "3      325  148  181  171  209   6334   6.700000       5.0\n",
              "4      768  174  201  220  249   7802   8.785714      10.0\n",
              "...    ...  ...  ...  ...  ...    ...        ...       ...\n",
              "4838   701  297  335  405  468  15258  15.500000      25.0\n",
              "4839  3357  284  455  343  447  24240  11.857143      19.0\n",
              "4840   700  322  415  356  446  14360  11.333333      10.0\n",
              "4841   601  206  225  251  289   9801  13.000000      25.0\n",
              "4842   919  425  562  558  697  25784  17.923077      25.0\n",
              "\n",
              "[4843 rows x 8 columns]"
            ],
            "text/html": [
              "\n",
              "  <div id=\"df-b2a1c535-037b-45af-a741-e3dd23a2040d\">\n",
              "    <div class=\"colab-df-container\">\n",
              "      <div>\n",
              "<style scoped>\n",
              "    .dataframe tbody tr th:only-of-type {\n",
              "        vertical-align: middle;\n",
              "    }\n",
              "\n",
              "    .dataframe tbody tr th {\n",
              "        vertical-align: top;\n",
              "    }\n",
              "\n",
              "    .dataframe thead th {\n",
              "        text-align: right;\n",
              "    }\n",
              "</style>\n",
              "<table border=\"1\" class=\"dataframe\">\n",
              "  <thead>\n",
              "    <tr style=\"text-align: right;\">\n",
              "      <th></th>\n",
              "      <th>HV1</th>\n",
              "      <th>IC1</th>\n",
              "      <th>IC2</th>\n",
              "      <th>IC3</th>\n",
              "      <th>IC4</th>\n",
              "      <th>IC5</th>\n",
              "      <th>AVGGIFT</th>\n",
              "      <th>TARGET_D</th>\n",
              "    </tr>\n",
              "  </thead>\n",
              "  <tbody>\n",
              "    <tr>\n",
              "      <th>0</th>\n",
              "      <td>2346</td>\n",
              "      <td>420</td>\n",
              "      <td>446</td>\n",
              "      <td>468</td>\n",
              "      <td>503</td>\n",
              "      <td>14552</td>\n",
              "      <td>15.500000</td>\n",
              "      <td>21.0</td>\n",
              "    </tr>\n",
              "    <tr>\n",
              "      <th>1</th>\n",
              "      <td>497</td>\n",
              "      <td>350</td>\n",
              "      <td>364</td>\n",
              "      <td>357</td>\n",
              "      <td>384</td>\n",
              "      <td>11696</td>\n",
              "      <td>3.080000</td>\n",
              "      <td>3.0</td>\n",
              "    </tr>\n",
              "    <tr>\n",
              "      <th>2</th>\n",
              "      <td>1229</td>\n",
              "      <td>469</td>\n",
              "      <td>502</td>\n",
              "      <td>507</td>\n",
              "      <td>544</td>\n",
              "      <td>17313</td>\n",
              "      <td>7.500000</td>\n",
              "      <td>20.0</td>\n",
              "    </tr>\n",
              "    <tr>\n",
              "      <th>3</th>\n",
              "      <td>325</td>\n",
              "      <td>148</td>\n",
              "      <td>181</td>\n",
              "      <td>171</td>\n",
              "      <td>209</td>\n",
              "      <td>6334</td>\n",
              "      <td>6.700000</td>\n",
              "      <td>5.0</td>\n",
              "    </tr>\n",
              "    <tr>\n",
              "      <th>4</th>\n",
              "      <td>768</td>\n",
              "      <td>174</td>\n",
              "      <td>201</td>\n",
              "      <td>220</td>\n",
              "      <td>249</td>\n",
              "      <td>7802</td>\n",
              "      <td>8.785714</td>\n",
              "      <td>10.0</td>\n",
              "    </tr>\n",
              "    <tr>\n",
              "      <th>...</th>\n",
              "      <td>...</td>\n",
              "      <td>...</td>\n",
              "      <td>...</td>\n",
              "      <td>...</td>\n",
              "      <td>...</td>\n",
              "      <td>...</td>\n",
              "      <td>...</td>\n",
              "      <td>...</td>\n",
              "    </tr>\n",
              "    <tr>\n",
              "      <th>4838</th>\n",
              "      <td>701</td>\n",
              "      <td>297</td>\n",
              "      <td>335</td>\n",
              "      <td>405</td>\n",
              "      <td>468</td>\n",
              "      <td>15258</td>\n",
              "      <td>15.500000</td>\n",
              "      <td>25.0</td>\n",
              "    </tr>\n",
              "    <tr>\n",
              "      <th>4839</th>\n",
              "      <td>3357</td>\n",
              "      <td>284</td>\n",
              "      <td>455</td>\n",
              "      <td>343</td>\n",
              "      <td>447</td>\n",
              "      <td>24240</td>\n",
              "      <td>11.857143</td>\n",
              "      <td>19.0</td>\n",
              "    </tr>\n",
              "    <tr>\n",
              "      <th>4840</th>\n",
              "      <td>700</td>\n",
              "      <td>322</td>\n",
              "      <td>415</td>\n",
              "      <td>356</td>\n",
              "      <td>446</td>\n",
              "      <td>14360</td>\n",
              "      <td>11.333333</td>\n",
              "      <td>10.0</td>\n",
              "    </tr>\n",
              "    <tr>\n",
              "      <th>4841</th>\n",
              "      <td>601</td>\n",
              "      <td>206</td>\n",
              "      <td>225</td>\n",
              "      <td>251</td>\n",
              "      <td>289</td>\n",
              "      <td>9801</td>\n",
              "      <td>13.000000</td>\n",
              "      <td>25.0</td>\n",
              "    </tr>\n",
              "    <tr>\n",
              "      <th>4842</th>\n",
              "      <td>919</td>\n",
              "      <td>425</td>\n",
              "      <td>562</td>\n",
              "      <td>558</td>\n",
              "      <td>697</td>\n",
              "      <td>25784</td>\n",
              "      <td>17.923077</td>\n",
              "      <td>25.0</td>\n",
              "    </tr>\n",
              "  </tbody>\n",
              "</table>\n",
              "<p>4843 rows × 8 columns</p>\n",
              "</div>\n",
              "      <button class=\"colab-df-convert\" onclick=\"convertToInteractive('df-b2a1c535-037b-45af-a741-e3dd23a2040d')\"\n",
              "              title=\"Convert this dataframe to an interactive table.\"\n",
              "              style=\"display:none;\">\n",
              "        \n",
              "  <svg xmlns=\"http://www.w3.org/2000/svg\" height=\"24px\"viewBox=\"0 0 24 24\"\n",
              "       width=\"24px\">\n",
              "    <path d=\"M0 0h24v24H0V0z\" fill=\"none\"/>\n",
              "    <path d=\"M18.56 5.44l.94 2.06.94-2.06 2.06-.94-2.06-.94-.94-2.06-.94 2.06-2.06.94zm-11 1L8.5 8.5l.94-2.06 2.06-.94-2.06-.94L8.5 2.5l-.94 2.06-2.06.94zm10 10l.94 2.06.94-2.06 2.06-.94-2.06-.94-.94-2.06-.94 2.06-2.06.94z\"/><path d=\"M17.41 7.96l-1.37-1.37c-.4-.4-.92-.59-1.43-.59-.52 0-1.04.2-1.43.59L10.3 9.45l-7.72 7.72c-.78.78-.78 2.05 0 2.83L4 21.41c.39.39.9.59 1.41.59.51 0 1.02-.2 1.41-.59l7.78-7.78 2.81-2.81c.8-.78.8-2.07 0-2.86zM5.41 20L4 18.59l7.72-7.72 1.47 1.35L5.41 20z\"/>\n",
              "  </svg>\n",
              "      </button>\n",
              "      \n",
              "  <style>\n",
              "    .colab-df-container {\n",
              "      display:flex;\n",
              "      flex-wrap:wrap;\n",
              "      gap: 12px;\n",
              "    }\n",
              "\n",
              "    .colab-df-convert {\n",
              "      background-color: #E8F0FE;\n",
              "      border: none;\n",
              "      border-radius: 50%;\n",
              "      cursor: pointer;\n",
              "      display: none;\n",
              "      fill: #1967D2;\n",
              "      height: 32px;\n",
              "      padding: 0 0 0 0;\n",
              "      width: 32px;\n",
              "    }\n",
              "\n",
              "    .colab-df-convert:hover {\n",
              "      background-color: #E2EBFA;\n",
              "      box-shadow: 0px 1px 2px rgba(60, 64, 67, 0.3), 0px 1px 3px 1px rgba(60, 64, 67, 0.15);\n",
              "      fill: #174EA6;\n",
              "    }\n",
              "\n",
              "    [theme=dark] .colab-df-convert {\n",
              "      background-color: #3B4455;\n",
              "      fill: #D2E3FC;\n",
              "    }\n",
              "\n",
              "    [theme=dark] .colab-df-convert:hover {\n",
              "      background-color: #434B5C;\n",
              "      box-shadow: 0px 1px 3px 1px rgba(0, 0, 0, 0.15);\n",
              "      filter: drop-shadow(0px 1px 2px rgba(0, 0, 0, 0.3));\n",
              "      fill: #FFFFFF;\n",
              "    }\n",
              "  </style>\n",
              "\n",
              "      <script>\n",
              "        const buttonEl =\n",
              "          document.querySelector('#df-b2a1c535-037b-45af-a741-e3dd23a2040d button.colab-df-convert');\n",
              "        buttonEl.style.display =\n",
              "          google.colab.kernel.accessAllowed ? 'block' : 'none';\n",
              "\n",
              "        async function convertToInteractive(key) {\n",
              "          const element = document.querySelector('#df-b2a1c535-037b-45af-a741-e3dd23a2040d');\n",
              "          const dataTable =\n",
              "            await google.colab.kernel.invokeFunction('convertToInteractive',\n",
              "                                                     [key], {});\n",
              "          if (!dataTable) return;\n",
              "\n",
              "          const docLinkHtml = 'Like what you see? Visit the ' +\n",
              "            '<a target=\"_blank\" href=https://colab.research.google.com/notebooks/data_table.ipynb>data table notebook</a>'\n",
              "            + ' to learn more about interactive tables.';\n",
              "          element.innerHTML = '';\n",
              "          dataTable['output_type'] = 'display_data';\n",
              "          await google.colab.output.renderOutput(dataTable, element);\n",
              "          const docLink = document.createElement('div');\n",
              "          docLink.innerHTML = docLinkHtml;\n",
              "          element.appendChild(docLink);\n",
              "        }\n",
              "      </script>\n",
              "    </div>\n",
              "  </div>\n",
              "  "
            ]
          },
          "metadata": {},
          "execution_count": 4
        }
      ]
    },
    {
      "cell_type": "code",
      "source": [
        "sns.boxplot(data['IC2'])"
      ],
      "metadata": {
        "colab": {
          "base_uri": "https://localhost:8080/",
          "height": 296
        },
        "id": "xt67s1ex1CaO",
        "outputId": "f66f6df2-c800-4b9a-89e1-2bb9e109fa57"
      },
      "execution_count": 5,
      "outputs": [
        {
          "output_type": "execute_result",
          "data": {
            "text/plain": [
              "<matplotlib.axes._subplots.AxesSubplot at 0x7f2a34433bb0>"
            ]
          },
          "metadata": {},
          "execution_count": 5
        },
        {
          "output_type": "display_data",
          "data": {
            "text/plain": [
              "<Figure size 432x288 with 1 Axes>"
            ],
            "image/png": "[encoded data removed]"
          },
          "metadata": {
            "needs_background": "light"
          }
        }
      ]
    },
    {
      "cell_type": "code",
      "source": [
        "data['IC2'].describe()"
      ],
      "metadata": {
        "colab": {
          "base_uri": "https://localhost:8080/"
        },
        "id": "g_lOmAg_1CcK",
        "outputId": "a8a2e34e-5e50-4cfe-8760-6acd58b3334e"
      },
      "execution_count": 6,
      "outputs": [
        {
          "output_type": "execute_result",
          "data": {
            "text/plain": [
              "count    4843.000000\n",
              "mean      401.913690\n",
              "std       182.660078\n",
              "min         0.000000\n",
              "25%       283.000000\n",
              "50%       366.000000\n",
              "75%       481.000000\n",
              "max      1500.000000\n",
              "Name: IC2, dtype: float64"
            ]
          },
          "metadata": {},
          "execution_count": 6
        }
      ]
    },
    {
      "cell_type": "code",
      "source": [
        "iqr = np.percentile(data['IC2'],75)- np.percentile(data['IC2'],25)"
      ],
      "metadata": {
        "id": "3FkIXa391CeW"
      },
      "execution_count": 7,
      "outputs": []
    },
    {
      "cell_type": "code",
      "source": [
        "upper_limit = np.percentile(data['IC2'],75)+1.5*iqr \n",
        "lower_limit = np.percentile(data['IC2'],25)-1.5*iqr"
      ],
      "metadata": {
        "id": "jcdwYDJ71CgY"
      },
      "execution_count": 8,
      "outputs": []
    },
    {
      "cell_type": "code",
      "source": [
        "data = data[(data['IC2']>lower_limit) & (data['IC2']<upper_limit)]"
      ],
      "metadata": {
        "id": "d0MuS43q1Cjm"
      },
      "execution_count": 9,
      "outputs": []
    },
    {
      "cell_type": "code",
      "source": [
        "sns.boxplot(data['IC2'])"
      ],
      "metadata": {
        "colab": {
          "base_uri": "https://localhost:8080/",
          "height": 296
        },
        "id": "pII_PY0m1Cle",
        "outputId": "036cff44-1908-4df1-be49-54133a1546bc"
      },
      "execution_count": 10,
      "outputs": [
        {
          "output_type": "execute_result",
          "data": {
            "text/plain": [
              "<matplotlib.axes._subplots.AxesSubplot at 0x7f2a3437f820>"
            ]
          },
          "metadata": {},
          "execution_count": 10
        },
        {
          "output_type": "display_data",
          "data": {
            "text/plain": [
              "<Figure size 432x288 with 1 Axes>"
            ],
            "image/png": "[encoded data removed]"
          },
          "metadata": {
            "needs_background": "light"
          }
        }
      ]
    },
    {
      "cell_type": "markdown",
      "source": [
        "## Activity 2\n",
        "\n",
        "Keep using the same file.\n",
        "\n",
        "1. Repeat the process(log transformation) for the column IC3. Define the function again yourself.\n",
        "2. Remove the tails of the transformed column to make it closer to the normal distribution. This time change the factor from 1.5 to 3 when calculating the upper limit and the lower limit. Check the distribution plot. Does it remove the tails effectively? If not change the factor back to 1.5 and see the results."
      ],
      "metadata": {
        "id": "Jtd_OTJK8GUp"
      }
    },
    {
      "cell_type": "code",
      "source": [
        "def log_transf(x):\n",
        "  x=np.log(x)\n",
        "  if np.isfinite(x):\n",
        "    return x \n",
        "  else: \n",
        "    return np.NAN"
      ],
      "metadata": {
        "id": "alakMX8x1Cn4"
      },
      "execution_count": 11,
      "outputs": []
    },
    {
      "cell_type": "code",
      "source": [
        "ic3_log = list(map(log_transf,data['IC3']))"
      ],
      "metadata": {
        "id": "rF4CO_8o1Cp4"
      },
      "execution_count": 12,
      "outputs": []
    },
    {
      "cell_type": "code",
      "source": [
        "data['IC3_log']=ic3_log\n",
        "data['IC3_log'] = data['IC3_log'].fillna(np.mean(data['IC3_log']))"
      ],
      "metadata": {
        "id": "SaUY4HPXCx1K"
      },
      "execution_count": 13,
      "outputs": []
    },
    {
      "cell_type": "code",
      "source": [
        "sns.distplot(ic3_log)"
      ],
      "metadata": {
        "colab": {
          "base_uri": "https://localhost:8080/",
          "height": 282
        },
        "id": "cIILcICk1CrU",
        "outputId": "0676bcb7-3579-4bdd-e892-4d44d8ad8536"
      },
      "execution_count": 14,
      "outputs": [
        {
          "output_type": "execute_result",
          "data": {
            "text/plain": [
              "<matplotlib.axes._subplots.AxesSubplot at 0x7f2a45e13250>"
            ]
          },
          "metadata": {},
          "execution_count": 14
        },
        {
          "output_type": "display_data",
          "data": {
            "text/plain": [
              "<Figure size 432x288 with 1 Axes>"
            ],
            "image/png": "[encoded data removed]"
          },
          "metadata": {
            "needs_background": "light"
          }
        }
      ]
    },
    {
      "cell_type": "code",
      "source": [
        "sns.boxplot(ic3_log)"
      ],
      "metadata": {
        "colab": {
          "base_uri": "https://localhost:8080/",
          "height": 282
        },
        "id": "k1T0PduK1CtU",
        "outputId": "caa10d47-8c85-4d94-e8fd-3fd2e3fa30d9"
      },
      "execution_count": 16,
      "outputs": [
        {
          "output_type": "execute_result",
          "data": {
            "text/plain": [
              "<matplotlib.axes._subplots.AxesSubplot at 0x7f2a31d382b0>"
            ]
          },
          "metadata": {},
          "execution_count": 16
        },
        {
          "output_type": "display_data",
          "data": {
            "text/plain": [
              "<Figure size 432x288 with 1 Axes>"
            ],
            "image/png": "[encoded data removed]"
          },
          "metadata": {
            "needs_background": "light"
          }
        }
      ]
    },
    {
      "cell_type": "code",
      "source": [
        "#con 1.5\n",
        "iqr = np.percentile(data['IC3_log'],75)- np.percentile(data['IC3_log'],25)\n",
        "upper_limit = np.percentile(data['IC3_log'],75)+1.5*iqr \n",
        "lower_limit = np.percentile(data['IC3_log'],25)-1.5*iqr"
      ],
      "metadata": {
        "id": "Hyp-6dAb1CvI"
      },
      "execution_count": 17,
      "outputs": []
    },
    {
      "cell_type": "code",
      "source": [
        "data = data[(data['IC3_log']>lower_limit) & (data['IC3_log']<upper_limit)]"
      ],
      "metadata": {
        "id": "Oc1YBhS01Cw2"
      },
      "execution_count": 18,
      "outputs": []
    },
    {
      "cell_type": "code",
      "source": [
        "sns.boxplot(data['IC3_log'])"
      ],
      "metadata": {
        "colab": {
          "base_uri": "https://localhost:8080/",
          "height": 297
        },
        "id": "i3NO6xFJ1Cyz",
        "outputId": "b16692d9-fe7d-4a86-e6da-f635d22f39f5"
      },
      "execution_count": 19,
      "outputs": [
        {
          "output_type": "execute_result",
          "data": {
            "text/plain": [
              "<matplotlib.axes._subplots.AxesSubplot at 0x7f2a3124bf10>"
            ]
          },
          "metadata": {},
          "execution_count": 19
        },
        {
          "output_type": "display_data",
          "data": {
            "text/plain": [
              "<Figure size 432x288 with 1 Axes>"
            ],
            "image/png": "[encoded data removed]"
          },
          "metadata": {
            "needs_background": "light"
          }
        }
      ]
    },
    {
      "cell_type": "code",
      "source": [
        "sns.distplot(data['IC3_log'])"
      ],
      "metadata": {
        "colab": {
          "base_uri": "https://localhost:8080/",
          "height": 297
        },
        "id": "Flkb-poeE0yf",
        "outputId": "65f8579b-c6c3-41cc-c199-aa23617f86e5"
      },
      "execution_count": 20,
      "outputs": [
        {
          "output_type": "execute_result",
          "data": {
            "text/plain": [
              "<matplotlib.axes._subplots.AxesSubplot at 0x7f2a311a9e20>"
            ]
          },
          "metadata": {},
          "execution_count": 20
        },
        {
          "output_type": "display_data",
          "data": {
            "text/plain": [
              "<Figure size 432x288 with 1 Axes>"
            ],
            "image/png": "[encoded data removed]"
          },
          "metadata": {
            "needs_background": "light"
          }
        }
      ]
    },
    {
      "cell_type": "code",
      "source": [
        "# con 3 \n",
        "iqr = np.percentile(data['IC3_log'],75)- np.percentile(data['IC3_log'],25)\n",
        "upper_limit = np.percentile(data['IC3_log'],75)+3*iqr \n",
        "lower_limit = np.percentile(data['IC3_log'],25)-3*iqr"
      ],
      "metadata": {
        "id": "vp22g9dL1C0-"
      },
      "execution_count": 21,
      "outputs": []
    },
    {
      "cell_type": "code",
      "source": [
        "data = data[(data['IC3_log']>lower_limit) & (data['IC3_log']<upper_limit)]\n",
        "sns.boxplot(data['IC3_log'])"
      ],
      "metadata": {
        "colab": {
          "base_uri": "https://localhost:8080/",
          "height": 297
        },
        "id": "9pOMjT2I1C4d",
        "outputId": "a7313556-38bc-4bff-8285-66b56429f204"
      },
      "execution_count": 22,
      "outputs": [
        {
          "output_type": "execute_result",
          "data": {
            "text/plain": [
              "<matplotlib.axes._subplots.AxesSubplot at 0x7f2a3115e6a0>"
            ]
          },
          "metadata": {},
          "execution_count": 22
        },
        {
          "output_type": "display_data",
          "data": {
            "text/plain": [
              "<Figure size 432x288 with 1 Axes>"
            ],
            "image/png": "[encoded data removed]"
          },
          "metadata": {
            "needs_background": "light"
          }
        }
      ]
    },
    {
      "cell_type": "code",
      "source": [
        "sns.distplot(data['IC3_log'])"
      ],
      "metadata": {
        "colab": {
          "base_uri": "https://localhost:8080/",
          "height": 297
        },
        "id": "i4iRcDTCEIoQ",
        "outputId": "26e07ba0-f4b8-4373-cef0-f313426488ee"
      },
      "execution_count": 23,
      "outputs": [
        {
          "output_type": "execute_result",
          "data": {
            "text/plain": [
              "<matplotlib.axes._subplots.AxesSubplot at 0x7f2a310b2af0>"
            ]
          },
          "metadata": {},
          "execution_count": 23
        },
        {
          "output_type": "display_data",
          "data": {
            "text/plain": [
              "<Figure size 432x288 with 1 Axes>"
            ],
            "image/png": "[encoded data removed]"
          },
          "metadata": {
            "needs_background": "light"
          }
        }
      ]
    },
    {
      "cell_type": "markdown",
      "source": [
        "## Activity 3 \n",
        "\n",
        "1. Repeat the same steps for column IC5 for box-cox transformation."
      ],
      "metadata": {
        "id": "Wx0e9_vgF4Gb"
      }
    },
    {
      "cell_type": "code",
      "source": [
        "data = pd.read_csv('regression_data1.txt')"
      ],
      "metadata": {
        "id": "bGTCiuarF9NI"
      },
      "execution_count": null,
      "outputs": []
    },
    {
      "cell_type": "code",
      "source": [
        "data"
      ],
      "metadata": {
        "colab": {
          "base_uri": "https://localhost:8080/",
          "height": 424
        },
        "id": "OFWgSu05F9UJ",
        "outputId": "4d002aaa-8c60-4b6f-a2a8-4dd4c1cf410d"
      },
      "execution_count": null,
      "outputs": [
        {
          "output_type": "execute_result",
          "data": {
            "text/plain": [
              "       HV1  IC1  IC2  IC3  IC4    IC5    AVGGIFT  TARGET_D\n",
              "0     2346  420  446  468  503  14552  15.500000      21.0\n",
              "1      497  350  364  357  384  11696   3.080000       3.0\n",
              "2     1229  469  502  507  544  17313   7.500000      20.0\n",
              "3      325  148  181  171  209   6334   6.700000       5.0\n",
              "4      768  174  201  220  249   7802   8.785714      10.0\n",
              "...    ...  ...  ...  ...  ...    ...        ...       ...\n",
              "4838   701  297  335  405  468  15258  15.500000      25.0\n",
              "4839  3357  284  455  343  447  24240  11.857143      19.0\n",
              "4840   700  322  415  356  446  14360  11.333333      10.0\n",
              "4841   601  206  225  251  289   9801  13.000000      25.0\n",
              "4842   919  425  562  558  697  25784  17.923077      25.0\n",
              "\n",
              "[4843 rows x 8 columns]"
            ],
            "text/html": [
              "\n",
              "  <div id=\"df-268103da-1ecc-4934-804a-fa0b462d1a79\">\n",
              "    <div class=\"colab-df-container\">\n",
              "      <div>\n",
              "<style scoped>\n",
              "    .dataframe tbody tr th:only-of-type {\n",
              "        vertical-align: middle;\n",
              "    }\n",
              "\n",
              "    .dataframe tbody tr th {\n",
              "        vertical-align: top;\n",
              "    }\n",
              "\n",
              "    .dataframe thead th {\n",
              "        text-align: right;\n",
              "    }\n",
              "</style>\n",
              "<table border=\"1\" class=\"dataframe\">\n",
              "  <thead>\n",
              "    <tr style=\"text-align: right;\">\n",
              "      <th></th>\n",
              "      <th>HV1</th>\n",
              "      <th>IC1</th>\n",
              "      <th>IC2</th>\n",
              "      <th>IC3</th>\n",
              "      <th>IC4</th>\n",
              "      <th>IC5</th>\n",
              "      <th>AVGGIFT</th>\n",
              "      <th>TARGET_D</th>\n",
              "    </tr>\n",
              "  </thead>\n",
              "  <tbody>\n",
              "    <tr>\n",
              "      <th>0</th>\n",
              "      <td>2346</td>\n",
              "      <td>420</td>\n",
              "      <td>446</td>\n",
              "      <td>468</td>\n",
              "      <td>503</td>\n",
              "      <td>14552</td>\n",
              "      <td>15.500000</td>\n",
              "      <td>21.0</td>\n",
              "    </tr>\n",
              "    <tr>\n",
              "      <th>1</th>\n",
              "      <td>497</td>\n",
              "      <td>350</td>\n",
              "      <td>364</td>\n",
              "      <td>357</td>\n",
              "      <td>384</td>\n",
              "      <td>11696</td>\n",
              "      <td>3.080000</td>\n",
              "      <td>3.0</td>\n",
              "    </tr>\n",
              "    <tr>\n",
              "      <th>2</th>\n",
              "      <td>1229</td>\n",
              "      <td>469</td>\n",
              "      <td>502</td>\n",
              "      <td>507</td>\n",
              "      <td>544</td>\n",
              "      <td>17313</td>\n",
              "      <td>7.500000</td>\n",
              "      <td>20.0</td>\n",
              "    </tr>\n",
              "    <tr>\n",
              "      <th>3</th>\n",
              "      <td>325</td>\n",
              "      <td>148</td>\n",
              "      <td>181</td>\n",
              "      <td>171</td>\n",
              "      <td>209</td>\n",
              "      <td>6334</td>\n",
              "      <td>6.700000</td>\n",
              "      <td>5.0</td>\n",
              "    </tr>\n",
              "    <tr>\n",
              "      <th>4</th>\n",
              "      <td>768</td>\n",
              "      <td>174</td>\n",
              "      <td>201</td>\n",
              "      <td>220</td>\n",
              "      <td>249</td>\n",
              "      <td>7802</td>\n",
              "      <td>8.785714</td>\n",
              "      <td>10.0</td>\n",
              "    </tr>\n",
              "    <tr>\n",
              "      <th>...</th>\n",
              "      <td>...</td>\n",
              "      <td>...</td>\n",
              "      <td>...</td>\n",
              "      <td>...</td>\n",
              "      <td>...</td>\n",
              "      <td>...</td>\n",
              "      <td>...</td>\n",
              "      <td>...</td>\n",
              "    </tr>\n",
              "    <tr>\n",
              "      <th>4838</th>\n",
              "      <td>701</td>\n",
              "      <td>297</td>\n",
              "      <td>335</td>\n",
              "      <td>405</td>\n",
              "      <td>468</td>\n",
              "      <td>15258</td>\n",
              "      <td>15.500000</td>\n",
              "      <td>25.0</td>\n",
              "    </tr>\n",
              "    <tr>\n",
              "      <th>4839</th>\n",
              "      <td>3357</td>\n",
              "      <td>284</td>\n",
              "      <td>455</td>\n",
              "      <td>343</td>\n",
              "      <td>447</td>\n",
              "      <td>24240</td>\n",
              "      <td>11.857143</td>\n",
              "      <td>19.0</td>\n",
              "    </tr>\n",
              "    <tr>\n",
              "      <th>4840</th>\n",
              "      <td>700</td>\n",
              "      <td>322</td>\n",
              "      <td>415</td>\n",
              "      <td>356</td>\n",
              "      <td>446</td>\n",
              "      <td>14360</td>\n",
              "      <td>11.333333</td>\n",
              "      <td>10.0</td>\n",
              "    </tr>\n",
              "    <tr>\n",
              "      <th>4841</th>\n",
              "      <td>601</td>\n",
              "      <td>206</td>\n",
              "      <td>225</td>\n",
              "      <td>251</td>\n",
              "      <td>289</td>\n",
              "      <td>9801</td>\n",
              "      <td>13.000000</td>\n",
              "      <td>25.0</td>\n",
              "    </tr>\n",
              "    <tr>\n",
              "      <th>4842</th>\n",
              "      <td>919</td>\n",
              "      <td>425</td>\n",
              "      <td>562</td>\n",
              "      <td>558</td>\n",
              "      <td>697</td>\n",
              "      <td>25784</td>\n",
              "      <td>17.923077</td>\n",
              "      <td>25.0</td>\n",
              "    </tr>\n",
              "  </tbody>\n",
              "</table>\n",
              "<p>4843 rows × 8 columns</p>\n",
              "</div>\n",
              "      <button class=\"colab-df-convert\" onclick=\"convertToInteractive('df-268103da-1ecc-4934-804a-fa0b462d1a79')\"\n",
              "              title=\"Convert this dataframe to an interactive table.\"\n",
              "              style=\"display:none;\">\n",
              "        \n",
              "  <svg xmlns=\"http://www.w3.org/2000/svg\" height=\"24px\"viewBox=\"0 0 24 24\"\n",
              "       width=\"24px\">\n",
              "    <path d=\"M0 0h24v24H0V0z\" fill=\"none\"/>\n",
              "    <path d=\"M18.56 5.44l.94 2.06.94-2.06 2.06-.94-2.06-.94-.94-2.06-.94 2.06-2.06.94zm-11 1L8.5 8.5l.94-2.06 2.06-.94-2.06-.94L8.5 2.5l-.94 2.06-2.06.94zm10 10l.94 2.06.94-2.06 2.06-.94-2.06-.94-.94-2.06-.94 2.06-2.06.94z\"/><path d=\"M17.41 7.96l-1.37-1.37c-.4-.4-.92-.59-1.43-.59-.52 0-1.04.2-1.43.59L10.3 9.45l-7.72 7.72c-.78.78-.78 2.05 0 2.83L4 21.41c.39.39.9.59 1.41.59.51 0 1.02-.2 1.41-.59l7.78-7.78 2.81-2.81c.8-.78.8-2.07 0-2.86zM5.41 20L4 18.59l7.72-7.72 1.47 1.35L5.41 20z\"/>\n",
              "  </svg>\n",
              "      </button>\n",
              "      \n",
              "  <style>\n",
              "    .colab-df-container {\n",
              "      display:flex;\n",
              "      flex-wrap:wrap;\n",
              "      gap: 12px;\n",
              "    }\n",
              "\n",
              "    .colab-df-convert {\n",
              "      background-color: #E8F0FE;\n",
              "      border: none;\n",
              "      border-radius: 50%;\n",
              "      cursor: pointer;\n",
              "      display: none;\n",
              "      fill: #1967D2;\n",
              "      height: 32px;\n",
              "      padding: 0 0 0 0;\n",
              "      width: 32px;\n",
              "    }\n",
              "\n",
              "    .colab-df-convert:hover {\n",
              "      background-color: #E2EBFA;\n",
              "      box-shadow: 0px 1px 2px rgba(60, 64, 67, 0.3), 0px 1px 3px 1px rgba(60, 64, 67, 0.15);\n",
              "      fill: #174EA6;\n",
              "    }\n",
              "\n",
              "    [theme=dark] .colab-df-convert {\n",
              "      background-color: #3B4455;\n",
              "      fill: #D2E3FC;\n",
              "    }\n",
              "\n",
              "    [theme=dark] .colab-df-convert:hover {\n",
              "      background-color: #434B5C;\n",
              "      box-shadow: 0px 1px 3px 1px rgba(0, 0, 0, 0.15);\n",
              "      filter: drop-shadow(0px 1px 2px rgba(0, 0, 0, 0.3));\n",
              "      fill: #FFFFFF;\n",
              "    }\n",
              "  </style>\n",
              "\n",
              "      <script>\n",
              "        const buttonEl =\n",
              "          document.querySelector('#df-268103da-1ecc-4934-804a-fa0b462d1a79 button.colab-df-convert');\n",
              "        buttonEl.style.display =\n",
              "          google.colab.kernel.accessAllowed ? 'block' : 'none';\n",
              "\n",
              "        async function convertToInteractive(key) {\n",
              "          const element = document.querySelector('#df-268103da-1ecc-4934-804a-fa0b462d1a79');\n",
              "          const dataTable =\n",
              "            await google.colab.kernel.invokeFunction('convertToInteractive',\n",
              "                                                     [key], {});\n",
              "          if (!dataTable) return;\n",
              "\n",
              "          const docLinkHtml = 'Like what you see? Visit the ' +\n",
              "            '<a target=\"_blank\" href=https://colab.research.google.com/notebooks/data_table.ipynb>data table notebook</a>'\n",
              "            + ' to learn more about interactive tables.';\n",
              "          element.innerHTML = '';\n",
              "          dataTable['output_type'] = 'display_data';\n",
              "          await google.colab.output.renderOutput(dataTable, element);\n",
              "          const docLink = document.createElement('div');\n",
              "          docLink.innerHTML = docLinkHtml;\n",
              "          element.appendChild(docLink);\n",
              "        }\n",
              "      </script>\n",
              "    </div>\n",
              "  </div>\n",
              "  "
            ]
          },
          "metadata": {},
          "execution_count": 68
        }
      ]
    },
    {
      "cell_type": "code",
      "source": [
        "#Aqui calculamos el % de datos que no cumplen con la condicion necesaria para la transf\n",
        "100*len(data[data['IC5']<=0])/len(data['IC5'])"
      ],
      "metadata": {
        "colab": {
          "base_uri": "https://localhost:8080/"
        },
        "id": "GCN-Aog1JI_d",
        "outputId": "b7dbd130-49b5-4594-8292-cc947c246a1f"
      },
      "execution_count": null,
      "outputs": [
        {
          "output_type": "execute_result",
          "data": {
            "text/plain": [
              "0.7226925459425976"
            ]
          },
          "metadata": {},
          "execution_count": 69
        }
      ]
    },
    {
      "cell_type": "code",
      "source": [
        "data['IC5_p']=np.where(data['IC5']<0,0,data['IC5']) "
      ],
      "metadata": {
        "id": "pPpKdNbVJJgc"
      },
      "execution_count": null,
      "outputs": []
    },
    {
      "cell_type": "code",
      "source": [
        "#Aqui le estoy diciendo que reemplace los valores 0 por la media \n",
        "data['IC5_p']=data['IC5_p'].replace(0,np.sum(data['IC5_p'])/len(data['IC5_p']))"
      ],
      "metadata": {
        "id": "cwQaAximJJj7"
      },
      "execution_count": null,
      "outputs": []
    },
    {
      "cell_type": "code",
      "source": [
        "from scipy import stats \n",
        "\n",
        "x,lmbda=stats.boxcox(data['IC5_p'])"
      ],
      "metadata": {
        "id": "dyqJ-4OrJJlY"
      },
      "execution_count": null,
      "outputs": []
    },
    {
      "cell_type": "code",
      "source": [
        "sns.distplot(x)"
      ],
      "metadata": {
        "colab": {
          "base_uri": "https://localhost:8080/",
          "height": 285
        },
        "id": "EUqOYTRpJJmp",
        "outputId": "450c6a19-9148-4a3b-b731-a825ccbe636a"
      },
      "execution_count": null,
      "outputs": [
        {
          "output_type": "execute_result",
          "data": {
            "text/plain": [
              "<matplotlib.axes._subplots.AxesSubplot at 0x7f2dbcc67250>"
            ]
          },
          "metadata": {},
          "execution_count": 73
        },
        {
          "output_type": "display_data",
          "data": {
            "text/plain": [
              "<Figure size 432x288 with 1 Axes>"
            ],
            "image/png": "[encoded data removed]"
          },
          "metadata": {
            "needs_background": "light"
          }
        }
      ]
    },
    {
      "cell_type": "markdown",
      "source": [
        "## Activity 4 \n",
        "\n",
        "1. Load data regression_data.csv.\n",
        "2. Select 3 numeric columns.\n",
        "3. Plot distributions.\n",
        "4. Normalize.\n",
        "5. Plot new distributions."
      ],
      "metadata": {
        "id": "dp9ZJoPKKc51"
      }
    },
    {
      "cell_type": "code",
      "source": [
        "from sklearn.preprocessing import Normalizer\n",
        "from sklearn.preprocessing import StandardScaler \n",
        "\n",
        "data=pd.read_csv('regression_data1.txt')\n",
        "data"
      ],
      "metadata": {
        "colab": {
          "base_uri": "https://localhost:8080/",
          "height": 424
        },
        "id": "gbDY4cz7JJoz",
        "outputId": "44f6f5b2-9854-4ee9-d3d9-43f932f8b64d"
      },
      "execution_count": null,
      "outputs": [
        {
          "output_type": "execute_result",
          "data": {
            "text/plain": [
              "       HV1  IC1  IC2  IC3  IC4    IC5    AVGGIFT  TARGET_D\n",
              "0     2346  420  446  468  503  14552  15.500000      21.0\n",
              "1      497  350  364  357  384  11696   3.080000       3.0\n",
              "2     1229  469  502  507  544  17313   7.500000      20.0\n",
              "3      325  148  181  171  209   6334   6.700000       5.0\n",
              "4      768  174  201  220  249   7802   8.785714      10.0\n",
              "...    ...  ...  ...  ...  ...    ...        ...       ...\n",
              "4838   701  297  335  405  468  15258  15.500000      25.0\n",
              "4839  3357  284  455  343  447  24240  11.857143      19.0\n",
              "4840   700  322  415  356  446  14360  11.333333      10.0\n",
              "4841   601  206  225  251  289   9801  13.000000      25.0\n",
              "4842   919  425  562  558  697  25784  17.923077      25.0\n",
              "\n",
              "[4843 rows x 8 columns]"
            ],
            "text/html": [
              "\n",
              "  <div id=\"df-9691919d-474b-4c0a-9d05-60e1887997c9\">\n",
              "    <div class=\"colab-df-container\">\n",
              "      <div>\n",
              "<style scoped>\n",
              "    .dataframe tbody tr th:only-of-type {\n",
              "        vertical-align: middle;\n",
              "    }\n",
              "\n",
              "    .dataframe tbody tr th {\n",
              "        vertical-align: top;\n",
              "    }\n",
              "\n",
              "    .dataframe thead th {\n",
              "        text-align: right;\n",
              "    }\n",
              "</style>\n",
              "<table border=\"1\" class=\"dataframe\">\n",
              "  <thead>\n",
              "    <tr style=\"text-align: right;\">\n",
              "      <th></th>\n",
              "      <th>HV1</th>\n",
              "      <th>IC1</th>\n",
              "      <th>IC2</th>\n",
              "      <th>IC3</th>\n",
              "      <th>IC4</th>\n",
              "      <th>IC5</th>\n",
              "      <th>AVGGIFT</th>\n",
              "      <th>TARGET_D</th>\n",
              "    </tr>\n",
              "  </thead>\n",
              "  <tbody>\n",
              "    <tr>\n",
              "      <th>0</th>\n",
              "      <td>2346</td>\n",
              "      <td>420</td>\n",
              "      <td>446</td>\n",
              "      <td>468</td>\n",
              "      <td>503</td>\n",
              "      <td>14552</td>\n",
              "      <td>15.500000</td>\n",
              "      <td>21.0</td>\n",
              "    </tr>\n",
              "    <tr>\n",
              "      <th>1</th>\n",
              "      <td>497</td>\n",
              "      <td>350</td>\n",
              "      <td>364</td>\n",
              "      <td>357</td>\n",
              "      <td>384</td>\n",
              "      <td>11696</td>\n",
              "      <td>3.080000</td>\n",
              "      <td>3.0</td>\n",
              "    </tr>\n",
              "    <tr>\n",
              "      <th>2</th>\n",
              "      <td>1229</td>\n",
              "      <td>469</td>\n",
              "      <td>502</td>\n",
              "      <td>507</td>\n",
              "      <td>544</td>\n",
              "      <td>17313</td>\n",
              "      <td>7.500000</td>\n",
              "      <td>20.0</td>\n",
              "    </tr>\n",
              "    <tr>\n",
              "      <th>3</th>\n",
              "      <td>325</td>\n",
              "      <td>148</td>\n",
              "      <td>181</td>\n",
              "      <td>171</td>\n",
              "      <td>209</td>\n",
              "      <td>6334</td>\n",
              "      <td>6.700000</td>\n",
              "      <td>5.0</td>\n",
              "    </tr>\n",
              "    <tr>\n",
              "      <th>4</th>\n",
              "      <td>768</td>\n",
              "      <td>174</td>\n",
              "      <td>201</td>\n",
              "      <td>220</td>\n",
              "      <td>249</td>\n",
              "      <td>7802</td>\n",
              "      <td>8.785714</td>\n",
              "      <td>10.0</td>\n",
              "    </tr>\n",
              "    <tr>\n",
              "      <th>...</th>\n",
              "      <td>...</td>\n",
              "      <td>...</td>\n",
              "      <td>...</td>\n",
              "      <td>...</td>\n",
              "      <td>...</td>\n",
              "      <td>...</td>\n",
              "      <td>...</td>\n",
              "      <td>...</td>\n",
              "    </tr>\n",
              "    <tr>\n",
              "      <th>4838</th>\n",
              "      <td>701</td>\n",
              "      <td>297</td>\n",
              "      <td>335</td>\n",
              "      <td>405</td>\n",
              "      <td>468</td>\n",
              "      <td>15258</td>\n",
              "      <td>15.500000</td>\n",
              "      <td>25.0</td>\n",
              "    </tr>\n",
              "    <tr>\n",
              "      <th>4839</th>\n",
              "      <td>3357</td>\n",
              "      <td>284</td>\n",
              "      <td>455</td>\n",
              "      <td>343</td>\n",
              "      <td>447</td>\n",
              "      <td>24240</td>\n",
              "      <td>11.857143</td>\n",
              "      <td>19.0</td>\n",
              "    </tr>\n",
              "    <tr>\n",
              "      <th>4840</th>\n",
              "      <td>700</td>\n",
              "      <td>322</td>\n",
              "      <td>415</td>\n",
              "      <td>356</td>\n",
              "      <td>446</td>\n",
              "      <td>14360</td>\n",
              "      <td>11.333333</td>\n",
              "      <td>10.0</td>\n",
              "    </tr>\n",
              "    <tr>\n",
              "      <th>4841</th>\n",
              "      <td>601</td>\n",
              "      <td>206</td>\n",
              "      <td>225</td>\n",
              "      <td>251</td>\n",
              "      <td>289</td>\n",
              "      <td>9801</td>\n",
              "      <td>13.000000</td>\n",
              "      <td>25.0</td>\n",
              "    </tr>\n",
              "    <tr>\n",
              "      <th>4842</th>\n",
              "      <td>919</td>\n",
              "      <td>425</td>\n",
              "      <td>562</td>\n",
              "      <td>558</td>\n",
              "      <td>697</td>\n",
              "      <td>25784</td>\n",
              "      <td>17.923077</td>\n",
              "      <td>25.0</td>\n",
              "    </tr>\n",
              "  </tbody>\n",
              "</table>\n",
              "<p>4843 rows × 8 columns</p>\n",
              "</div>\n",
              "      <button class=\"colab-df-convert\" onclick=\"convertToInteractive('df-9691919d-474b-4c0a-9d05-60e1887997c9')\"\n",
              "              title=\"Convert this dataframe to an interactive table.\"\n",
              "              style=\"display:none;\">\n",
              "        \n",
              "  <svg xmlns=\"http://www.w3.org/2000/svg\" height=\"24px\"viewBox=\"0 0 24 24\"\n",
              "       width=\"24px\">\n",
              "    <path d=\"M0 0h24v24H0V0z\" fill=\"none\"/>\n",
              "    <path d=\"M18.56 5.44l.94 2.06.94-2.06 2.06-.94-2.06-.94-.94-2.06-.94 2.06-2.06.94zm-11 1L8.5 8.5l.94-2.06 2.06-.94-2.06-.94L8.5 2.5l-.94 2.06-2.06.94zm10 10l.94 2.06.94-2.06 2.06-.94-2.06-.94-.94-2.06-.94 2.06-2.06.94z\"/><path d=\"M17.41 7.96l-1.37-1.37c-.4-.4-.92-.59-1.43-.59-.52 0-1.04.2-1.43.59L10.3 9.45l-7.72 7.72c-.78.78-.78 2.05 0 2.83L4 21.41c.39.39.9.59 1.41.59.51 0 1.02-.2 1.41-.59l7.78-7.78 2.81-2.81c.8-.78.8-2.07 0-2.86zM5.41 20L4 18.59l7.72-7.72 1.47 1.35L5.41 20z\"/>\n",
              "  </svg>\n",
              "      </button>\n",
              "      \n",
              "  <style>\n",
              "    .colab-df-container {\n",
              "      display:flex;\n",
              "      flex-wrap:wrap;\n",
              "      gap: 12px;\n",
              "    }\n",
              "\n",
              "    .colab-df-convert {\n",
              "      background-color: #E8F0FE;\n",
              "      border: none;\n",
              "      border-radius: 50%;\n",
              "      cursor: pointer;\n",
              "      display: none;\n",
              "      fill: #1967D2;\n",
              "      height: 32px;\n",
              "      padding: 0 0 0 0;\n",
              "      width: 32px;\n",
              "    }\n",
              "\n",
              "    .colab-df-convert:hover {\n",
              "      background-color: #E2EBFA;\n",
              "      box-shadow: 0px 1px 2px rgba(60, 64, 67, 0.3), 0px 1px 3px 1px rgba(60, 64, 67, 0.15);\n",
              "      fill: #174EA6;\n",
              "    }\n",
              "\n",
              "    [theme=dark] .colab-df-convert {\n",
              "      background-color: #3B4455;\n",
              "      fill: #D2E3FC;\n",
              "    }\n",
              "\n",
              "    [theme=dark] .colab-df-convert:hover {\n",
              "      background-color: #434B5C;\n",
              "      box-shadow: 0px 1px 3px 1px rgba(0, 0, 0, 0.15);\n",
              "      filter: drop-shadow(0px 1px 2px rgba(0, 0, 0, 0.3));\n",
              "      fill: #FFFFFF;\n",
              "    }\n",
              "  </style>\n",
              "\n",
              "      <script>\n",
              "        const buttonEl =\n",
              "          document.querySelector('#df-9691919d-474b-4c0a-9d05-60e1887997c9 button.colab-df-convert');\n",
              "        buttonEl.style.display =\n",
              "          google.colab.kernel.accessAllowed ? 'block' : 'none';\n",
              "\n",
              "        async function convertToInteractive(key) {\n",
              "          const element = document.querySelector('#df-9691919d-474b-4c0a-9d05-60e1887997c9');\n",
              "          const dataTable =\n",
              "            await google.colab.kernel.invokeFunction('convertToInteractive',\n",
              "                                                     [key], {});\n",
              "          if (!dataTable) return;\n",
              "\n",
              "          const docLinkHtml = 'Like what you see? Visit the ' +\n",
              "            '<a target=\"_blank\" href=https://colab.research.google.com/notebooks/data_table.ipynb>data table notebook</a>'\n",
              "            + ' to learn more about interactive tables.';\n",
              "          element.innerHTML = '';\n",
              "          dataTable['output_type'] = 'display_data';\n",
              "          await google.colab.output.renderOutput(dataTable, element);\n",
              "          const docLink = document.createElement('div');\n",
              "          docLink.innerHTML = docLinkHtml;\n",
              "          element.appendChild(docLink);\n",
              "        }\n",
              "      </script>\n",
              "    </div>\n",
              "  </div>\n",
              "  "
            ]
          },
          "metadata": {},
          "execution_count": 74
        }
      ]
    },
    {
      "cell_type": "code",
      "source": [
        "#Separamos nuestro target de nuestros fueatures \n",
        "y= data['TARGET_D']\n",
        "X=data.drop(['TARGET_D'],axis=1)"
      ],
      "metadata": {
        "id": "MlBdV4HaLJR8"
      },
      "execution_count": null,
      "outputs": []
    },
    {
      "cell_type": "code",
      "source": [
        "#separar la info numerica de la categorica \n",
        "X_num = X.select_dtypes(include=np.number)\n",
        "X_cat = X.select_dtypes(include=np.object)"
      ],
      "metadata": {
        "id": "z0L-dmOSLJVe"
      },
      "execution_count": null,
      "outputs": []
    },
    {
      "cell_type": "code",
      "source": [
        "sns.distplot(X_num['IC1'])"
      ],
      "metadata": {
        "colab": {
          "base_uri": "https://localhost:8080/",
          "height": 296
        },
        "id": "VCK3ub0XLJYP",
        "outputId": "c78f5e6b-c342-4f65-a036-d58c7a2fe49d"
      },
      "execution_count": null,
      "outputs": [
        {
          "output_type": "execute_result",
          "data": {
            "text/plain": [
              "<matplotlib.axes._subplots.AxesSubplot at 0x7f2dbc42d400>"
            ]
          },
          "metadata": {},
          "execution_count": 78
        },
        {
          "output_type": "display_data",
          "data": {
            "text/plain": [
              "<Figure size 432x288 with 1 Axes>"
            ],
            "image/png": "[encoded data removed]"
          },
          "metadata": {
            "needs_background": "light"
          }
        }
      ]
    },
    {
      "cell_type": "code",
      "source": [
        "sns.distplot(X_num['IC2'])"
      ],
      "metadata": {
        "colab": {
          "base_uri": "https://localhost:8080/",
          "height": 296
        },
        "id": "msrwLko4JJrU",
        "outputId": "8902e6d4-7e07-4ff4-93d9-8aa880df9221"
      },
      "execution_count": null,
      "outputs": [
        {
          "output_type": "execute_result",
          "data": {
            "text/plain": [
              "<matplotlib.axes._subplots.AxesSubplot at 0x7f2dba7d68b0>"
            ]
          },
          "metadata": {},
          "execution_count": 79
        },
        {
          "output_type": "display_data",
          "data": {
            "text/plain": [
              "<Figure size 432x288 with 1 Axes>"
            ],
            "image/png": "[encoded data removed]"
          },
          "metadata": {
            "needs_background": "light"
          }
        }
      ]
    },
    {
      "cell_type": "code",
      "source": [
        "sns.distplot(X_num['IC3'])"
      ],
      "metadata": {
        "colab": {
          "base_uri": "https://localhost:8080/",
          "height": 296
        },
        "id": "dlRrC1W1JJue",
        "outputId": "f44dd14a-804b-42b1-9e06-8682702c39bf"
      },
      "execution_count": null,
      "outputs": [
        {
          "output_type": "execute_result",
          "data": {
            "text/plain": [
              "<matplotlib.axes._subplots.AxesSubplot at 0x7f2dba777c40>"
            ]
          },
          "metadata": {},
          "execution_count": 80
        },
        {
          "output_type": "display_data",
          "data": {
            "text/plain": [
              "<Figure size 432x288 with 1 Axes>"
            ],
            "image/png": "[encoded data removed]"
          },
          "metadata": {
            "needs_background": "light"
          }
        }
      ]
    },
    {
      "cell_type": "code",
      "source": [
        "from scipy.spatial import transform\n",
        "from sklearn.preprocessing import Normalizer\n",
        "from sklearn.preprocessing import StandardScaler \n",
        "#Esto me forma la herramienta para escalar los datos con base en cierta info de entrada(en este caso con X_num)\n",
        "transformer=Normalizer().fit(X_num)\n",
        "X_normalized=transformer.transform(X_num)\n",
        "#Aqui la estmaosa convirtiendo en un dataframe \n",
        "X_normalized_df=pd.DataFrame(X_normalized)"
      ],
      "metadata": {
        "id": "0TlZZkSPM6tq"
      },
      "execution_count": null,
      "outputs": []
    },
    {
      "cell_type": "code",
      "source": [
        "X_normalized_df"
      ],
      "metadata": {
        "colab": {
          "base_uri": "https://localhost:8080/",
          "height": 424
        },
        "id": "jXp60aqqM6wn",
        "outputId": "24e8e1f7-2713-401b-f53c-dbe29b5966f2"
      },
      "execution_count": null,
      "outputs": [
        {
          "output_type": "execute_result",
          "data": {
            "text/plain": [
              "             0         1         2         3         4         5         6\n",
              "0     0.158850  0.028439  0.030199  0.031689  0.034059  0.985333  0.001050\n",
              "1     0.042373  0.029840  0.031034  0.030437  0.032739  0.997172  0.000263\n",
              "2     0.070689  0.026976  0.028874  0.029161  0.031289  0.995797  0.000431\n",
              "3     0.051162  0.023298  0.028493  0.026919  0.032901  0.997106  0.001055\n",
              "4     0.097819  0.022162  0.025601  0.028021  0.031715  0.993727  0.001119\n",
              "...        ...       ...       ...       ...       ...       ...       ...\n",
              "4838  0.045837  0.019420  0.021905  0.026482  0.030602  0.997699  0.001014\n",
              "4839  0.137112  0.011600  0.018584  0.014009  0.018257  0.990046  0.000484\n",
              "4840  0.048618  0.022364  0.028824  0.024726  0.030977  0.997363  0.000787\n",
              "4841  0.061129  0.020953  0.022885  0.025530  0.029395  0.996887  0.001322\n",
              "4842  0.035585  0.016457  0.021761  0.021607  0.026989  0.998396  0.000694\n",
              "\n",
              "[4843 rows x 7 columns]"
            ],
            "text/html": [
              "\n",
              "  <div id=\"df-c7821a7e-034a-4b0b-9791-6714baca2434\">\n",
              "    <div class=\"colab-df-container\">\n",
              "      <div>\n",
              "<style scoped>\n",
              "    .dataframe tbody tr th:only-of-type {\n",
              "        vertical-align: middle;\n",
              "    }\n",
              "\n",
              "    .dataframe tbody tr th {\n",
              "        vertical-align: top;\n",
              "    }\n",
              "\n",
              "    .dataframe thead th {\n",
              "        text-align: right;\n",
              "    }\n",
              "</style>\n",
              "<table border=\"1\" class=\"dataframe\">\n",
              "  <thead>\n",
              "    <tr style=\"text-align: right;\">\n",
              "      <th></th>\n",
              "      <th>0</th>\n",
              "      <th>1</th>\n",
              "      <th>2</th>\n",
              "      <th>3</th>\n",
              "      <th>4</th>\n",
              "      <th>5</th>\n",
              "      <th>6</th>\n",
              "    </tr>\n",
              "  </thead>\n",
              "  <tbody>\n",
              "    <tr>\n",
              "      <th>0</th>\n",
              "      <td>0.158850</td>\n",
              "      <td>0.028439</td>\n",
              "      <td>0.030199</td>\n",
              "      <td>0.031689</td>\n",
              "      <td>0.034059</td>\n",
              "      <td>0.985333</td>\n",
              "      <td>0.001050</td>\n",
              "    </tr>\n",
              "    <tr>\n",
              "      <th>1</th>\n",
              "      <td>0.042373</td>\n",
              "      <td>0.029840</td>\n",
              "      <td>0.031034</td>\n",
              "      <td>0.030437</td>\n",
              "      <td>0.032739</td>\n",
              "      <td>0.997172</td>\n",
              "      <td>0.000263</td>\n",
              "    </tr>\n",
              "    <tr>\n",
              "      <th>2</th>\n",
              "      <td>0.070689</td>\n",
              "      <td>0.026976</td>\n",
              "      <td>0.028874</td>\n",
              "      <td>0.029161</td>\n",
              "      <td>0.031289</td>\n",
              "      <td>0.995797</td>\n",
              "      <td>0.000431</td>\n",
              "    </tr>\n",
              "    <tr>\n",
              "      <th>3</th>\n",
              "      <td>0.051162</td>\n",
              "      <td>0.023298</td>\n",
              "      <td>0.028493</td>\n",
              "      <td>0.026919</td>\n",
              "      <td>0.032901</td>\n",
              "      <td>0.997106</td>\n",
              "      <td>0.001055</td>\n",
              "    </tr>\n",
              "    <tr>\n",
              "      <th>4</th>\n",
              "      <td>0.097819</td>\n",
              "      <td>0.022162</td>\n",
              "      <td>0.025601</td>\n",
              "      <td>0.028021</td>\n",
              "      <td>0.031715</td>\n",
              "      <td>0.993727</td>\n",
              "      <td>0.001119</td>\n",
              "    </tr>\n",
              "    <tr>\n",
              "      <th>...</th>\n",
              "      <td>...</td>\n",
              "      <td>...</td>\n",
              "      <td>...</td>\n",
              "      <td>...</td>\n",
              "      <td>...</td>\n",
              "      <td>...</td>\n",
              "      <td>...</td>\n",
              "    </tr>\n",
              "    <tr>\n",
              "      <th>4838</th>\n",
              "      <td>0.045837</td>\n",
              "      <td>0.019420</td>\n",
              "      <td>0.021905</td>\n",
              "      <td>0.026482</td>\n",
              "      <td>0.030602</td>\n",
              "      <td>0.997699</td>\n",
              "      <td>0.001014</td>\n",
              "    </tr>\n",
              "    <tr>\n",
              "      <th>4839</th>\n",
              "      <td>0.137112</td>\n",
              "      <td>0.011600</td>\n",
              "      <td>0.018584</td>\n",
              "      <td>0.014009</td>\n",
              "      <td>0.018257</td>\n",
              "      <td>0.990046</td>\n",
              "      <td>0.000484</td>\n",
              "    </tr>\n",
              "    <tr>\n",
              "      <th>4840</th>\n",
              "      <td>0.048618</td>\n",
              "      <td>0.022364</td>\n",
              "      <td>0.028824</td>\n",
              "      <td>0.024726</td>\n",
              "      <td>0.030977</td>\n",
              "      <td>0.997363</td>\n",
              "      <td>0.000787</td>\n",
              "    </tr>\n",
              "    <tr>\n",
              "      <th>4841</th>\n",
              "      <td>0.061129</td>\n",
              "      <td>0.020953</td>\n",
              "      <td>0.022885</td>\n",
              "      <td>0.025530</td>\n",
              "      <td>0.029395</td>\n",
              "      <td>0.996887</td>\n",
              "      <td>0.001322</td>\n",
              "    </tr>\n",
              "    <tr>\n",
              "      <th>4842</th>\n",
              "      <td>0.035585</td>\n",
              "      <td>0.016457</td>\n",
              "      <td>0.021761</td>\n",
              "      <td>0.021607</td>\n",
              "      <td>0.026989</td>\n",
              "      <td>0.998396</td>\n",
              "      <td>0.000694</td>\n",
              "    </tr>\n",
              "  </tbody>\n",
              "</table>\n",
              "<p>4843 rows × 7 columns</p>\n",
              "</div>\n",
              "      <button class=\"colab-df-convert\" onclick=\"convertToInteractive('df-c7821a7e-034a-4b0b-9791-6714baca2434')\"\n",
              "              title=\"Convert this dataframe to an interactive table.\"\n",
              "              style=\"display:none;\">\n",
              "        \n",
              "  <svg xmlns=\"http://www.w3.org/2000/svg\" height=\"24px\"viewBox=\"0 0 24 24\"\n",
              "       width=\"24px\">\n",
              "    <path d=\"M0 0h24v24H0V0z\" fill=\"none\"/>\n",
              "    <path d=\"M18.56 5.44l.94 2.06.94-2.06 2.06-.94-2.06-.94-.94-2.06-.94 2.06-2.06.94zm-11 1L8.5 8.5l.94-2.06 2.06-.94-2.06-.94L8.5 2.5l-.94 2.06-2.06.94zm10 10l.94 2.06.94-2.06 2.06-.94-2.06-.94-.94-2.06-.94 2.06-2.06.94z\"/><path d=\"M17.41 7.96l-1.37-1.37c-.4-.4-.92-.59-1.43-.59-.52 0-1.04.2-1.43.59L10.3 9.45l-7.72 7.72c-.78.78-.78 2.05 0 2.83L4 21.41c.39.39.9.59 1.41.59.51 0 1.02-.2 1.41-.59l7.78-7.78 2.81-2.81c.8-.78.8-2.07 0-2.86zM5.41 20L4 18.59l7.72-7.72 1.47 1.35L5.41 20z\"/>\n",
              "  </svg>\n",
              "      </button>\n",
              "      \n",
              "  <style>\n",
              "    .colab-df-container {\n",
              "      display:flex;\n",
              "      flex-wrap:wrap;\n",
              "      gap: 12px;\n",
              "    }\n",
              "\n",
              "    .colab-df-convert {\n",
              "      background-color: #E8F0FE;\n",
              "      border: none;\n",
              "      border-radius: 50%;\n",
              "      cursor: pointer;\n",
              "      display: none;\n",
              "      fill: #1967D2;\n",
              "      height: 32px;\n",
              "      padding: 0 0 0 0;\n",
              "      width: 32px;\n",
              "    }\n",
              "\n",
              "    .colab-df-convert:hover {\n",
              "      background-color: #E2EBFA;\n",
              "      box-shadow: 0px 1px 2px rgba(60, 64, 67, 0.3), 0px 1px 3px 1px rgba(60, 64, 67, 0.15);\n",
              "      fill: #174EA6;\n",
              "    }\n",
              "\n",
              "    [theme=dark] .colab-df-convert {\n",
              "      background-color: #3B4455;\n",
              "      fill: #D2E3FC;\n",
              "    }\n",
              "\n",
              "    [theme=dark] .colab-df-convert:hover {\n",
              "      background-color: #434B5C;\n",
              "      box-shadow: 0px 1px 3px 1px rgba(0, 0, 0, 0.15);\n",
              "      filter: drop-shadow(0px 1px 2px rgba(0, 0, 0, 0.3));\n",
              "      fill: #FFFFFF;\n",
              "    }\n",
              "  </style>\n",
              "\n",
              "      <script>\n",
              "        const buttonEl =\n",
              "          document.querySelector('#df-c7821a7e-034a-4b0b-9791-6714baca2434 button.colab-df-convert');\n",
              "        buttonEl.style.display =\n",
              "          google.colab.kernel.accessAllowed ? 'block' : 'none';\n",
              "\n",
              "        async function convertToInteractive(key) {\n",
              "          const element = document.querySelector('#df-c7821a7e-034a-4b0b-9791-6714baca2434');\n",
              "          const dataTable =\n",
              "            await google.colab.kernel.invokeFunction('convertToInteractive',\n",
              "                                                     [key], {});\n",
              "          if (!dataTable) return;\n",
              "\n",
              "          const docLinkHtml = 'Like what you see? Visit the ' +\n",
              "            '<a target=\"_blank\" href=https://colab.research.google.com/notebooks/data_table.ipynb>data table notebook</a>'\n",
              "            + ' to learn more about interactive tables.';\n",
              "          element.innerHTML = '';\n",
              "          dataTable['output_type'] = 'display_data';\n",
              "          await google.colab.output.renderOutput(dataTable, element);\n",
              "          const docLink = document.createElement('div');\n",
              "          docLink.innerHTML = docLinkHtml;\n",
              "          element.appendChild(docLink);\n",
              "        }\n",
              "      </script>\n",
              "    </div>\n",
              "  </div>\n",
              "  "
            ]
          },
          "metadata": {},
          "execution_count": 86
        }
      ]
    },
    {
      "cell_type": "code",
      "source": [
        "sns.distplot(X_normalized_df[1])"
      ],
      "metadata": {
        "colab": {
          "base_uri": "https://localhost:8080/",
          "height": 296
        },
        "id": "6eSSuZFiM6yd",
        "outputId": "02e452ed-86f5-4ec4-d2b6-1b5ec9aaa20c"
      },
      "execution_count": null,
      "outputs": [
        {
          "output_type": "execute_result",
          "data": {
            "text/plain": [
              "<matplotlib.axes._subplots.AxesSubplot at 0x7f2dba8034f0>"
            ]
          },
          "metadata": {},
          "execution_count": 87
        },
        {
          "output_type": "display_data",
          "data": {
            "text/plain": [
              "<Figure size 432x288 with 1 Axes>"
            ],
            "image/png": "[encoded data removed]"
          },
          "metadata": {
            "needs_background": "light"
          }
        }
      ]
    },
    {
      "cell_type": "code",
      "source": [
        "sns.distplot(X_normalized_df[2])"
      ],
      "metadata": {
        "colab": {
          "base_uri": "https://localhost:8080/",
          "height": 296
        },
        "id": "F0ATB4iJM61s",
        "outputId": "29604047-f366-4513-f547-019efffd8b34"
      },
      "execution_count": null,
      "outputs": [
        {
          "output_type": "execute_result",
          "data": {
            "text/plain": [
              "<matplotlib.axes._subplots.AxesSubplot at 0x7f2dba46e0d0>"
            ]
          },
          "metadata": {},
          "execution_count": 88
        },
        {
          "output_type": "display_data",
          "data": {
            "text/plain": [
              "<Figure size 432x288 with 1 Axes>"
            ],
            "image/png": "[encoded data removed]"
          },
          "metadata": {
            "needs_background": "light"
          }
        }
      ]
    },
    {
      "cell_type": "code",
      "source": [
        "sns.distplot(X_normalized_df[3])"
      ],
      "metadata": {
        "colab": {
          "base_uri": "https://localhost:8080/",
          "height": 300
        },
        "id": "hi9KhjPwOiIF",
        "outputId": "7e80be8c-61f3-479e-bb83-c76761cd7db1"
      },
      "execution_count": null,
      "outputs": [
        {
          "output_type": "execute_result",
          "data": {
            "text/plain": [
              "<matplotlib.axes._subplots.AxesSubplot at 0x7f2dba3c7eb0>"
            ]
          },
          "metadata": {},
          "execution_count": 89
        },
        {
          "output_type": "display_data",
          "data": {
            "text/plain": [
              "<Figure size 432x288 with 1 Axes>"
            ],
            "image/png": "[encoded data removed]"
          },
          "metadata": {
            "needs_background": "light"
          }
        }
      ]
    }
  ]
}