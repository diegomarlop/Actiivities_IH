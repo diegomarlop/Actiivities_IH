{
  "nbformat": 4,
  "nbformat_minor": 0,
  "metadata": {
    "colab": {
      "provenance": [],
      "authorship_tag": "ABX9TyPT8WMm3QLJE0LHnOSvrSPI",
      "include_colab_link": true
    },
    "kernelspec": {
      "name": "python3",
      "display_name": "Python 3"
    },
    "language_info": {
      "name": "python"
    }
  },
  "cells": [
    {
      "cell_type": "markdown",
      "metadata": {
        "id": "view-in-github",
        "colab_type": "text"
      },
      "source": [
        "<a href=\"https://colab.research.google.com/github/diegomarlop/Actiivities_IH/blob/main/Activities1_04.ipynb\" target=\"_parent\"><img src=\"https://colab.research.google.com/assets/colab-badge.svg\" alt=\"Open In Colab\"/></a>"
      ]
    },
    {
      "cell_type": "markdown",
      "source": [
        "#1.04 Activity 1\n"
      ],
      "metadata": {
        "id": "h0oMmDLmIBCf"
      }
    },
    {
      "cell_type": "markdown",
      "source": [
        "1. Load data (file1.csv) in a new Jupyter notebook.\n",
        "2. Write the code to clean the columns 'ic4' and 'ic5' of null values in the dataframe.\n",
        "3. Use the head() to check the new dataframe."
      ],
      "metadata": {
        "id": "odL4UqjXIEs4"
      }
    },
    {
      "cell_type": "code",
      "execution_count": null,
      "metadata": {
        "id": "i3s1mH8qHD2r"
      },
      "outputs": [],
      "source": [
        "import pandas as pd\n",
        "import numpy as np"
      ]
    },
    {
      "cell_type": "code",
      "source": [
        "data = pd.read_csv('file1.csv')\n",
        "data2 = pd.read_csv('merged_clean_ver1.csv')"
      ],
      "metadata": {
        "id": "-ZSNUe8HHShI"
      },
      "execution_count": null,
      "outputs": []
    },
    {
      "cell_type": "code",
      "source": [
        "data"
      ],
      "metadata": {
        "colab": {
          "base_uri": "https://localhost:8080/",
          "height": 424
        },
        "id": "rEApbXyZJUKq",
        "outputId": "5cf5c197-28f1-4439-c3b0-f6cfb0658e54"
      },
      "execution_count": null,
      "outputs": [
        {
          "output_type": "execute_result",
          "data": {
            "text/plain": [
              "      CONTROLN STATE GENDER      HV1  IC1    IC4  HVP1    IC5  POBC1  POBC2  \\\n",
              "0        44060    FL      M   AAA896  392  520.0     7  21975      6     16   \n",
              "1        96093    IL      M   537.00  365  473.0     0  19387      1     89   \n",
              "2        43333    FL      F   725.00  301  436.0     3  18837     11     17   \n",
              "3        21885    NC      M  AAA1095  401  413.0     7  14014      1     74   \n",
              "4       190108    FL      F   995.00  252  348.0     0  17991      5      6   \n",
              "...        ...   ...    ...      ...  ...    ...   ...    ...    ...    ...   \n",
              "1002    114721    OK    NaN     1040  472  656.0     0  26962      2     56   \n",
              "1003    149152    CA      M     4507  842  962.0    95  54642     17     50   \n",
              "1004       959    IA      F      586  349  465.0     1  15304      1     77   \n",
              "1005    179563    WA   male      842  420  494.0     2  12894     41     24   \n",
              "1006     41243    FL      F      556  246  330.0     0  10272      2     56   \n",
              "\n",
              "         IC2  IC3    AVGGIFT  TCODE   DOB DOMAIN  TARGET_D  \n",
              "0      430.0  466  28.000000      1  1901     C2     100.0  \n",
              "1      415.0  410   5.666667      0     0     T2       7.0  \n",
              "2      340.0  361   4.111111      0  2501     C2       5.0  \n",
              "3      407.0  399  27.277778      0  2208     T2      38.0  \n",
              "4      280.0  316   6.000000     28     0     C2       5.0  \n",
              "...      ...  ...        ...    ...   ...    ...       ...  \n",
              "1002   609.0  579  11.666667      0     0     C2      15.0  \n",
              "1003  1004.0  893  20.000000      1  4401     S1      20.0  \n",
              "1004   413.0  404   7.300000      0  4404     C2      10.0  \n",
              "1005   419.0  476  16.400000      1  5001     S2      23.0  \n",
              "1006   277.0  292   9.818182      2  2201     S2      12.0  \n",
              "\n",
              "[1007 rows x 17 columns]"
            ],
            "text/html": [
              "\n",
              "  <div id=\"df-7a5fb37f-3c59-45da-aa49-1eb114794f20\">\n",
              "    <div class=\"colab-df-container\">\n",
              "      <div>\n",
              "<style scoped>\n",
              "    .dataframe tbody tr th:only-of-type {\n",
              "        vertical-align: middle;\n",
              "    }\n",
              "\n",
              "    .dataframe tbody tr th {\n",
              "        vertical-align: top;\n",
              "    }\n",
              "\n",
              "    .dataframe thead th {\n",
              "        text-align: right;\n",
              "    }\n",
              "</style>\n",
              "<table border=\"1\" class=\"dataframe\">\n",
              "  <thead>\n",
              "    <tr style=\"text-align: right;\">\n",
              "      <th></th>\n",
              "      <th>CONTROLN</th>\n",
              "      <th>STATE</th>\n",
              "      <th>GENDER</th>\n",
              "      <th>HV1</th>\n",
              "      <th>IC1</th>\n",
              "      <th>IC4</th>\n",
              "      <th>HVP1</th>\n",
              "      <th>IC5</th>\n",
              "      <th>POBC1</th>\n",
              "      <th>POBC2</th>\n",
              "      <th>IC2</th>\n",
              "      <th>IC3</th>\n",
              "      <th>AVGGIFT</th>\n",
              "      <th>TCODE</th>\n",
              "      <th>DOB</th>\n",
              "      <th>DOMAIN</th>\n",
              "      <th>TARGET_D</th>\n",
              "    </tr>\n",
              "  </thead>\n",
              "  <tbody>\n",
              "    <tr>\n",
              "      <th>0</th>\n",
              "      <td>44060</td>\n",
              "      <td>FL</td>\n",
              "      <td>M</td>\n",
              "      <td>AAA896</td>\n",
              "      <td>392</td>\n",
              "      <td>520.0</td>\n",
              "      <td>7</td>\n",
              "      <td>21975</td>\n",
              "      <td>6</td>\n",
              "      <td>16</td>\n",
              "      <td>430.0</td>\n",
              "      <td>466</td>\n",
              "      <td>28.000000</td>\n",
              "      <td>1</td>\n",
              "      <td>1901</td>\n",
              "      <td>C2</td>\n",
              "      <td>100.0</td>\n",
              "    </tr>\n",
              "    <tr>\n",
              "      <th>1</th>\n",
              "      <td>96093</td>\n",
              "      <td>IL</td>\n",
              "      <td>M</td>\n",
              "      <td>537.00</td>\n",
              "      <td>365</td>\n",
              "      <td>473.0</td>\n",
              "      <td>0</td>\n",
              "      <td>19387</td>\n",
              "      <td>1</td>\n",
              "      <td>89</td>\n",
              "      <td>415.0</td>\n",
              "      <td>410</td>\n",
              "      <td>5.666667</td>\n",
              "      <td>0</td>\n",
              "      <td>0</td>\n",
              "      <td>T2</td>\n",
              "      <td>7.0</td>\n",
              "    </tr>\n",
              "    <tr>\n",
              "      <th>2</th>\n",
              "      <td>43333</td>\n",
              "      <td>FL</td>\n",
              "      <td>F</td>\n",
              "      <td>725.00</td>\n",
              "      <td>301</td>\n",
              "      <td>436.0</td>\n",
              "      <td>3</td>\n",
              "      <td>18837</td>\n",
              "      <td>11</td>\n",
              "      <td>17</td>\n",
              "      <td>340.0</td>\n",
              "      <td>361</td>\n",
              "      <td>4.111111</td>\n",
              "      <td>0</td>\n",
              "      <td>2501</td>\n",
              "      <td>C2</td>\n",
              "      <td>5.0</td>\n",
              "    </tr>\n",
              "    <tr>\n",
              "      <th>3</th>\n",
              "      <td>21885</td>\n",
              "      <td>NC</td>\n",
              "      <td>M</td>\n",
              "      <td>AAA1095</td>\n",
              "      <td>401</td>\n",
              "      <td>413.0</td>\n",
              "      <td>7</td>\n",
              "      <td>14014</td>\n",
              "      <td>1</td>\n",
              "      <td>74</td>\n",
              "      <td>407.0</td>\n",
              "      <td>399</td>\n",
              "      <td>27.277778</td>\n",
              "      <td>0</td>\n",
              "      <td>2208</td>\n",
              "      <td>T2</td>\n",
              "      <td>38.0</td>\n",
              "    </tr>\n",
              "    <tr>\n",
              "      <th>4</th>\n",
              "      <td>190108</td>\n",
              "      <td>FL</td>\n",
              "      <td>F</td>\n",
              "      <td>995.00</td>\n",
              "      <td>252</td>\n",
              "      <td>348.0</td>\n",
              "      <td>0</td>\n",
              "      <td>17991</td>\n",
              "      <td>5</td>\n",
              "      <td>6</td>\n",
              "      <td>280.0</td>\n",
              "      <td>316</td>\n",
              "      <td>6.000000</td>\n",
              "      <td>28</td>\n",
              "      <td>0</td>\n",
              "      <td>C2</td>\n",
              "      <td>5.0</td>\n",
              "    </tr>\n",
              "    <tr>\n",
              "      <th>...</th>\n",
              "      <td>...</td>\n",
              "      <td>...</td>\n",
              "      <td>...</td>\n",
              "      <td>...</td>\n",
              "      <td>...</td>\n",
              "      <td>...</td>\n",
              "      <td>...</td>\n",
              "      <td>...</td>\n",
              "      <td>...</td>\n",
              "      <td>...</td>\n",
              "      <td>...</td>\n",
              "      <td>...</td>\n",
              "      <td>...</td>\n",
              "      <td>...</td>\n",
              "      <td>...</td>\n",
              "      <td>...</td>\n",
              "      <td>...</td>\n",
              "    </tr>\n",
              "    <tr>\n",
              "      <th>1002</th>\n",
              "      <td>114721</td>\n",
              "      <td>OK</td>\n",
              "      <td>NaN</td>\n",
              "      <td>1040</td>\n",
              "      <td>472</td>\n",
              "      <td>656.0</td>\n",
              "      <td>0</td>\n",
              "      <td>26962</td>\n",
              "      <td>2</td>\n",
              "      <td>56</td>\n",
              "      <td>609.0</td>\n",
              "      <td>579</td>\n",
              "      <td>11.666667</td>\n",
              "      <td>0</td>\n",
              "      <td>0</td>\n",
              "      <td>C2</td>\n",
              "      <td>15.0</td>\n",
              "    </tr>\n",
              "    <tr>\n",
              "      <th>1003</th>\n",
              "      <td>149152</td>\n",
              "      <td>CA</td>\n",
              "      <td>M</td>\n",
              "      <td>4507</td>\n",
              "      <td>842</td>\n",
              "      <td>962.0</td>\n",
              "      <td>95</td>\n",
              "      <td>54642</td>\n",
              "      <td>17</td>\n",
              "      <td>50</td>\n",
              "      <td>1004.0</td>\n",
              "      <td>893</td>\n",
              "      <td>20.000000</td>\n",
              "      <td>1</td>\n",
              "      <td>4401</td>\n",
              "      <td>S1</td>\n",
              "      <td>20.0</td>\n",
              "    </tr>\n",
              "    <tr>\n",
              "      <th>1004</th>\n",
              "      <td>959</td>\n",
              "      <td>IA</td>\n",
              "      <td>F</td>\n",
              "      <td>586</td>\n",
              "      <td>349</td>\n",
              "      <td>465.0</td>\n",
              "      <td>1</td>\n",
              "      <td>15304</td>\n",
              "      <td>1</td>\n",
              "      <td>77</td>\n",
              "      <td>413.0</td>\n",
              "      <td>404</td>\n",
              "      <td>7.300000</td>\n",
              "      <td>0</td>\n",
              "      <td>4404</td>\n",
              "      <td>C2</td>\n",
              "      <td>10.0</td>\n",
              "    </tr>\n",
              "    <tr>\n",
              "      <th>1005</th>\n",
              "      <td>179563</td>\n",
              "      <td>WA</td>\n",
              "      <td>male</td>\n",
              "      <td>842</td>\n",
              "      <td>420</td>\n",
              "      <td>494.0</td>\n",
              "      <td>2</td>\n",
              "      <td>12894</td>\n",
              "      <td>41</td>\n",
              "      <td>24</td>\n",
              "      <td>419.0</td>\n",
              "      <td>476</td>\n",
              "      <td>16.400000</td>\n",
              "      <td>1</td>\n",
              "      <td>5001</td>\n",
              "      <td>S2</td>\n",
              "      <td>23.0</td>\n",
              "    </tr>\n",
              "    <tr>\n",
              "      <th>1006</th>\n",
              "      <td>41243</td>\n",
              "      <td>FL</td>\n",
              "      <td>F</td>\n",
              "      <td>556</td>\n",
              "      <td>246</td>\n",
              "      <td>330.0</td>\n",
              "      <td>0</td>\n",
              "      <td>10272</td>\n",
              "      <td>2</td>\n",
              "      <td>56</td>\n",
              "      <td>277.0</td>\n",
              "      <td>292</td>\n",
              "      <td>9.818182</td>\n",
              "      <td>2</td>\n",
              "      <td>2201</td>\n",
              "      <td>S2</td>\n",
              "      <td>12.0</td>\n",
              "    </tr>\n",
              "  </tbody>\n",
              "</table>\n",
              "<p>1007 rows × 17 columns</p>\n",
              "</div>\n",
              "      <button class=\"colab-df-convert\" onclick=\"convertToInteractive('df-7a5fb37f-3c59-45da-aa49-1eb114794f20')\"\n",
              "              title=\"Convert this dataframe to an interactive table.\"\n",
              "              style=\"display:none;\">\n",
              "        \n",
              "  <svg xmlns=\"http://www.w3.org/2000/svg\" height=\"24px\"viewBox=\"0 0 24 24\"\n",
              "       width=\"24px\">\n",
              "    <path d=\"M0 0h24v24H0V0z\" fill=\"none\"/>\n",
              "    <path d=\"M18.56 5.44l.94 2.06.94-2.06 2.06-.94-2.06-.94-.94-2.06-.94 2.06-2.06.94zm-11 1L8.5 8.5l.94-2.06 2.06-.94-2.06-.94L8.5 2.5l-.94 2.06-2.06.94zm10 10l.94 2.06.94-2.06 2.06-.94-2.06-.94-.94-2.06-.94 2.06-2.06.94z\"/><path d=\"M17.41 7.96l-1.37-1.37c-.4-.4-.92-.59-1.43-.59-.52 0-1.04.2-1.43.59L10.3 9.45l-7.72 7.72c-.78.78-.78 2.05 0 2.83L4 21.41c.39.39.9.59 1.41.59.51 0 1.02-.2 1.41-.59l7.78-7.78 2.81-2.81c.8-.78.8-2.07 0-2.86zM5.41 20L4 18.59l7.72-7.72 1.47 1.35L5.41 20z\"/>\n",
              "  </svg>\n",
              "      </button>\n",
              "      \n",
              "  <style>\n",
              "    .colab-df-container {\n",
              "      display:flex;\n",
              "      flex-wrap:wrap;\n",
              "      gap: 12px;\n",
              "    }\n",
              "\n",
              "    .colab-df-convert {\n",
              "      background-color: #E8F0FE;\n",
              "      border: none;\n",
              "      border-radius: 50%;\n",
              "      cursor: pointer;\n",
              "      display: none;\n",
              "      fill: #1967D2;\n",
              "      height: 32px;\n",
              "      padding: 0 0 0 0;\n",
              "      width: 32px;\n",
              "    }\n",
              "\n",
              "    .colab-df-convert:hover {\n",
              "      background-color: #E2EBFA;\n",
              "      box-shadow: 0px 1px 2px rgba(60, 64, 67, 0.3), 0px 1px 3px 1px rgba(60, 64, 67, 0.15);\n",
              "      fill: #174EA6;\n",
              "    }\n",
              "\n",
              "    [theme=dark] .colab-df-convert {\n",
              "      background-color: #3B4455;\n",
              "      fill: #D2E3FC;\n",
              "    }\n",
              "\n",
              "    [theme=dark] .colab-df-convert:hover {\n",
              "      background-color: #434B5C;\n",
              "      box-shadow: 0px 1px 3px 1px rgba(0, 0, 0, 0.15);\n",
              "      filter: drop-shadow(0px 1px 2px rgba(0, 0, 0, 0.3));\n",
              "      fill: #FFFFFF;\n",
              "    }\n",
              "  </style>\n",
              "\n",
              "      <script>\n",
              "        const buttonEl =\n",
              "          document.querySelector('#df-7a5fb37f-3c59-45da-aa49-1eb114794f20 button.colab-df-convert');\n",
              "        buttonEl.style.display =\n",
              "          google.colab.kernel.accessAllowed ? 'block' : 'none';\n",
              "\n",
              "        async function convertToInteractive(key) {\n",
              "          const element = document.querySelector('#df-7a5fb37f-3c59-45da-aa49-1eb114794f20');\n",
              "          const dataTable =\n",
              "            await google.colab.kernel.invokeFunction('convertToInteractive',\n",
              "                                                     [key], {});\n",
              "          if (!dataTable) return;\n",
              "\n",
              "          const docLinkHtml = 'Like what you see? Visit the ' +\n",
              "            '<a target=\"_blank\" href=https://colab.research.google.com/notebooks/data_table.ipynb>data table notebook</a>'\n",
              "            + ' to learn more about interactive tables.';\n",
              "          element.innerHTML = '';\n",
              "          dataTable['output_type'] = 'display_data';\n",
              "          await google.colab.output.renderOutput(dataTable, element);\n",
              "          const docLink = document.createElement('div');\n",
              "          docLink.innerHTML = docLinkHtml;\n",
              "          element.appendChild(docLink);\n",
              "        }\n",
              "      </script>\n",
              "    </div>\n",
              "  </div>\n",
              "  "
            ]
          },
          "metadata": {},
          "execution_count": 3
        }
      ]
    },
    {
      "cell_type": "code",
      "source": [
        "#EN minusculas \n",
        "data.columns = data.columns.map(lambda x: x.lower())"
      ],
      "metadata": {
        "id": "XwqolwEhK2ZB"
      },
      "execution_count": null,
      "outputs": []
    },
    {
      "cell_type": "code",
      "source": [
        "data"
      ],
      "metadata": {
        "id": "kpfVQMUBLcuu"
      },
      "execution_count": null,
      "outputs": []
    },
    {
      "cell_type": "code",
      "source": [
        "sum(data['IC4'].isnull())"
      ],
      "metadata": {
        "colab": {
          "base_uri": "https://localhost:8080/"
        },
        "id": "b_C6XxD3HSj8",
        "outputId": "af79b0c7-7666-4881-d7c5-5d54949fb3f1"
      },
      "execution_count": null,
      "outputs": [
        {
          "output_type": "execute_result",
          "data": {
            "text/plain": [
              "1"
            ]
          },
          "metadata": {},
          "execution_count": 9
        }
      ]
    },
    {
      "cell_type": "code",
      "source": [
        "sum(data['ic5'].isnull())"
      ],
      "metadata": {
        "colab": {
          "base_uri": "https://localhost:8080/"
        },
        "id": "yocGHf7oR1EV",
        "outputId": "af94de64-7d73-4189-a799-b3749023fd34"
      },
      "execution_count": null,
      "outputs": [
        {
          "output_type": "execute_result",
          "data": {
            "text/plain": [
              "0"
            ]
          },
          "metadata": {},
          "execution_count": 42
        }
      ]
    },
    {
      "cell_type": "code",
      "source": [
        "mean_ic4= np.mean(data['ic4'])\n",
        "mean_ic4"
      ],
      "metadata": {
        "colab": {
          "base_uri": "https://localhost:8080/"
        },
        "id": "z6NBjVi8OfzC",
        "outputId": "d7582524-b02d-4b0a-d9fa-c2ef53fc29ea"
      },
      "execution_count": null,
      "outputs": [
        {
          "output_type": "execute_result",
          "data": {
            "text/plain": [
              "445.0596421471173"
            ]
          },
          "metadata": {},
          "execution_count": 28
        }
      ]
    },
    {
      "cell_type": "code",
      "source": [
        "#Se llenan los valores null con el promedi de la columna ic4\n",
        "data['ic4']=data['ic4'].fillna(mean_ic4)"
      ],
      "metadata": {
        "id": "cbTk9dXGRFbO"
      },
      "execution_count": null,
      "outputs": []
    },
    {
      "cell_type": "code",
      "source": [
        "data.head()"
      ],
      "metadata": {
        "colab": {
          "base_uri": "https://localhost:8080/",
          "height": 206
        },
        "id": "AiWIed78HSse",
        "outputId": "2fa56cf3-3c9b-4882-9fb1-9ea17eec536a"
      },
      "execution_count": null,
      "outputs": [
        {
          "output_type": "execute_result",
          "data": {
            "text/plain": [
              "   controln state gender      hv1  ic1    ic4  hvp1    ic5  pobc1  pobc2  \\\n",
              "0     44060    FL      M   AAA896  392  520.0     7  21975      6     16   \n",
              "1     96093    IL      M   537.00  365  473.0     0  19387      1     89   \n",
              "2     43333    FL      F   725.00  301  436.0     3  18837     11     17   \n",
              "3     21885    NC      M  AAA1095  401  413.0     7  14014      1     74   \n",
              "4    190108    FL      F   995.00  252  348.0     0  17991      5      6   \n",
              "\n",
              "     ic2  ic3    avggift  tcode   dob domain  target_d  \n",
              "0  430.0  466  28.000000      1  1901     C2     100.0  \n",
              "1  415.0  410   5.666667      0     0     T2       7.0  \n",
              "2  340.0  361   4.111111      0  2501     C2       5.0  \n",
              "3  407.0  399  27.277778      0  2208     T2      38.0  \n",
              "4  280.0  316   6.000000     28     0     C2       5.0  "
            ],
            "text/html": [
              "\n",
              "  <div id=\"df-b2de73e6-a0ea-4cf3-8b19-62ed5c3ff4b0\">\n",
              "    <div class=\"colab-df-container\">\n",
              "      <div>\n",
              "<style scoped>\n",
              "    .dataframe tbody tr th:only-of-type {\n",
              "        vertical-align: middle;\n",
              "    }\n",
              "\n",
              "    .dataframe tbody tr th {\n",
              "        vertical-align: top;\n",
              "    }\n",
              "\n",
              "    .dataframe thead th {\n",
              "        text-align: right;\n",
              "    }\n",
              "</style>\n",
              "<table border=\"1\" class=\"dataframe\">\n",
              "  <thead>\n",
              "    <tr style=\"text-align: right;\">\n",
              "      <th></th>\n",
              "      <th>controln</th>\n",
              "      <th>state</th>\n",
              "      <th>gender</th>\n",
              "      <th>hv1</th>\n",
              "      <th>ic1</th>\n",
              "      <th>ic4</th>\n",
              "      <th>hvp1</th>\n",
              "      <th>ic5</th>\n",
              "      <th>pobc1</th>\n",
              "      <th>pobc2</th>\n",
              "      <th>ic2</th>\n",
              "      <th>ic3</th>\n",
              "      <th>avggift</th>\n",
              "      <th>tcode</th>\n",
              "      <th>dob</th>\n",
              "      <th>domain</th>\n",
              "      <th>target_d</th>\n",
              "    </tr>\n",
              "  </thead>\n",
              "  <tbody>\n",
              "    <tr>\n",
              "      <th>0</th>\n",
              "      <td>44060</td>\n",
              "      <td>FL</td>\n",
              "      <td>M</td>\n",
              "      <td>AAA896</td>\n",
              "      <td>392</td>\n",
              "      <td>520.0</td>\n",
              "      <td>7</td>\n",
              "      <td>21975</td>\n",
              "      <td>6</td>\n",
              "      <td>16</td>\n",
              "      <td>430.0</td>\n",
              "      <td>466</td>\n",
              "      <td>28.000000</td>\n",
              "      <td>1</td>\n",
              "      <td>1901</td>\n",
              "      <td>C2</td>\n",
              "      <td>100.0</td>\n",
              "    </tr>\n",
              "    <tr>\n",
              "      <th>1</th>\n",
              "      <td>96093</td>\n",
              "      <td>IL</td>\n",
              "      <td>M</td>\n",
              "      <td>537.00</td>\n",
              "      <td>365</td>\n",
              "      <td>473.0</td>\n",
              "      <td>0</td>\n",
              "      <td>19387</td>\n",
              "      <td>1</td>\n",
              "      <td>89</td>\n",
              "      <td>415.0</td>\n",
              "      <td>410</td>\n",
              "      <td>5.666667</td>\n",
              "      <td>0</td>\n",
              "      <td>0</td>\n",
              "      <td>T2</td>\n",
              "      <td>7.0</td>\n",
              "    </tr>\n",
              "    <tr>\n",
              "      <th>2</th>\n",
              "      <td>43333</td>\n",
              "      <td>FL</td>\n",
              "      <td>F</td>\n",
              "      <td>725.00</td>\n",
              "      <td>301</td>\n",
              "      <td>436.0</td>\n",
              "      <td>3</td>\n",
              "      <td>18837</td>\n",
              "      <td>11</td>\n",
              "      <td>17</td>\n",
              "      <td>340.0</td>\n",
              "      <td>361</td>\n",
              "      <td>4.111111</td>\n",
              "      <td>0</td>\n",
              "      <td>2501</td>\n",
              "      <td>C2</td>\n",
              "      <td>5.0</td>\n",
              "    </tr>\n",
              "    <tr>\n",
              "      <th>3</th>\n",
              "      <td>21885</td>\n",
              "      <td>NC</td>\n",
              "      <td>M</td>\n",
              "      <td>AAA1095</td>\n",
              "      <td>401</td>\n",
              "      <td>413.0</td>\n",
              "      <td>7</td>\n",
              "      <td>14014</td>\n",
              "      <td>1</td>\n",
              "      <td>74</td>\n",
              "      <td>407.0</td>\n",
              "      <td>399</td>\n",
              "      <td>27.277778</td>\n",
              "      <td>0</td>\n",
              "      <td>2208</td>\n",
              "      <td>T2</td>\n",
              "      <td>38.0</td>\n",
              "    </tr>\n",
              "    <tr>\n",
              "      <th>4</th>\n",
              "      <td>190108</td>\n",
              "      <td>FL</td>\n",
              "      <td>F</td>\n",
              "      <td>995.00</td>\n",
              "      <td>252</td>\n",
              "      <td>348.0</td>\n",
              "      <td>0</td>\n",
              "      <td>17991</td>\n",
              "      <td>5</td>\n",
              "      <td>6</td>\n",
              "      <td>280.0</td>\n",
              "      <td>316</td>\n",
              "      <td>6.000000</td>\n",
              "      <td>28</td>\n",
              "      <td>0</td>\n",
              "      <td>C2</td>\n",
              "      <td>5.0</td>\n",
              "    </tr>\n",
              "  </tbody>\n",
              "</table>\n",
              "</div>\n",
              "      <button class=\"colab-df-convert\" onclick=\"convertToInteractive('df-b2de73e6-a0ea-4cf3-8b19-62ed5c3ff4b0')\"\n",
              "              title=\"Convert this dataframe to an interactive table.\"\n",
              "              style=\"display:none;\">\n",
              "        \n",
              "  <svg xmlns=\"http://www.w3.org/2000/svg\" height=\"24px\"viewBox=\"0 0 24 24\"\n",
              "       width=\"24px\">\n",
              "    <path d=\"M0 0h24v24H0V0z\" fill=\"none\"/>\n",
              "    <path d=\"M18.56 5.44l.94 2.06.94-2.06 2.06-.94-2.06-.94-.94-2.06-.94 2.06-2.06.94zm-11 1L8.5 8.5l.94-2.06 2.06-.94-2.06-.94L8.5 2.5l-.94 2.06-2.06.94zm10 10l.94 2.06.94-2.06 2.06-.94-2.06-.94-.94-2.06-.94 2.06-2.06.94z\"/><path d=\"M17.41 7.96l-1.37-1.37c-.4-.4-.92-.59-1.43-.59-.52 0-1.04.2-1.43.59L10.3 9.45l-7.72 7.72c-.78.78-.78 2.05 0 2.83L4 21.41c.39.39.9.59 1.41.59.51 0 1.02-.2 1.41-.59l7.78-7.78 2.81-2.81c.8-.78.8-2.07 0-2.86zM5.41 20L4 18.59l7.72-7.72 1.47 1.35L5.41 20z\"/>\n",
              "  </svg>\n",
              "      </button>\n",
              "      \n",
              "  <style>\n",
              "    .colab-df-container {\n",
              "      display:flex;\n",
              "      flex-wrap:wrap;\n",
              "      gap: 12px;\n",
              "    }\n",
              "\n",
              "    .colab-df-convert {\n",
              "      background-color: #E8F0FE;\n",
              "      border: none;\n",
              "      border-radius: 50%;\n",
              "      cursor: pointer;\n",
              "      display: none;\n",
              "      fill: #1967D2;\n",
              "      height: 32px;\n",
              "      padding: 0 0 0 0;\n",
              "      width: 32px;\n",
              "    }\n",
              "\n",
              "    .colab-df-convert:hover {\n",
              "      background-color: #E2EBFA;\n",
              "      box-shadow: 0px 1px 2px rgba(60, 64, 67, 0.3), 0px 1px 3px 1px rgba(60, 64, 67, 0.15);\n",
              "      fill: #174EA6;\n",
              "    }\n",
              "\n",
              "    [theme=dark] .colab-df-convert {\n",
              "      background-color: #3B4455;\n",
              "      fill: #D2E3FC;\n",
              "    }\n",
              "\n",
              "    [theme=dark] .colab-df-convert:hover {\n",
              "      background-color: #434B5C;\n",
              "      box-shadow: 0px 1px 3px 1px rgba(0, 0, 0, 0.15);\n",
              "      filter: drop-shadow(0px 1px 2px rgba(0, 0, 0, 0.3));\n",
              "      fill: #FFFFFF;\n",
              "    }\n",
              "  </style>\n",
              "\n",
              "      <script>\n",
              "        const buttonEl =\n",
              "          document.querySelector('#df-b2de73e6-a0ea-4cf3-8b19-62ed5c3ff4b0 button.colab-df-convert');\n",
              "        buttonEl.style.display =\n",
              "          google.colab.kernel.accessAllowed ? 'block' : 'none';\n",
              "\n",
              "        async function convertToInteractive(key) {\n",
              "          const element = document.querySelector('#df-b2de73e6-a0ea-4cf3-8b19-62ed5c3ff4b0');\n",
              "          const dataTable =\n",
              "            await google.colab.kernel.invokeFunction('convertToInteractive',\n",
              "                                                     [key], {});\n",
              "          if (!dataTable) return;\n",
              "\n",
              "          const docLinkHtml = 'Like what you see? Visit the ' +\n",
              "            '<a target=\"_blank\" href=https://colab.research.google.com/notebooks/data_table.ipynb>data table notebook</a>'\n",
              "            + ' to learn more about interactive tables.';\n",
              "          element.innerHTML = '';\n",
              "          dataTable['output_type'] = 'display_data';\n",
              "          await google.colab.output.renderOutput(dataTable, element);\n",
              "          const docLink = document.createElement('div');\n",
              "          docLink.innerHTML = docLinkHtml;\n",
              "          element.appendChild(docLink);\n",
              "        }\n",
              "      </script>\n",
              "    </div>\n",
              "  </div>\n",
              "  "
            ]
          },
          "metadata": {},
          "execution_count": 41
        }
      ]
    },
    {
      "cell_type": "markdown",
      "source": [
        "### Debate\n",
        "Is it better to fill null values with the mean or with the median?\n",
        "\n",
        "\n",
        "Can we drop all rows with null values?"
      ],
      "metadata": {
        "id": "Pxvia5gSRhIX"
      }
    },
    {
      "cell_type": "markdown",
      "source": [
        "1. Dependiendo la dispersion de los datos\n",
        "2. Si, si se puede, con \"pandas.DataFrame.dropna\n",
        "\"  "
      ],
      "metadata": {
        "id": "HbC5FVpxTZ2R"
      }
    },
    {
      "cell_type": "markdown",
      "source": [
        "## Activitie 2\n",
        "Refer to the file files_for_activities/merged_clean_ver1.csv for this exercise.\n",
        "\n",
        "Import the data from merged_clean_ver1.csv as a dataframe. There would be a column with the sequence of numbers (to the left of column id). Drop that column(s).\n",
        "\n",
        "Check the column state for null values. Replace those null values with the state that is represented largest number of times in that column\n",
        "\n",
        "Lambda Expression:\n",
        "\n",
        "Create a simple lambda expression to add three numbers. Take those three numbers as input from the user. (Since you will accept only numbers as valid inputs, check this example to see how to do it.)\n",
        "Define a list as lst = [1,2,3,4,5,6,7,8,10]. Write a lambda expression to find the cube of a number. Use that lambda expression to find the cube of every number in the list. Define a list comprehension for this question."
      ],
      "metadata": {
        "id": "Isdconl6SKO8"
      }
    },
    {
      "cell_type": "code",
      "source": [
        "type(data2)"
      ],
      "metadata": {
        "colab": {
          "base_uri": "https://localhost:8080/"
        },
        "id": "n-aRZ72RSO72",
        "outputId": "6b5cdb46-8ee4-4c9a-ffae-61eb642a46a3"
      },
      "execution_count": null,
      "outputs": [
        {
          "output_type": "execute_result",
          "data": {
            "text/plain": [
              "pandas.core.frame.DataFrame"
            ]
          },
          "metadata": {},
          "execution_count": 51
        }
      ]
    },
    {
      "cell_type": "code",
      "source": [
        "data2.drop('Unnamed: 0',axis=1)"
      ],
      "metadata": {
        "colab": {
          "base_uri": "https://localhost:8080/",
          "height": 424
        },
        "id": "2wFyI4cxSyW9",
        "outputId": "92800c84-b38f-4613-83d3-5ab847b29126"
      },
      "execution_count": null,
      "outputs": [
        {
          "output_type": "execute_result",
          "data": {
            "text/plain": [
              "          id state gender  median_home_val  median_household_income    ic2  \\\n",
              "0      44060    FL      M      1158.437751                      392  430.0   \n",
              "1      96093    IL      M       537.000000                      365  415.0   \n",
              "2      43333    FL      F       725.000000                      301  340.0   \n",
              "3      21885    NC      M      1158.437751                      401  407.0   \n",
              "4     190108    FL      F       995.000000                      252  280.0   \n",
              "...      ...   ...    ...              ...                      ...    ...   \n",
              "3988   66762    MI      F       632.000000                      279  336.0   \n",
              "3989    6443    FL      M       595.000000                      252  263.0   \n",
              "3990  151175    CA      F      2707.000000                      507  504.0   \n",
              "3991  151504    CA      M      2666.000000                      535  609.0   \n",
              "3992   74303    MI      M       444.000000                      225  264.0   \n",
              "\n",
              "      ic3    ic4      ic5    avggift  target_d  \n",
              "0     466  520.0  21975.0  28.000000     100.0  \n",
              "1     410  473.0  19387.0   5.666667       7.0  \n",
              "2     361  436.0  18837.0   4.111111       5.0  \n",
              "3     399  413.0  14014.0  27.277778      38.0  \n",
              "4     316  348.0  17991.0   6.000000       5.0  \n",
              "...   ...    ...      ...        ...       ...  \n",
              "3988  339  388.0  12653.0   8.533333       5.0  \n",
              "3989  262  274.0  11132.0  14.692308      20.0  \n",
              "3990  538  537.0  16165.0  12.117647      22.0  \n",
              "3991  612  653.0  24745.0  12.333333      21.0  \n",
              "3992  269  299.0  10088.0  17.142857      25.0  \n",
              "\n",
              "[3993 rows x 11 columns]"
            ],
            "text/html": [
              "\n",
              "  <div id=\"df-349923c3-7bc8-4273-b10f-c26f67d13297\">\n",
              "    <div class=\"colab-df-container\">\n",
              "      <div>\n",
              "<style scoped>\n",
              "    .dataframe tbody tr th:only-of-type {\n",
              "        vertical-align: middle;\n",
              "    }\n",
              "\n",
              "    .dataframe tbody tr th {\n",
              "        vertical-align: top;\n",
              "    }\n",
              "\n",
              "    .dataframe thead th {\n",
              "        text-align: right;\n",
              "    }\n",
              "</style>\n",
              "<table border=\"1\" class=\"dataframe\">\n",
              "  <thead>\n",
              "    <tr style=\"text-align: right;\">\n",
              "      <th></th>\n",
              "      <th>id</th>\n",
              "      <th>state</th>\n",
              "      <th>gender</th>\n",
              "      <th>median_home_val</th>\n",
              "      <th>median_household_income</th>\n",
              "      <th>ic2</th>\n",
              "      <th>ic3</th>\n",
              "      <th>ic4</th>\n",
              "      <th>ic5</th>\n",
              "      <th>avggift</th>\n",
              "      <th>target_d</th>\n",
              "    </tr>\n",
              "  </thead>\n",
              "  <tbody>\n",
              "    <tr>\n",
              "      <th>0</th>\n",
              "      <td>44060</td>\n",
              "      <td>FL</td>\n",
              "      <td>M</td>\n",
              "      <td>1158.437751</td>\n",
              "      <td>392</td>\n",
              "      <td>430.0</td>\n",
              "      <td>466</td>\n",
              "      <td>520.0</td>\n",
              "      <td>21975.0</td>\n",
              "      <td>28.000000</td>\n",
              "      <td>100.0</td>\n",
              "    </tr>\n",
              "    <tr>\n",
              "      <th>1</th>\n",
              "      <td>96093</td>\n",
              "      <td>IL</td>\n",
              "      <td>M</td>\n",
              "      <td>537.000000</td>\n",
              "      <td>365</td>\n",
              "      <td>415.0</td>\n",
              "      <td>410</td>\n",
              "      <td>473.0</td>\n",
              "      <td>19387.0</td>\n",
              "      <td>5.666667</td>\n",
              "      <td>7.0</td>\n",
              "    </tr>\n",
              "    <tr>\n",
              "      <th>2</th>\n",
              "      <td>43333</td>\n",
              "      <td>FL</td>\n",
              "      <td>F</td>\n",
              "      <td>725.000000</td>\n",
              "      <td>301</td>\n",
              "      <td>340.0</td>\n",
              "      <td>361</td>\n",
              "      <td>436.0</td>\n",
              "      <td>18837.0</td>\n",
              "      <td>4.111111</td>\n",
              "      <td>5.0</td>\n",
              "    </tr>\n",
              "    <tr>\n",
              "      <th>3</th>\n",
              "      <td>21885</td>\n",
              "      <td>NC</td>\n",
              "      <td>M</td>\n",
              "      <td>1158.437751</td>\n",
              "      <td>401</td>\n",
              "      <td>407.0</td>\n",
              "      <td>399</td>\n",
              "      <td>413.0</td>\n",
              "      <td>14014.0</td>\n",
              "      <td>27.277778</td>\n",
              "      <td>38.0</td>\n",
              "    </tr>\n",
              "    <tr>\n",
              "      <th>4</th>\n",
              "      <td>190108</td>\n",
              "      <td>FL</td>\n",
              "      <td>F</td>\n",
              "      <td>995.000000</td>\n",
              "      <td>252</td>\n",
              "      <td>280.0</td>\n",
              "      <td>316</td>\n",
              "      <td>348.0</td>\n",
              "      <td>17991.0</td>\n",
              "      <td>6.000000</td>\n",
              "      <td>5.0</td>\n",
              "    </tr>\n",
              "    <tr>\n",
              "      <th>...</th>\n",
              "      <td>...</td>\n",
              "      <td>...</td>\n",
              "      <td>...</td>\n",
              "      <td>...</td>\n",
              "      <td>...</td>\n",
              "      <td>...</td>\n",
              "      <td>...</td>\n",
              "      <td>...</td>\n",
              "      <td>...</td>\n",
              "      <td>...</td>\n",
              "      <td>...</td>\n",
              "    </tr>\n",
              "    <tr>\n",
              "      <th>3988</th>\n",
              "      <td>66762</td>\n",
              "      <td>MI</td>\n",
              "      <td>F</td>\n",
              "      <td>632.000000</td>\n",
              "      <td>279</td>\n",
              "      <td>336.0</td>\n",
              "      <td>339</td>\n",
              "      <td>388.0</td>\n",
              "      <td>12653.0</td>\n",
              "      <td>8.533333</td>\n",
              "      <td>5.0</td>\n",
              "    </tr>\n",
              "    <tr>\n",
              "      <th>3989</th>\n",
              "      <td>6443</td>\n",
              "      <td>FL</td>\n",
              "      <td>M</td>\n",
              "      <td>595.000000</td>\n",
              "      <td>252</td>\n",
              "      <td>263.0</td>\n",
              "      <td>262</td>\n",
              "      <td>274.0</td>\n",
              "      <td>11132.0</td>\n",
              "      <td>14.692308</td>\n",
              "      <td>20.0</td>\n",
              "    </tr>\n",
              "    <tr>\n",
              "      <th>3990</th>\n",
              "      <td>151175</td>\n",
              "      <td>CA</td>\n",
              "      <td>F</td>\n",
              "      <td>2707.000000</td>\n",
              "      <td>507</td>\n",
              "      <td>504.0</td>\n",
              "      <td>538</td>\n",
              "      <td>537.0</td>\n",
              "      <td>16165.0</td>\n",
              "      <td>12.117647</td>\n",
              "      <td>22.0</td>\n",
              "    </tr>\n",
              "    <tr>\n",
              "      <th>3991</th>\n",
              "      <td>151504</td>\n",
              "      <td>CA</td>\n",
              "      <td>M</td>\n",
              "      <td>2666.000000</td>\n",
              "      <td>535</td>\n",
              "      <td>609.0</td>\n",
              "      <td>612</td>\n",
              "      <td>653.0</td>\n",
              "      <td>24745.0</td>\n",
              "      <td>12.333333</td>\n",
              "      <td>21.0</td>\n",
              "    </tr>\n",
              "    <tr>\n",
              "      <th>3992</th>\n",
              "      <td>74303</td>\n",
              "      <td>MI</td>\n",
              "      <td>M</td>\n",
              "      <td>444.000000</td>\n",
              "      <td>225</td>\n",
              "      <td>264.0</td>\n",
              "      <td>269</td>\n",
              "      <td>299.0</td>\n",
              "      <td>10088.0</td>\n",
              "      <td>17.142857</td>\n",
              "      <td>25.0</td>\n",
              "    </tr>\n",
              "  </tbody>\n",
              "</table>\n",
              "<p>3993 rows × 11 columns</p>\n",
              "</div>\n",
              "      <button class=\"colab-df-convert\" onclick=\"convertToInteractive('df-349923c3-7bc8-4273-b10f-c26f67d13297')\"\n",
              "              title=\"Convert this dataframe to an interactive table.\"\n",
              "              style=\"display:none;\">\n",
              "        \n",
              "  <svg xmlns=\"http://www.w3.org/2000/svg\" height=\"24px\"viewBox=\"0 0 24 24\"\n",
              "       width=\"24px\">\n",
              "    <path d=\"M0 0h24v24H0V0z\" fill=\"none\"/>\n",
              "    <path d=\"M18.56 5.44l.94 2.06.94-2.06 2.06-.94-2.06-.94-.94-2.06-.94 2.06-2.06.94zm-11 1L8.5 8.5l.94-2.06 2.06-.94-2.06-.94L8.5 2.5l-.94 2.06-2.06.94zm10 10l.94 2.06.94-2.06 2.06-.94-2.06-.94-.94-2.06-.94 2.06-2.06.94z\"/><path d=\"M17.41 7.96l-1.37-1.37c-.4-.4-.92-.59-1.43-.59-.52 0-1.04.2-1.43.59L10.3 9.45l-7.72 7.72c-.78.78-.78 2.05 0 2.83L4 21.41c.39.39.9.59 1.41.59.51 0 1.02-.2 1.41-.59l7.78-7.78 2.81-2.81c.8-.78.8-2.07 0-2.86zM5.41 20L4 18.59l7.72-7.72 1.47 1.35L5.41 20z\"/>\n",
              "  </svg>\n",
              "      </button>\n",
              "      \n",
              "  <style>\n",
              "    .colab-df-container {\n",
              "      display:flex;\n",
              "      flex-wrap:wrap;\n",
              "      gap: 12px;\n",
              "    }\n",
              "\n",
              "    .colab-df-convert {\n",
              "      background-color: #E8F0FE;\n",
              "      border: none;\n",
              "      border-radius: 50%;\n",
              "      cursor: pointer;\n",
              "      display: none;\n",
              "      fill: #1967D2;\n",
              "      height: 32px;\n",
              "      padding: 0 0 0 0;\n",
              "      width: 32px;\n",
              "    }\n",
              "\n",
              "    .colab-df-convert:hover {\n",
              "      background-color: #E2EBFA;\n",
              "      box-shadow: 0px 1px 2px rgba(60, 64, 67, 0.3), 0px 1px 3px 1px rgba(60, 64, 67, 0.15);\n",
              "      fill: #174EA6;\n",
              "    }\n",
              "\n",
              "    [theme=dark] .colab-df-convert {\n",
              "      background-color: #3B4455;\n",
              "      fill: #D2E3FC;\n",
              "    }\n",
              "\n",
              "    [theme=dark] .colab-df-convert:hover {\n",
              "      background-color: #434B5C;\n",
              "      box-shadow: 0px 1px 3px 1px rgba(0, 0, 0, 0.15);\n",
              "      filter: drop-shadow(0px 1px 2px rgba(0, 0, 0, 0.3));\n",
              "      fill: #FFFFFF;\n",
              "    }\n",
              "  </style>\n",
              "\n",
              "      <script>\n",
              "        const buttonEl =\n",
              "          document.querySelector('#df-349923c3-7bc8-4273-b10f-c26f67d13297 button.colab-df-convert');\n",
              "        buttonEl.style.display =\n",
              "          google.colab.kernel.accessAllowed ? 'block' : 'none';\n",
              "\n",
              "        async function convertToInteractive(key) {\n",
              "          const element = document.querySelector('#df-349923c3-7bc8-4273-b10f-c26f67d13297');\n",
              "          const dataTable =\n",
              "            await google.colab.kernel.invokeFunction('convertToInteractive',\n",
              "                                                     [key], {});\n",
              "          if (!dataTable) return;\n",
              "\n",
              "          const docLinkHtml = 'Like what you see? Visit the ' +\n",
              "            '<a target=\"_blank\" href=https://colab.research.google.com/notebooks/data_table.ipynb>data table notebook</a>'\n",
              "            + ' to learn more about interactive tables.';\n",
              "          element.innerHTML = '';\n",
              "          dataTable['output_type'] = 'display_data';\n",
              "          await google.colab.output.renderOutput(dataTable, element);\n",
              "          const docLink = document.createElement('div');\n",
              "          docLink.innerHTML = docLinkHtml;\n",
              "          element.appendChild(docLink);\n",
              "        }\n",
              "      </script>\n",
              "    </div>\n",
              "  </div>\n",
              "  "
            ]
          },
          "metadata": {},
          "execution_count": 48
        }
      ]
    },
    {
      "cell_type": "code",
      "source": [
        "sum(data2['state'].isnull())"
      ],
      "metadata": {
        "colab": {
          "base_uri": "https://localhost:8080/"
        },
        "id": "-CC-mTHZSyZY",
        "outputId": "40a668ab-f2bf-4c9d-81fe-94a58d575b1c"
      },
      "execution_count": null,
      "outputs": [
        {
          "output_type": "execute_result",
          "data": {
            "text/plain": [
              "0"
            ]
          },
          "metadata": {},
          "execution_count": 50
        }
      ]
    },
    {
      "cell_type": "code",
      "source": [
        "z = lambda: int(input('Ingrese un numero :')) + int(input('Ingrese un numero:')) + int(input('Ingrese un numero:'))"
      ],
      "metadata": {
        "id": "f3Eh3ngaSyd4"
      },
      "execution_count": null,
      "outputs": []
    },
    {
      "cell_type": "code",
      "source": [
        "z()"
      ],
      "metadata": {
        "colab": {
          "base_uri": "https://localhost:8080/"
        },
        "id": "N3UrdjOAZRxz",
        "outputId": "6435b338-594f-448a-d075-873fb3ebd1c6"
      },
      "execution_count": null,
      "outputs": [
        {
          "name": "stdout",
          "output_type": "stream",
          "text": [
            "Ingrese un numero :10\n",
            "Ingrese un numero:-10\n",
            "Ingrese un numero:10\n"
          ]
        },
        {
          "output_type": "execute_result",
          "data": {
            "text/plain": [
              "10"
            ]
          },
          "metadata": {},
          "execution_count": 72
        }
      ]
    },
    {
      "cell_type": "code",
      "source": [
        "lst = [1,2,3,4,5,6,7,8,10]"
      ],
      "metadata": {
        "id": "h8FjTZf_ahKk"
      },
      "execution_count": null,
      "outputs": []
    },
    {
      "cell_type": "code",
      "source": [
        "cubo=lambda a : np.power(a,3)"
      ],
      "metadata": {
        "id": "-D4uIboxahTX"
      },
      "execution_count": null,
      "outputs": []
    },
    {
      "cell_type": "code",
      "source": [
        "cubo(10)"
      ],
      "metadata": {
        "colab": {
          "base_uri": "https://localhost:8080/"
        },
        "id": "i_vX67wPbHu8",
        "outputId": "f7bc1eea-69f6-4b79-f426-b0f236c43b2d"
      },
      "execution_count": null,
      "outputs": [
        {
          "output_type": "execute_result",
          "data": {
            "text/plain": [
              "1000"
            ]
          },
          "metadata": {},
          "execution_count": 82
        }
      ]
    },
    {
      "cell_type": "code",
      "source": [
        "cubo2=lambda lst:  np.power(lst,3)"
      ],
      "metadata": {
        "id": "QSh_fkn1bHxW"
      },
      "execution_count": null,
      "outputs": []
    },
    {
      "cell_type": "code",
      "source": [
        "cubo2(lst)"
      ],
      "metadata": {
        "colab": {
          "base_uri": "https://localhost:8080/"
        },
        "id": "DUB61buEcn7d",
        "outputId": "a633c3cb-6a1a-461f-f145-6b41b624fdd6"
      },
      "execution_count": null,
      "outputs": [
        {
          "output_type": "execute_result",
          "data": {
            "text/plain": [
              "array([   1,    8,   27,   64,  125,  216,  343,  512, 1000])"
            ]
          },
          "metadata": {},
          "execution_count": 85
        }
      ]
    },
    {
      "cell_type": "markdown",
      "source": [
        "##Activity 3\n",
        "### Try to convert these functions into lambda functions."
      ],
      "metadata": {
        "id": "LJ0x1iQSdAC0"
      }
    },
    {
      "cell_type": "code",
      "source": [
        "def function_1(a,b):\n",
        "    c=a+b\n",
        "    return c"
      ],
      "metadata": {
        "id": "QXfPK9OQdGpE"
      },
      "execution_count": null,
      "outputs": []
    },
    {
      "cell_type": "code",
      "source": [
        "function_1(5,5)"
      ],
      "metadata": {
        "colab": {
          "base_uri": "https://localhost:8080/"
        },
        "id": "MR6x2mNodK6B",
        "outputId": "a592d8de-7d37-426f-f3dc-55e8d6282e44"
      },
      "execution_count": null,
      "outputs": [
        {
          "output_type": "execute_result",
          "data": {
            "text/plain": [
              "10"
            ]
          },
          "metadata": {},
          "execution_count": 87
        }
      ]
    },
    {
      "cell_type": "code",
      "source": [
        "function_1 = lambda a,b: a+b"
      ],
      "metadata": {
        "id": "CS8P9YuqdPUP"
      },
      "execution_count": null,
      "outputs": []
    },
    {
      "cell_type": "code",
      "source": [
        "function_1(5,5)"
      ],
      "metadata": {
        "colab": {
          "base_uri": "https://localhost:8080/"
        },
        "id": "EJ5T4XSUdZqR",
        "outputId": "d91b2dae-f085-4d47-87c2-61af8c20201e"
      },
      "execution_count": null,
      "outputs": [
        {
          "output_type": "execute_result",
          "data": {
            "text/plain": [
              "10"
            ]
          },
          "metadata": {},
          "execution_count": 90
        }
      ]
    },
    {
      "cell_type": "code",
      "source": [
        "def function_2(a,b):\n",
        "    c=0\n",
        "    for i in range(a):\n",
        "        c=c+2*b\n",
        "    return c"
      ],
      "metadata": {
        "id": "P_qpzXG0dfxN"
      },
      "execution_count": null,
      "outputs": []
    },
    {
      "cell_type": "code",
      "source": [
        "function_2(5,5)"
      ],
      "metadata": {
        "colab": {
          "base_uri": "https://localhost:8080/"
        },
        "id": "U8zyv7Bjdf2d",
        "outputId": "4a19d7c9-a718-4c03-8836-9b22ac7eda14"
      },
      "execution_count": null,
      "outputs": [
        {
          "output_type": "execute_result",
          "data": {
            "text/plain": [
              "50"
            ]
          },
          "metadata": {},
          "execution_count": 118
        }
      ]
    },
    {
      "cell_type": "code",
      "source": [
        "function_2 = lambda a,b: [ c=c+2*b for i in a]"
      ],
      "metadata": {
        "colab": {
          "base_uri": "https://localhost:8080/",
          "height": 130
        },
        "id": "Aj3JOhF8eQaY",
        "outputId": "6db77fa1-861a-4c98-da7a-c8613907dcbb"
      },
      "execution_count": null,
      "outputs": [
        {
          "output_type": "error",
          "ename": "SyntaxError",
          "evalue": "ignored",
          "traceback": [
            "\u001b[0;36m  File \u001b[0;32m\"<ipython-input-115-5b7544b28d89>\"\u001b[0;36m, line \u001b[0;32m1\u001b[0m\n\u001b[0;31m    function_2 = lambda a,b,c=0: [ c=c+2*b\u001b[0m\n\u001b[0m                                    ^\u001b[0m\n\u001b[0;31mSyntaxError\u001b[0m\u001b[0;31m:\u001b[0m invalid syntax\n"
          ]
        }
      ]
    },
    {
      "cell_type": "code",
      "source": [
        "def function_3(a,b):\n",
        "    c=0\n",
        "    if a>3:\n",
        "        c=12\n",
        "    else:\n",
        "        c='Too big.'\n",
        "    return c"
      ],
      "metadata": {
        "id": "H8PmKG6jeQdX"
      },
      "execution_count": null,
      "outputs": []
    },
    {
      "cell_type": "code",
      "source": [
        "function_3(2,5)"
      ],
      "metadata": {
        "colab": {
          "base_uri": "https://localhost:8080/",
          "height": 35
        },
        "id": "qk-rJZOUlKNo",
        "outputId": "8447f9d2-53ac-4275-9c07-f6be385873d6"
      },
      "execution_count": null,
      "outputs": [
        {
          "output_type": "execute_result",
          "data": {
            "text/plain": [
              "'Too big.'"
            ],
            "application/vnd.google.colaboratory.intrinsic+json": {
              "type": "string"
            }
          },
          "metadata": {},
          "execution_count": 120
        }
      ]
    },
    {
      "cell_type": "code",
      "source": [
        "function_3 = lambda a,b: 12 if a>3 else'Too big'"
      ],
      "metadata": {
        "id": "2U2Gv2fBlKPv"
      },
      "execution_count": null,
      "outputs": []
    },
    {
      "cell_type": "code",
      "source": [
        "function_3(2,5)"
      ],
      "metadata": {
        "colab": {
          "base_uri": "https://localhost:8080/",
          "height": 35
        },
        "id": "r-fMtvT6lKTI",
        "outputId": "5cd18845-b975-47d6-b184-9a05e6f52a53"
      },
      "execution_count": null,
      "outputs": [
        {
          "output_type": "execute_result",
          "data": {
            "text/plain": [
              "'Too big'"
            ],
            "application/vnd.google.colaboratory.intrinsic+json": {
              "type": "string"
            }
          },
          "metadata": {},
          "execution_count": 127
        }
      ]
    },
    {
      "cell_type": "markdown",
      "source": [
        "# Activitie 4\n"
      ],
      "metadata": {
        "id": "456V6bnxqypp"
      }
    },
    {
      "cell_type": "code",
      "source": [],
      "metadata": {
        "id": "sc7U6lKzq125"
      },
      "execution_count": null,
      "outputs": []
    },
    {
      "cell_type": "code",
      "source": [],
      "metadata": {
        "id": "yEddgveLq15g"
      },
      "execution_count": null,
      "outputs": []
    },
    {
      "cell_type": "code",
      "source": [],
      "metadata": {
        "id": "qnlutG7Xq170"
      },
      "execution_count": null,
      "outputs": []
    }
  ]
}