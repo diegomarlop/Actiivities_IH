{
  "nbformat": 4,
  "nbformat_minor": 0,
  "metadata": {
    "colab": {
      "provenance": [],
      "authorship_tag": "ABX9TyPSw2pZ8K61zmYOEEXfzcvE",
      "include_colab_link": true
    },
    "kernelspec": {
      "name": "python3",
      "display_name": "Python 3"
    },
    "language_info": {
      "name": "python"
    }
  },
  "cells": [
    {
      "cell_type": "markdown",
      "metadata": {
        "id": "view-in-github",
        "colab_type": "text"
      },
      "source": [
        "<a href=\"https://colab.research.google.com/github/diegomarlop/Actiivities_IH/blob/main/Activities_1_05.ipynb\" target=\"_parent\"><img src=\"https://colab.research.google.com/assets/colab-badge.svg\" alt=\"Open In Colab\"/></a>"
      ]
    },
    {
      "cell_type": "markdown",
      "source": [
        "#1.05 \n",
        "##Activity 1\n",
        "1. Import the merged_clean_ver1.csv file.\n",
        "2. Check the data types of all columns in the dataframe.\n",
        "3. Use the describe method on only the float type columns."
      ],
      "metadata": {
        "id": "1aPCwBv5Zkb_"
      }
    },
    {
      "cell_type": "code",
      "source": [
        "import pandas as pd\n",
        "import numpy as np"
      ],
      "metadata": {
        "id": "EFsJAV2IZ1Kf"
      },
      "execution_count": 1,
      "outputs": []
    },
    {
      "cell_type": "code",
      "source": [
        "data = pd.read_csv('merged_clean_ver1.csv')"
      ],
      "metadata": {
        "id": "MjSeWKTxbQwC"
      },
      "execution_count": 21,
      "outputs": []
    },
    {
      "cell_type": "code",
      "source": [
        "data"
      ],
      "metadata": {
        "colab": {
          "base_uri": "https://localhost:8080/",
          "height": 424
        },
        "id": "Nuc9pNuybQyj",
        "outputId": "1f49ab81-1b4a-4337-d8f7-e65c559ee913"
      },
      "execution_count": 3,
      "outputs": [
        {
          "output_type": "execute_result",
          "data": {
            "text/plain": [
              "      Unnamed: 0      id state gender  median_home_val  \\\n",
              "0              0   44060    FL      M      1158.437751   \n",
              "1              1   96093    IL      M       537.000000   \n",
              "2              2   43333    FL      F       725.000000   \n",
              "3              3   21885    NC      M      1158.437751   \n",
              "4              4  190108    FL      F       995.000000   \n",
              "...          ...     ...   ...    ...              ...   \n",
              "3988         996   66762    MI      F       632.000000   \n",
              "3989         997    6443    FL      M       595.000000   \n",
              "3990         998  151175    CA      F      2707.000000   \n",
              "3991         999  151504    CA      M      2666.000000   \n",
              "3992        1000   74303    MI      M       444.000000   \n",
              "\n",
              "      median_household_income    ic2  ic3    ic4      ic5    avggift  target_d  \n",
              "0                         392  430.0  466  520.0  21975.0  28.000000     100.0  \n",
              "1                         365  415.0  410  473.0  19387.0   5.666667       7.0  \n",
              "2                         301  340.0  361  436.0  18837.0   4.111111       5.0  \n",
              "3                         401  407.0  399  413.0  14014.0  27.277778      38.0  \n",
              "4                         252  280.0  316  348.0  17991.0   6.000000       5.0  \n",
              "...                       ...    ...  ...    ...      ...        ...       ...  \n",
              "3988                      279  336.0  339  388.0  12653.0   8.533333       5.0  \n",
              "3989                      252  263.0  262  274.0  11132.0  14.692308      20.0  \n",
              "3990                      507  504.0  538  537.0  16165.0  12.117647      22.0  \n",
              "3991                      535  609.0  612  653.0  24745.0  12.333333      21.0  \n",
              "3992                      225  264.0  269  299.0  10088.0  17.142857      25.0  \n",
              "\n",
              "[3993 rows x 12 columns]"
            ],
            "text/html": [
              "\n",
              "  <div id=\"df-ff46783a-6190-4f1d-8ae9-ef0f9d71e0f5\">\n",
              "    <div class=\"colab-df-container\">\n",
              "      <div>\n",
              "<style scoped>\n",
              "    .dataframe tbody tr th:only-of-type {\n",
              "        vertical-align: middle;\n",
              "    }\n",
              "\n",
              "    .dataframe tbody tr th {\n",
              "        vertical-align: top;\n",
              "    }\n",
              "\n",
              "    .dataframe thead th {\n",
              "        text-align: right;\n",
              "    }\n",
              "</style>\n",
              "<table border=\"1\" class=\"dataframe\">\n",
              "  <thead>\n",
              "    <tr style=\"text-align: right;\">\n",
              "      <th></th>\n",
              "      <th>Unnamed: 0</th>\n",
              "      <th>id</th>\n",
              "      <th>state</th>\n",
              "      <th>gender</th>\n",
              "      <th>median_home_val</th>\n",
              "      <th>median_household_income</th>\n",
              "      <th>ic2</th>\n",
              "      <th>ic3</th>\n",
              "      <th>ic4</th>\n",
              "      <th>ic5</th>\n",
              "      <th>avggift</th>\n",
              "      <th>target_d</th>\n",
              "    </tr>\n",
              "  </thead>\n",
              "  <tbody>\n",
              "    <tr>\n",
              "      <th>0</th>\n",
              "      <td>0</td>\n",
              "      <td>44060</td>\n",
              "      <td>FL</td>\n",
              "      <td>M</td>\n",
              "      <td>1158.437751</td>\n",
              "      <td>392</td>\n",
              "      <td>430.0</td>\n",
              "      <td>466</td>\n",
              "      <td>520.0</td>\n",
              "      <td>21975.0</td>\n",
              "      <td>28.000000</td>\n",
              "      <td>100.0</td>\n",
              "    </tr>\n",
              "    <tr>\n",
              "      <th>1</th>\n",
              "      <td>1</td>\n",
              "      <td>96093</td>\n",
              "      <td>IL</td>\n",
              "      <td>M</td>\n",
              "      <td>537.000000</td>\n",
              "      <td>365</td>\n",
              "      <td>415.0</td>\n",
              "      <td>410</td>\n",
              "      <td>473.0</td>\n",
              "      <td>19387.0</td>\n",
              "      <td>5.666667</td>\n",
              "      <td>7.0</td>\n",
              "    </tr>\n",
              "    <tr>\n",
              "      <th>2</th>\n",
              "      <td>2</td>\n",
              "      <td>43333</td>\n",
              "      <td>FL</td>\n",
              "      <td>F</td>\n",
              "      <td>725.000000</td>\n",
              "      <td>301</td>\n",
              "      <td>340.0</td>\n",
              "      <td>361</td>\n",
              "      <td>436.0</td>\n",
              "      <td>18837.0</td>\n",
              "      <td>4.111111</td>\n",
              "      <td>5.0</td>\n",
              "    </tr>\n",
              "    <tr>\n",
              "      <th>3</th>\n",
              "      <td>3</td>\n",
              "      <td>21885</td>\n",
              "      <td>NC</td>\n",
              "      <td>M</td>\n",
              "      <td>1158.437751</td>\n",
              "      <td>401</td>\n",
              "      <td>407.0</td>\n",
              "      <td>399</td>\n",
              "      <td>413.0</td>\n",
              "      <td>14014.0</td>\n",
              "      <td>27.277778</td>\n",
              "      <td>38.0</td>\n",
              "    </tr>\n",
              "    <tr>\n",
              "      <th>4</th>\n",
              "      <td>4</td>\n",
              "      <td>190108</td>\n",
              "      <td>FL</td>\n",
              "      <td>F</td>\n",
              "      <td>995.000000</td>\n",
              "      <td>252</td>\n",
              "      <td>280.0</td>\n",
              "      <td>316</td>\n",
              "      <td>348.0</td>\n",
              "      <td>17991.0</td>\n",
              "      <td>6.000000</td>\n",
              "      <td>5.0</td>\n",
              "    </tr>\n",
              "    <tr>\n",
              "      <th>...</th>\n",
              "      <td>...</td>\n",
              "      <td>...</td>\n",
              "      <td>...</td>\n",
              "      <td>...</td>\n",
              "      <td>...</td>\n",
              "      <td>...</td>\n",
              "      <td>...</td>\n",
              "      <td>...</td>\n",
              "      <td>...</td>\n",
              "      <td>...</td>\n",
              "      <td>...</td>\n",
              "      <td>...</td>\n",
              "    </tr>\n",
              "    <tr>\n",
              "      <th>3988</th>\n",
              "      <td>996</td>\n",
              "      <td>66762</td>\n",
              "      <td>MI</td>\n",
              "      <td>F</td>\n",
              "      <td>632.000000</td>\n",
              "      <td>279</td>\n",
              "      <td>336.0</td>\n",
              "      <td>339</td>\n",
              "      <td>388.0</td>\n",
              "      <td>12653.0</td>\n",
              "      <td>8.533333</td>\n",
              "      <td>5.0</td>\n",
              "    </tr>\n",
              "    <tr>\n",
              "      <th>3989</th>\n",
              "      <td>997</td>\n",
              "      <td>6443</td>\n",
              "      <td>FL</td>\n",
              "      <td>M</td>\n",
              "      <td>595.000000</td>\n",
              "      <td>252</td>\n",
              "      <td>263.0</td>\n",
              "      <td>262</td>\n",
              "      <td>274.0</td>\n",
              "      <td>11132.0</td>\n",
              "      <td>14.692308</td>\n",
              "      <td>20.0</td>\n",
              "    </tr>\n",
              "    <tr>\n",
              "      <th>3990</th>\n",
              "      <td>998</td>\n",
              "      <td>151175</td>\n",
              "      <td>CA</td>\n",
              "      <td>F</td>\n",
              "      <td>2707.000000</td>\n",
              "      <td>507</td>\n",
              "      <td>504.0</td>\n",
              "      <td>538</td>\n",
              "      <td>537.0</td>\n",
              "      <td>16165.0</td>\n",
              "      <td>12.117647</td>\n",
              "      <td>22.0</td>\n",
              "    </tr>\n",
              "    <tr>\n",
              "      <th>3991</th>\n",
              "      <td>999</td>\n",
              "      <td>151504</td>\n",
              "      <td>CA</td>\n",
              "      <td>M</td>\n",
              "      <td>2666.000000</td>\n",
              "      <td>535</td>\n",
              "      <td>609.0</td>\n",
              "      <td>612</td>\n",
              "      <td>653.0</td>\n",
              "      <td>24745.0</td>\n",
              "      <td>12.333333</td>\n",
              "      <td>21.0</td>\n",
              "    </tr>\n",
              "    <tr>\n",
              "      <th>3992</th>\n",
              "      <td>1000</td>\n",
              "      <td>74303</td>\n",
              "      <td>MI</td>\n",
              "      <td>M</td>\n",
              "      <td>444.000000</td>\n",
              "      <td>225</td>\n",
              "      <td>264.0</td>\n",
              "      <td>269</td>\n",
              "      <td>299.0</td>\n",
              "      <td>10088.0</td>\n",
              "      <td>17.142857</td>\n",
              "      <td>25.0</td>\n",
              "    </tr>\n",
              "  </tbody>\n",
              "</table>\n",
              "<p>3993 rows × 12 columns</p>\n",
              "</div>\n",
              "      <button class=\"colab-df-convert\" onclick=\"convertToInteractive('df-ff46783a-6190-4f1d-8ae9-ef0f9d71e0f5')\"\n",
              "              title=\"Convert this dataframe to an interactive table.\"\n",
              "              style=\"display:none;\">\n",
              "        \n",
              "  <svg xmlns=\"http://www.w3.org/2000/svg\" height=\"24px\"viewBox=\"0 0 24 24\"\n",
              "       width=\"24px\">\n",
              "    <path d=\"M0 0h24v24H0V0z\" fill=\"none\"/>\n",
              "    <path d=\"M18.56 5.44l.94 2.06.94-2.06 2.06-.94-2.06-.94-.94-2.06-.94 2.06-2.06.94zm-11 1L8.5 8.5l.94-2.06 2.06-.94-2.06-.94L8.5 2.5l-.94 2.06-2.06.94zm10 10l.94 2.06.94-2.06 2.06-.94-2.06-.94-.94-2.06-.94 2.06-2.06.94z\"/><path d=\"M17.41 7.96l-1.37-1.37c-.4-.4-.92-.59-1.43-.59-.52 0-1.04.2-1.43.59L10.3 9.45l-7.72 7.72c-.78.78-.78 2.05 0 2.83L4 21.41c.39.39.9.59 1.41.59.51 0 1.02-.2 1.41-.59l7.78-7.78 2.81-2.81c.8-.78.8-2.07 0-2.86zM5.41 20L4 18.59l7.72-7.72 1.47 1.35L5.41 20z\"/>\n",
              "  </svg>\n",
              "      </button>\n",
              "      \n",
              "  <style>\n",
              "    .colab-df-container {\n",
              "      display:flex;\n",
              "      flex-wrap:wrap;\n",
              "      gap: 12px;\n",
              "    }\n",
              "\n",
              "    .colab-df-convert {\n",
              "      background-color: #E8F0FE;\n",
              "      border: none;\n",
              "      border-radius: 50%;\n",
              "      cursor: pointer;\n",
              "      display: none;\n",
              "      fill: #1967D2;\n",
              "      height: 32px;\n",
              "      padding: 0 0 0 0;\n",
              "      width: 32px;\n",
              "    }\n",
              "\n",
              "    .colab-df-convert:hover {\n",
              "      background-color: #E2EBFA;\n",
              "      box-shadow: 0px 1px 2px rgba(60, 64, 67, 0.3), 0px 1px 3px 1px rgba(60, 64, 67, 0.15);\n",
              "      fill: #174EA6;\n",
              "    }\n",
              "\n",
              "    [theme=dark] .colab-df-convert {\n",
              "      background-color: #3B4455;\n",
              "      fill: #D2E3FC;\n",
              "    }\n",
              "\n",
              "    [theme=dark] .colab-df-convert:hover {\n",
              "      background-color: #434B5C;\n",
              "      box-shadow: 0px 1px 3px 1px rgba(0, 0, 0, 0.15);\n",
              "      filter: drop-shadow(0px 1px 2px rgba(0, 0, 0, 0.3));\n",
              "      fill: #FFFFFF;\n",
              "    }\n",
              "  </style>\n",
              "\n",
              "      <script>\n",
              "        const buttonEl =\n",
              "          document.querySelector('#df-ff46783a-6190-4f1d-8ae9-ef0f9d71e0f5 button.colab-df-convert');\n",
              "        buttonEl.style.display =\n",
              "          google.colab.kernel.accessAllowed ? 'block' : 'none';\n",
              "\n",
              "        async function convertToInteractive(key) {\n",
              "          const element = document.querySelector('#df-ff46783a-6190-4f1d-8ae9-ef0f9d71e0f5');\n",
              "          const dataTable =\n",
              "            await google.colab.kernel.invokeFunction('convertToInteractive',\n",
              "                                                     [key], {});\n",
              "          if (!dataTable) return;\n",
              "\n",
              "          const docLinkHtml = 'Like what you see? Visit the ' +\n",
              "            '<a target=\"_blank\" href=https://colab.research.google.com/notebooks/data_table.ipynb>data table notebook</a>'\n",
              "            + ' to learn more about interactive tables.';\n",
              "          element.innerHTML = '';\n",
              "          dataTable['output_type'] = 'display_data';\n",
              "          await google.colab.output.renderOutput(dataTable, element);\n",
              "          const docLink = document.createElement('div');\n",
              "          docLink.innerHTML = docLinkHtml;\n",
              "          element.appendChild(docLink);\n",
              "        }\n",
              "      </script>\n",
              "    </div>\n",
              "  </div>\n",
              "  "
            ]
          },
          "metadata": {},
          "execution_count": 3
        }
      ]
    },
    {
      "cell_type": "code",
      "source": [
        "data = data.drop('Unnamed: 0',axis=1)"
      ],
      "metadata": {
        "id": "6CtzDeinbQ1H"
      },
      "execution_count": 4,
      "outputs": []
    },
    {
      "cell_type": "code",
      "source": [
        "data.dtypes"
      ],
      "metadata": {
        "colab": {
          "base_uri": "https://localhost:8080/"
        },
        "id": "WOIV2eKybQ2v",
        "outputId": "8d00f673-b341-43f1-96ea-3622266a14c5"
      },
      "execution_count": 5,
      "outputs": [
        {
          "output_type": "execute_result",
          "data": {
            "text/plain": [
              "id                           int64\n",
              "state                       object\n",
              "gender                      object\n",
              "median_home_val            float64\n",
              "median_household_income      int64\n",
              "ic2                        float64\n",
              "ic3                          int64\n",
              "ic4                        float64\n",
              "ic5                        float64\n",
              "avggift                    float64\n",
              "target_d                   float64\n",
              "dtype: object"
            ]
          },
          "metadata": {},
          "execution_count": 5
        }
      ]
    },
    {
      "cell_type": "code",
      "source": [
        "data['id'].describe()"
      ],
      "metadata": {
        "id": "2Q6h0WK0d16v",
        "colab": {
          "base_uri": "https://localhost:8080/"
        },
        "outputId": "4f27b622-bb30-4ba2-9ea8-c97d6992054f"
      },
      "execution_count": 6,
      "outputs": [
        {
          "output_type": "execute_result",
          "data": {
            "text/plain": [
              "count      3993.000000\n",
              "mean      98929.308039\n",
              "std       58179.839090\n",
              "min          12.000000\n",
              "25%       46153.000000\n",
              "50%      101432.000000\n",
              "75%      151653.000000\n",
              "max      191779.000000\n",
              "Name: id, dtype: float64"
            ]
          },
          "metadata": {},
          "execution_count": 6
        }
      ]
    },
    {
      "cell_type": "code",
      "source": [
        "data.dtypes"
      ],
      "metadata": {
        "colab": {
          "base_uri": "https://localhost:8080/"
        },
        "id": "1uuz27qKbQ5M",
        "outputId": "00dab57d-9582-419f-ac0a-b26d0a135829"
      },
      "execution_count": 7,
      "outputs": [
        {
          "output_type": "execute_result",
          "data": {
            "text/plain": [
              "id                           int64\n",
              "state                       object\n",
              "gender                      object\n",
              "median_home_val            float64\n",
              "median_household_income      int64\n",
              "ic2                        float64\n",
              "ic3                          int64\n",
              "ic4                        float64\n",
              "ic5                        float64\n",
              "avggift                    float64\n",
              "target_d                   float64\n",
              "dtype: object"
            ]
          },
          "metadata": {},
          "execution_count": 7
        }
      ]
    },
    {
      "cell_type": "code",
      "source": [
        "for i in data.columns:\n",
        "  if data[i].dtypes == 'float64': \n",
        "    #print(i)\n",
        "    descripcion=data[i].describe()\n",
        "    #print('columna tipo flotante',i)\n",
        "    print('Columna: ',i,descripcion)"
      ],
      "metadata": {
        "colab": {
          "base_uri": "https://localhost:8080/"
        },
        "id": "AcXc7tmtbQ7e",
        "outputId": "530838a3-dfa4-4649-9c4c-9b8fb38c890a"
      },
      "execution_count": 8,
      "outputs": [
        {
          "output_type": "stream",
          "name": "stdout",
          "text": [
            "Columna:  median_home_val count    3993.000000\n",
            "mean     1158.437751\n",
            "std      1033.485773\n",
            "min         0.000000\n",
            "25%       548.000000\n",
            "50%       803.000000\n",
            "75%      1349.000000\n",
            "max      5982.000000\n",
            "Name: median_home_val, dtype: float64\n",
            "Columna:  ic2 count    3993.000000\n",
            "mean      400.713248\n",
            "std       180.568500\n",
            "min         0.000000\n",
            "25%       284.000000\n",
            "50%       366.000000\n",
            "75%       478.000000\n",
            "max      1500.000000\n",
            "Name: ic2, dtype: float64\n",
            "Columna:  ic4 count    3993.000000\n",
            "mean      444.732031\n",
            "std       175.004178\n",
            "min         0.000000\n",
            "25%       325.000000\n",
            "50%       410.000000\n",
            "75%       528.000000\n",
            "max      1331.000000\n",
            "Name: ic4, dtype: float64\n",
            "Columna:  ic5 count      3993.000000\n",
            "mean      16456.413724\n",
            "std        9455.318118\n",
            "min           0.000000\n",
            "25%       11136.000000\n",
            "50%       14356.000000\n",
            "75%       18780.000000\n",
            "max      174523.000000\n",
            "Name: ic5, dtype: float64\n",
            "Columna:  avggift count    3993.000000\n",
            "mean       11.785117\n",
            "std        10.172672\n",
            "min         2.260870\n",
            "25%         7.187500\n",
            "50%        10.000000\n",
            "75%        14.428571\n",
            "max       450.000000\n",
            "Name: avggift, dtype: float64\n",
            "Columna:  target_d count    3993.000000\n",
            "mean       15.665036\n",
            "std        12.703041\n",
            "min         1.000000\n",
            "25%        10.000000\n",
            "50%        14.000000\n",
            "75%        20.000000\n",
            "max       200.000000\n",
            "Name: target_d, dtype: float64\n"
          ]
        }
      ]
    },
    {
      "cell_type": "markdown",
      "source": [
        "### Debate\n",
        "What is the difference between population mean and sample mean"
      ],
      "metadata": {
        "id": "dqycXcVzf2Lv"
      }
    },
    {
      "cell_type": "markdown",
      "source": [
        "## Activity 2\n",
        "(Keep working on the same file.)\n",
        "\n",
        "1. Get the numeric data.\n",
        "2. Use the describe() method on the numeric data in the DataFrame.\n",
        "3. Print the median.\n",
        "4. Print IQR."
      ],
      "metadata": {
        "id": "B7evJ_EggI-2"
      }
    },
    {
      "cell_type": "code",
      "source": [
        "data= data.drop(['state','gender'],axis=1)\n"
      ],
      "metadata": {
        "id": "Q84CN3IvbQ9w"
      },
      "execution_count": 9,
      "outputs": []
    },
    {
      "cell_type": "code",
      "source": [
        "data"
      ],
      "metadata": {
        "colab": {
          "base_uri": "https://localhost:8080/",
          "height": 424
        },
        "id": "UjmKMuGibRAP",
        "outputId": "a85d57e1-baed-4ba9-96f5-39d0d5b1d35a"
      },
      "execution_count": 10,
      "outputs": [
        {
          "output_type": "execute_result",
          "data": {
            "text/plain": [
              "          id  median_home_val  median_household_income    ic2  ic3    ic4  \\\n",
              "0      44060      1158.437751                      392  430.0  466  520.0   \n",
              "1      96093       537.000000                      365  415.0  410  473.0   \n",
              "2      43333       725.000000                      301  340.0  361  436.0   \n",
              "3      21885      1158.437751                      401  407.0  399  413.0   \n",
              "4     190108       995.000000                      252  280.0  316  348.0   \n",
              "...      ...              ...                      ...    ...  ...    ...   \n",
              "3988   66762       632.000000                      279  336.0  339  388.0   \n",
              "3989    6443       595.000000                      252  263.0  262  274.0   \n",
              "3990  151175      2707.000000                      507  504.0  538  537.0   \n",
              "3991  151504      2666.000000                      535  609.0  612  653.0   \n",
              "3992   74303       444.000000                      225  264.0  269  299.0   \n",
              "\n",
              "          ic5    avggift  target_d  \n",
              "0     21975.0  28.000000     100.0  \n",
              "1     19387.0   5.666667       7.0  \n",
              "2     18837.0   4.111111       5.0  \n",
              "3     14014.0  27.277778      38.0  \n",
              "4     17991.0   6.000000       5.0  \n",
              "...       ...        ...       ...  \n",
              "3988  12653.0   8.533333       5.0  \n",
              "3989  11132.0  14.692308      20.0  \n",
              "3990  16165.0  12.117647      22.0  \n",
              "3991  24745.0  12.333333      21.0  \n",
              "3992  10088.0  17.142857      25.0  \n",
              "\n",
              "[3993 rows x 9 columns]"
            ],
            "text/html": [
              "\n",
              "  <div id=\"df-ac3c0389-e067-4aac-beaa-a235165f9502\">\n",
              "    <div class=\"colab-df-container\">\n",
              "      <div>\n",
              "<style scoped>\n",
              "    .dataframe tbody tr th:only-of-type {\n",
              "        vertical-align: middle;\n",
              "    }\n",
              "\n",
              "    .dataframe tbody tr th {\n",
              "        vertical-align: top;\n",
              "    }\n",
              "\n",
              "    .dataframe thead th {\n",
              "        text-align: right;\n",
              "    }\n",
              "</style>\n",
              "<table border=\"1\" class=\"dataframe\">\n",
              "  <thead>\n",
              "    <tr style=\"text-align: right;\">\n",
              "      <th></th>\n",
              "      <th>id</th>\n",
              "      <th>median_home_val</th>\n",
              "      <th>median_household_income</th>\n",
              "      <th>ic2</th>\n",
              "      <th>ic3</th>\n",
              "      <th>ic4</th>\n",
              "      <th>ic5</th>\n",
              "      <th>avggift</th>\n",
              "      <th>target_d</th>\n",
              "    </tr>\n",
              "  </thead>\n",
              "  <tbody>\n",
              "    <tr>\n",
              "      <th>0</th>\n",
              "      <td>44060</td>\n",
              "      <td>1158.437751</td>\n",
              "      <td>392</td>\n",
              "      <td>430.0</td>\n",
              "      <td>466</td>\n",
              "      <td>520.0</td>\n",
              "      <td>21975.0</td>\n",
              "      <td>28.000000</td>\n",
              "      <td>100.0</td>\n",
              "    </tr>\n",
              "    <tr>\n",
              "      <th>1</th>\n",
              "      <td>96093</td>\n",
              "      <td>537.000000</td>\n",
              "      <td>365</td>\n",
              "      <td>415.0</td>\n",
              "      <td>410</td>\n",
              "      <td>473.0</td>\n",
              "      <td>19387.0</td>\n",
              "      <td>5.666667</td>\n",
              "      <td>7.0</td>\n",
              "    </tr>\n",
              "    <tr>\n",
              "      <th>2</th>\n",
              "      <td>43333</td>\n",
              "      <td>725.000000</td>\n",
              "      <td>301</td>\n",
              "      <td>340.0</td>\n",
              "      <td>361</td>\n",
              "      <td>436.0</td>\n",
              "      <td>18837.0</td>\n",
              "      <td>4.111111</td>\n",
              "      <td>5.0</td>\n",
              "    </tr>\n",
              "    <tr>\n",
              "      <th>3</th>\n",
              "      <td>21885</td>\n",
              "      <td>1158.437751</td>\n",
              "      <td>401</td>\n",
              "      <td>407.0</td>\n",
              "      <td>399</td>\n",
              "      <td>413.0</td>\n",
              "      <td>14014.0</td>\n",
              "      <td>27.277778</td>\n",
              "      <td>38.0</td>\n",
              "    </tr>\n",
              "    <tr>\n",
              "      <th>4</th>\n",
              "      <td>190108</td>\n",
              "      <td>995.000000</td>\n",
              "      <td>252</td>\n",
              "      <td>280.0</td>\n",
              "      <td>316</td>\n",
              "      <td>348.0</td>\n",
              "      <td>17991.0</td>\n",
              "      <td>6.000000</td>\n",
              "      <td>5.0</td>\n",
              "    </tr>\n",
              "    <tr>\n",
              "      <th>...</th>\n",
              "      <td>...</td>\n",
              "      <td>...</td>\n",
              "      <td>...</td>\n",
              "      <td>...</td>\n",
              "      <td>...</td>\n",
              "      <td>...</td>\n",
              "      <td>...</td>\n",
              "      <td>...</td>\n",
              "      <td>...</td>\n",
              "    </tr>\n",
              "    <tr>\n",
              "      <th>3988</th>\n",
              "      <td>66762</td>\n",
              "      <td>632.000000</td>\n",
              "      <td>279</td>\n",
              "      <td>336.0</td>\n",
              "      <td>339</td>\n",
              "      <td>388.0</td>\n",
              "      <td>12653.0</td>\n",
              "      <td>8.533333</td>\n",
              "      <td>5.0</td>\n",
              "    </tr>\n",
              "    <tr>\n",
              "      <th>3989</th>\n",
              "      <td>6443</td>\n",
              "      <td>595.000000</td>\n",
              "      <td>252</td>\n",
              "      <td>263.0</td>\n",
              "      <td>262</td>\n",
              "      <td>274.0</td>\n",
              "      <td>11132.0</td>\n",
              "      <td>14.692308</td>\n",
              "      <td>20.0</td>\n",
              "    </tr>\n",
              "    <tr>\n",
              "      <th>3990</th>\n",
              "      <td>151175</td>\n",
              "      <td>2707.000000</td>\n",
              "      <td>507</td>\n",
              "      <td>504.0</td>\n",
              "      <td>538</td>\n",
              "      <td>537.0</td>\n",
              "      <td>16165.0</td>\n",
              "      <td>12.117647</td>\n",
              "      <td>22.0</td>\n",
              "    </tr>\n",
              "    <tr>\n",
              "      <th>3991</th>\n",
              "      <td>151504</td>\n",
              "      <td>2666.000000</td>\n",
              "      <td>535</td>\n",
              "      <td>609.0</td>\n",
              "      <td>612</td>\n",
              "      <td>653.0</td>\n",
              "      <td>24745.0</td>\n",
              "      <td>12.333333</td>\n",
              "      <td>21.0</td>\n",
              "    </tr>\n",
              "    <tr>\n",
              "      <th>3992</th>\n",
              "      <td>74303</td>\n",
              "      <td>444.000000</td>\n",
              "      <td>225</td>\n",
              "      <td>264.0</td>\n",
              "      <td>269</td>\n",
              "      <td>299.0</td>\n",
              "      <td>10088.0</td>\n",
              "      <td>17.142857</td>\n",
              "      <td>25.0</td>\n",
              "    </tr>\n",
              "  </tbody>\n",
              "</table>\n",
              "<p>3993 rows × 9 columns</p>\n",
              "</div>\n",
              "      <button class=\"colab-df-convert\" onclick=\"convertToInteractive('df-ac3c0389-e067-4aac-beaa-a235165f9502')\"\n",
              "              title=\"Convert this dataframe to an interactive table.\"\n",
              "              style=\"display:none;\">\n",
              "        \n",
              "  <svg xmlns=\"http://www.w3.org/2000/svg\" height=\"24px\"viewBox=\"0 0 24 24\"\n",
              "       width=\"24px\">\n",
              "    <path d=\"M0 0h24v24H0V0z\" fill=\"none\"/>\n",
              "    <path d=\"M18.56 5.44l.94 2.06.94-2.06 2.06-.94-2.06-.94-.94-2.06-.94 2.06-2.06.94zm-11 1L8.5 8.5l.94-2.06 2.06-.94-2.06-.94L8.5 2.5l-.94 2.06-2.06.94zm10 10l.94 2.06.94-2.06 2.06-.94-2.06-.94-.94-2.06-.94 2.06-2.06.94z\"/><path d=\"M17.41 7.96l-1.37-1.37c-.4-.4-.92-.59-1.43-.59-.52 0-1.04.2-1.43.59L10.3 9.45l-7.72 7.72c-.78.78-.78 2.05 0 2.83L4 21.41c.39.39.9.59 1.41.59.51 0 1.02-.2 1.41-.59l7.78-7.78 2.81-2.81c.8-.78.8-2.07 0-2.86zM5.41 20L4 18.59l7.72-7.72 1.47 1.35L5.41 20z\"/>\n",
              "  </svg>\n",
              "      </button>\n",
              "      \n",
              "  <style>\n",
              "    .colab-df-container {\n",
              "      display:flex;\n",
              "      flex-wrap:wrap;\n",
              "      gap: 12px;\n",
              "    }\n",
              "\n",
              "    .colab-df-convert {\n",
              "      background-color: #E8F0FE;\n",
              "      border: none;\n",
              "      border-radius: 50%;\n",
              "      cursor: pointer;\n",
              "      display: none;\n",
              "      fill: #1967D2;\n",
              "      height: 32px;\n",
              "      padding: 0 0 0 0;\n",
              "      width: 32px;\n",
              "    }\n",
              "\n",
              "    .colab-df-convert:hover {\n",
              "      background-color: #E2EBFA;\n",
              "      box-shadow: 0px 1px 2px rgba(60, 64, 67, 0.3), 0px 1px 3px 1px rgba(60, 64, 67, 0.15);\n",
              "      fill: #174EA6;\n",
              "    }\n",
              "\n",
              "    [theme=dark] .colab-df-convert {\n",
              "      background-color: #3B4455;\n",
              "      fill: #D2E3FC;\n",
              "    }\n",
              "\n",
              "    [theme=dark] .colab-df-convert:hover {\n",
              "      background-color: #434B5C;\n",
              "      box-shadow: 0px 1px 3px 1px rgba(0, 0, 0, 0.15);\n",
              "      filter: drop-shadow(0px 1px 2px rgba(0, 0, 0, 0.3));\n",
              "      fill: #FFFFFF;\n",
              "    }\n",
              "  </style>\n",
              "\n",
              "      <script>\n",
              "        const buttonEl =\n",
              "          document.querySelector('#df-ac3c0389-e067-4aac-beaa-a235165f9502 button.colab-df-convert');\n",
              "        buttonEl.style.display =\n",
              "          google.colab.kernel.accessAllowed ? 'block' : 'none';\n",
              "\n",
              "        async function convertToInteractive(key) {\n",
              "          const element = document.querySelector('#df-ac3c0389-e067-4aac-beaa-a235165f9502');\n",
              "          const dataTable =\n",
              "            await google.colab.kernel.invokeFunction('convertToInteractive',\n",
              "                                                     [key], {});\n",
              "          if (!dataTable) return;\n",
              "\n",
              "          const docLinkHtml = 'Like what you see? Visit the ' +\n",
              "            '<a target=\"_blank\" href=https://colab.research.google.com/notebooks/data_table.ipynb>data table notebook</a>'\n",
              "            + ' to learn more about interactive tables.';\n",
              "          element.innerHTML = '';\n",
              "          dataTable['output_type'] = 'display_data';\n",
              "          await google.colab.output.renderOutput(dataTable, element);\n",
              "          const docLink = document.createElement('div');\n",
              "          docLink.innerHTML = docLinkHtml;\n",
              "          element.appendChild(docLink);\n",
              "        }\n",
              "      </script>\n",
              "    </div>\n",
              "  </div>\n",
              "  "
            ]
          },
          "metadata": {},
          "execution_count": 10
        }
      ]
    },
    {
      "cell_type": "code",
      "source": [
        "data.describe()"
      ],
      "metadata": {
        "colab": {
          "base_uri": "https://localhost:8080/",
          "height": 300
        },
        "id": "koRtwk7mkmOs",
        "outputId": "2dbe7407-b7e9-438e-efe1-807aea0b6576"
      },
      "execution_count": 11,
      "outputs": [
        {
          "output_type": "execute_result",
          "data": {
            "text/plain": [
              "                  id  median_home_val  median_household_income          ic2  \\\n",
              "count    3993.000000      3993.000000              3993.000000  3993.000000   \n",
              "mean    98929.308039      1158.437751               351.622840   400.713248   \n",
              "std     58179.839090      1033.485773               168.488445   180.568500   \n",
              "min        12.000000         0.000000                 0.000000     0.000000   \n",
              "25%     46153.000000       548.000000               239.000000   284.000000   \n",
              "50%    101432.000000       803.000000               318.000000   366.000000   \n",
              "75%    151653.000000      1349.000000               425.000000   478.000000   \n",
              "max    191779.000000      5982.000000              1500.000000  1500.000000   \n",
              "\n",
              "               ic3          ic4            ic5      avggift     target_d  \n",
              "count  3993.000000  3993.000000    3993.000000  3993.000000  3993.000000  \n",
              "mean    399.876283   444.732031   16456.413724    11.785117    15.665036  \n",
              "std     164.822741   175.004178    9455.318118    10.172672    12.703041  \n",
              "min       0.000000     0.000000       0.000000     2.260870     1.000000  \n",
              "25%     287.000000   325.000000   11136.000000     7.187500    10.000000  \n",
              "50%     365.000000   410.000000   14356.000000    10.000000    14.000000  \n",
              "75%     480.000000   528.000000   18780.000000    14.428571    20.000000  \n",
              "max    1311.000000  1331.000000  174523.000000   450.000000   200.000000  "
            ],
            "text/html": [
              "\n",
              "  <div id=\"df-3af2cbd9-51b7-4193-87aa-7f2587fd05ab\">\n",
              "    <div class=\"colab-df-container\">\n",
              "      <div>\n",
              "<style scoped>\n",
              "    .dataframe tbody tr th:only-of-type {\n",
              "        vertical-align: middle;\n",
              "    }\n",
              "\n",
              "    .dataframe tbody tr th {\n",
              "        vertical-align: top;\n",
              "    }\n",
              "\n",
              "    .dataframe thead th {\n",
              "        text-align: right;\n",
              "    }\n",
              "</style>\n",
              "<table border=\"1\" class=\"dataframe\">\n",
              "  <thead>\n",
              "    <tr style=\"text-align: right;\">\n",
              "      <th></th>\n",
              "      <th>id</th>\n",
              "      <th>median_home_val</th>\n",
              "      <th>median_household_income</th>\n",
              "      <th>ic2</th>\n",
              "      <th>ic3</th>\n",
              "      <th>ic4</th>\n",
              "      <th>ic5</th>\n",
              "      <th>avggift</th>\n",
              "      <th>target_d</th>\n",
              "    </tr>\n",
              "  </thead>\n",
              "  <tbody>\n",
              "    <tr>\n",
              "      <th>count</th>\n",
              "      <td>3993.000000</td>\n",
              "      <td>3993.000000</td>\n",
              "      <td>3993.000000</td>\n",
              "      <td>3993.000000</td>\n",
              "      <td>3993.000000</td>\n",
              "      <td>3993.000000</td>\n",
              "      <td>3993.000000</td>\n",
              "      <td>3993.000000</td>\n",
              "      <td>3993.000000</td>\n",
              "    </tr>\n",
              "    <tr>\n",
              "      <th>mean</th>\n",
              "      <td>98929.308039</td>\n",
              "      <td>1158.437751</td>\n",
              "      <td>351.622840</td>\n",
              "      <td>400.713248</td>\n",
              "      <td>399.876283</td>\n",
              "      <td>444.732031</td>\n",
              "      <td>16456.413724</td>\n",
              "      <td>11.785117</td>\n",
              "      <td>15.665036</td>\n",
              "    </tr>\n",
              "    <tr>\n",
              "      <th>std</th>\n",
              "      <td>58179.839090</td>\n",
              "      <td>1033.485773</td>\n",
              "      <td>168.488445</td>\n",
              "      <td>180.568500</td>\n",
              "      <td>164.822741</td>\n",
              "      <td>175.004178</td>\n",
              "      <td>9455.318118</td>\n",
              "      <td>10.172672</td>\n",
              "      <td>12.703041</td>\n",
              "    </tr>\n",
              "    <tr>\n",
              "      <th>min</th>\n",
              "      <td>12.000000</td>\n",
              "      <td>0.000000</td>\n",
              "      <td>0.000000</td>\n",
              "      <td>0.000000</td>\n",
              "      <td>0.000000</td>\n",
              "      <td>0.000000</td>\n",
              "      <td>0.000000</td>\n",
              "      <td>2.260870</td>\n",
              "      <td>1.000000</td>\n",
              "    </tr>\n",
              "    <tr>\n",
              "      <th>25%</th>\n",
              "      <td>46153.000000</td>\n",
              "      <td>548.000000</td>\n",
              "      <td>239.000000</td>\n",
              "      <td>284.000000</td>\n",
              "      <td>287.000000</td>\n",
              "      <td>325.000000</td>\n",
              "      <td>11136.000000</td>\n",
              "      <td>7.187500</td>\n",
              "      <td>10.000000</td>\n",
              "    </tr>\n",
              "    <tr>\n",
              "      <th>50%</th>\n",
              "      <td>101432.000000</td>\n",
              "      <td>803.000000</td>\n",
              "      <td>318.000000</td>\n",
              "      <td>366.000000</td>\n",
              "      <td>365.000000</td>\n",
              "      <td>410.000000</td>\n",
              "      <td>14356.000000</td>\n",
              "      <td>10.000000</td>\n",
              "      <td>14.000000</td>\n",
              "    </tr>\n",
              "    <tr>\n",
              "      <th>75%</th>\n",
              "      <td>151653.000000</td>\n",
              "      <td>1349.000000</td>\n",
              "      <td>425.000000</td>\n",
              "      <td>478.000000</td>\n",
              "      <td>480.000000</td>\n",
              "      <td>528.000000</td>\n",
              "      <td>18780.000000</td>\n",
              "      <td>14.428571</td>\n",
              "      <td>20.000000</td>\n",
              "    </tr>\n",
              "    <tr>\n",
              "      <th>max</th>\n",
              "      <td>191779.000000</td>\n",
              "      <td>5982.000000</td>\n",
              "      <td>1500.000000</td>\n",
              "      <td>1500.000000</td>\n",
              "      <td>1311.000000</td>\n",
              "      <td>1331.000000</td>\n",
              "      <td>174523.000000</td>\n",
              "      <td>450.000000</td>\n",
              "      <td>200.000000</td>\n",
              "    </tr>\n",
              "  </tbody>\n",
              "</table>\n",
              "</div>\n",
              "      <button class=\"colab-df-convert\" onclick=\"convertToInteractive('df-3af2cbd9-51b7-4193-87aa-7f2587fd05ab')\"\n",
              "              title=\"Convert this dataframe to an interactive table.\"\n",
              "              style=\"display:none;\">\n",
              "        \n",
              "  <svg xmlns=\"http://www.w3.org/2000/svg\" height=\"24px\"viewBox=\"0 0 24 24\"\n",
              "       width=\"24px\">\n",
              "    <path d=\"M0 0h24v24H0V0z\" fill=\"none\"/>\n",
              "    <path d=\"M18.56 5.44l.94 2.06.94-2.06 2.06-.94-2.06-.94-.94-2.06-.94 2.06-2.06.94zm-11 1L8.5 8.5l.94-2.06 2.06-.94-2.06-.94L8.5 2.5l-.94 2.06-2.06.94zm10 10l.94 2.06.94-2.06 2.06-.94-2.06-.94-.94-2.06-.94 2.06-2.06.94z\"/><path d=\"M17.41 7.96l-1.37-1.37c-.4-.4-.92-.59-1.43-.59-.52 0-1.04.2-1.43.59L10.3 9.45l-7.72 7.72c-.78.78-.78 2.05 0 2.83L4 21.41c.39.39.9.59 1.41.59.51 0 1.02-.2 1.41-.59l7.78-7.78 2.81-2.81c.8-.78.8-2.07 0-2.86zM5.41 20L4 18.59l7.72-7.72 1.47 1.35L5.41 20z\"/>\n",
              "  </svg>\n",
              "      </button>\n",
              "      \n",
              "  <style>\n",
              "    .colab-df-container {\n",
              "      display:flex;\n",
              "      flex-wrap:wrap;\n",
              "      gap: 12px;\n",
              "    }\n",
              "\n",
              "    .colab-df-convert {\n",
              "      background-color: #E8F0FE;\n",
              "      border: none;\n",
              "      border-radius: 50%;\n",
              "      cursor: pointer;\n",
              "      display: none;\n",
              "      fill: #1967D2;\n",
              "      height: 32px;\n",
              "      padding: 0 0 0 0;\n",
              "      width: 32px;\n",
              "    }\n",
              "\n",
              "    .colab-df-convert:hover {\n",
              "      background-color: #E2EBFA;\n",
              "      box-shadow: 0px 1px 2px rgba(60, 64, 67, 0.3), 0px 1px 3px 1px rgba(60, 64, 67, 0.15);\n",
              "      fill: #174EA6;\n",
              "    }\n",
              "\n",
              "    [theme=dark] .colab-df-convert {\n",
              "      background-color: #3B4455;\n",
              "      fill: #D2E3FC;\n",
              "    }\n",
              "\n",
              "    [theme=dark] .colab-df-convert:hover {\n",
              "      background-color: #434B5C;\n",
              "      box-shadow: 0px 1px 3px 1px rgba(0, 0, 0, 0.15);\n",
              "      filter: drop-shadow(0px 1px 2px rgba(0, 0, 0, 0.3));\n",
              "      fill: #FFFFFF;\n",
              "    }\n",
              "  </style>\n",
              "\n",
              "      <script>\n",
              "        const buttonEl =\n",
              "          document.querySelector('#df-3af2cbd9-51b7-4193-87aa-7f2587fd05ab button.colab-df-convert');\n",
              "        buttonEl.style.display =\n",
              "          google.colab.kernel.accessAllowed ? 'block' : 'none';\n",
              "\n",
              "        async function convertToInteractive(key) {\n",
              "          const element = document.querySelector('#df-3af2cbd9-51b7-4193-87aa-7f2587fd05ab');\n",
              "          const dataTable =\n",
              "            await google.colab.kernel.invokeFunction('convertToInteractive',\n",
              "                                                     [key], {});\n",
              "          if (!dataTable) return;\n",
              "\n",
              "          const docLinkHtml = 'Like what you see? Visit the ' +\n",
              "            '<a target=\"_blank\" href=https://colab.research.google.com/notebooks/data_table.ipynb>data table notebook</a>'\n",
              "            + ' to learn more about interactive tables.';\n",
              "          element.innerHTML = '';\n",
              "          dataTable['output_type'] = 'display_data';\n",
              "          await google.colab.output.renderOutput(dataTable, element);\n",
              "          const docLink = document.createElement('div');\n",
              "          docLink.innerHTML = docLinkHtml;\n",
              "          element.appendChild(docLink);\n",
              "        }\n",
              "      </script>\n",
              "    </div>\n",
              "  </div>\n",
              "  "
            ]
          },
          "metadata": {},
          "execution_count": 11
        }
      ]
    },
    {
      "cell_type": "code",
      "source": [
        "for i in data.columns:\n",
        "  media = np.median(data[i])\n",
        "  print('Columna: ',i,' su media es: ',media)\n",
        "\n",
        "#np.median(data)"
      ],
      "metadata": {
        "colab": {
          "base_uri": "https://localhost:8080/"
        },
        "id": "VRE-24LBkmQg",
        "outputId": "5bb04c80-1443-413d-9c84-d8bf7d0e785e"
      },
      "execution_count": 12,
      "outputs": [
        {
          "output_type": "stream",
          "name": "stdout",
          "text": [
            "Columna:  id  su media es:  101432.0\n",
            "Columna:  median_home_val  su media es:  803.0\n",
            "Columna:  median_household_income  su media es:  318.0\n",
            "Columna:  ic2  su media es:  366.0\n",
            "Columna:  ic3  su media es:  365.0\n",
            "Columna:  ic4  su media es:  410.0\n",
            "Columna:  ic5  su media es:  14356.0\n",
            "Columna:  avggift  su media es:  10.0\n",
            "Columna:  target_d  su media es:  14.0\n"
          ]
        }
      ]
    },
    {
      "cell_type": "markdown",
      "source": [
        "# Activity 3\n",
        "\n",
        "Refer to the file files_for_activities/merged_clean_ver2.csv for this exercise.\n",
        "\n",
        "1. Load data from the merged_clean_ver2.csv file.\n",
        "2. Plot Pearson Correlation Heatmap.\n",
        "3. Plot Spearman Correlation Heatmap.\n",
        "4. Plot Kendall Correlation Heatmap."
      ],
      "metadata": {
        "id": "DIM9OhEg6ciM"
      }
    },
    {
      "cell_type": "code",
      "source": [
        "import scipy.stats as stats\n",
        "import seaborn as sns\n",
        "import matplotlib.pyplot as plt"
      ],
      "metadata": {
        "id": "ReoVIejpkmUS"
      },
      "execution_count": 41,
      "outputs": []
    },
    {
      "cell_type": "code",
      "source": [
        "data2 = pd.read_csv('merged_clean_ver2.csv')"
      ],
      "metadata": {
        "id": "q_1PnnZIQ_X9"
      },
      "execution_count": 22,
      "outputs": []
    },
    {
      "cell_type": "code",
      "source": [
        "data2"
      ],
      "metadata": {
        "id": "HZZa6B0nRO4M"
      },
      "execution_count": null,
      "outputs": []
    },
    {
      "cell_type": "code",
      "source": [
        "data2.pop('Unnamed: 0')"
      ],
      "metadata": {
        "id": "_6XTrDmQRRrC"
      },
      "execution_count": null,
      "outputs": []
    },
    {
      "cell_type": "code",
      "source": [
        "data2"
      ],
      "metadata": {
        "id": "9nWhBcuORZ6I"
      },
      "execution_count": null,
      "outputs": []
    },
    {
      "cell_type": "code",
      "source": [
        "data2.dtypes"
      ],
      "metadata": {
        "id": "3exOba6r7b3E"
      },
      "execution_count": null,
      "outputs": []
    },
    {
      "cell_type": "code",
      "source": [
        "new_data2= data2.drop(['state', 'gender','ic2_'],axis=1)"
      ],
      "metadata": {
        "id": "ibvXMnDyRhDt"
      },
      "execution_count": 28,
      "outputs": []
    },
    {
      "cell_type": "code",
      "source": [
        "new_data2"
      ],
      "metadata": {
        "id": "v6kQS_oJR9gy"
      },
      "execution_count": null,
      "outputs": []
    },
    {
      "cell_type": "code",
      "source": [
        "new_data2.corr(method='pearson')"
      ],
      "metadata": {
        "id": "wnWBK1vqSHRV"
      },
      "execution_count": null,
      "outputs": []
    },
    {
      "cell_type": "code",
      "source": [
        "sns.heatmap(new_data2.corr(method='pearson'),annot=True)"
      ],
      "metadata": {
        "colab": {
          "base_uri": "https://localhost:8080/",
          "height": 412
        },
        "id": "YUWIAzI2SppG",
        "outputId": "028cbda2-80b0-431b-ab6e-79df38ac6e17"
      },
      "execution_count": 62,
      "outputs": [
        {
          "output_type": "execute_result",
          "data": {
            "text/plain": [
              "<matplotlib.axes._subplots.AxesSubplot at 0x7f591fd18910>"
            ]
          },
          "metadata": {},
          "execution_count": 62
        },
        {
          "output_type": "display_data",
          "data": {
            "text/plain": [
              "<Figure size 432x288 with 2 Axes>"
            ],
            "image/png": "[encoded data removed]"
          },
          "metadata": {
            "needs_background": "light"
          }
        }
      ]
    },
    {
      "cell_type": "code",
      "source": [
        "sns.heatmap(new_data2.corr(method='spearman'),annot=True)"
      ],
      "metadata": {
        "colab": {
          "base_uri": "https://localhost:8080/",
          "height": 412
        },
        "id": "rANCHXL47KHE",
        "outputId": "e421f0a5-1cfa-44b6-f1d7-6a570948addf"
      },
      "execution_count": 63,
      "outputs": [
        {
          "output_type": "execute_result",
          "data": {
            "text/plain": [
              "<matplotlib.axes._subplots.AxesSubplot at 0x7f591f2d2fd0>"
            ]
          },
          "metadata": {},
          "execution_count": 63
        },
        {
          "output_type": "display_data",
          "data": {
            "text/plain": [
              "<Figure size 432x288 with 2 Axes>"
            ],
            "image/png": "[encoded data removed]"
          },
          "metadata": {
            "needs_background": "light"
          }
        }
      ]
    },
    {
      "cell_type": "code",
      "source": [
        "sns.heatmap(new_data2.corr(method='kendall'),annot=True)"
      ],
      "metadata": {
        "colab": {
          "base_uri": "https://localhost:8080/",
          "height": 412
        },
        "id": "hXcZyeik7KJU",
        "outputId": "32b640c8-0ca3-4b56-fa28-58aad6ec29e8"
      },
      "execution_count": 64,
      "outputs": [
        {
          "output_type": "execute_result",
          "data": {
            "text/plain": [
              "<matplotlib.axes._subplots.AxesSubplot at 0x7f591f2cfc40>"
            ]
          },
          "metadata": {},
          "execution_count": 64
        },
        {
          "output_type": "display_data",
          "data": {
            "text/plain": [
              "<Figure size 432x288 with 2 Axes>"
            ],
            "image/png": "[encoded data removed]"
          },
          "metadata": {
            "needs_background": "light"
          }
        }
      ]
    }
  ]
}